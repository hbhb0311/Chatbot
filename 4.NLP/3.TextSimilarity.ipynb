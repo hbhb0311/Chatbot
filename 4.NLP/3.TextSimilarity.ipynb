{
  "nbformat": 4,
  "nbformat_minor": 0,
  "metadata": {
    "colab": {
      "name": "3.TextSimilarity.ipynb",
      "provenance": [],
      "authorship_tag": "ABX9TyP7GOKpkzLPS156sU0wngll",
      "include_colab_link": true
    },
    "kernelspec": {
      "name": "python3",
      "display_name": "Python 3"
    },
    "language_info": {
      "name": "python"
    }
  },
  "cells": [
    {
      "cell_type": "markdown",
      "metadata": {
        "id": "view-in-github",
        "colab_type": "text"
      },
      "source": [
        "<a href=\"https://colab.research.google.com/github/hbhb0311/LikelionStudy/blob/main/4.NLP/3.TextSimilarity.ipynb\" target=\"_parent\"><img src=\"https://colab.research.google.com/assets/colab-badge.svg\" alt=\"Open In Colab\"/></a>"
      ]
    },
    {
      "cell_type": "markdown",
      "metadata": {
        "id": "eEqIMZyhclns"
      },
      "source": [
        "### n-gram 유사도\n",
        "\n"
      ]
    },
    {
      "cell_type": "code",
      "metadata": {
        "id": "sWF2Q4Mhdo8Y"
      },
      "source": [
        "!pip install konlpy"
      ],
      "execution_count": null,
      "outputs": []
    },
    {
      "cell_type": "code",
      "metadata": {
        "id": "QyHN4ND3FmTM"
      },
      "source": [
        "from konlpy.tag import Komoran\n",
        "\n",
        "# 실험 문장 정의\n",
        "sentence1 = '6월에 뉴턴은 선생님의 제안으로 트리니티에 입학하였다.'\n",
        "sentence2 = '6월에 뉴턴은 선생님의 제안으로 대학교에 입학하였다.'\n",
        "sentence3 = '나는 맛있는 밥을 뉴턴 선생님과 함께 먹었다.'"
      ],
      "execution_count": 2,
      "outputs": []
    },
    {
      "cell_type": "code",
      "metadata": {
        "id": "B8TJSP9LdCDc"
      },
      "source": [
        "# 형태소 분석기로 명사 추출\n",
        "komoran = Komoran()\n",
        "\n",
        "bow1 = komoran.nouns(sentence1)\n",
        "bow2 = komoran.nouns(sentence2)\n",
        "bow3 = komoran.nouns(sentence3)"
      ],
      "execution_count": 3,
      "outputs": []
    },
    {
      "cell_type": "code",
      "metadata": {
        "id": "YXOfH2eyd-ax"
      },
      "source": [
        "# n-gram을 해주는 함수 \n",
        "def word_ngram(bow, num_gram):\n",
        "  text = tuple(bow)\n",
        "  ngrams = [text[i : i+num_gram] for i in range(len(text))]\n",
        "  return ngrams"
      ],
      "execution_count": 4,
      "outputs": []
    },
    {
      "cell_type": "code",
      "metadata": {
        "id": "RGGrIH26gNMc"
      },
      "source": [
        "# 함수 이용해 n-gram 토큰 추출\n",
        "doc1 = word_ngram(bow1, 2)\n",
        "doc2 = word_ngram(bow2, 2)\n",
        "doc3 = word_ngram(bow3, 2)"
      ],
      "execution_count": 5,
      "outputs": []
    },
    {
      "cell_type": "code",
      "metadata": {
        "id": "1DW5vMHrgkx_"
      },
      "source": [
        "# 내가 만든 코드 : 길이가 다를 때 오류 발생\n",
        "def similarity(doc1, doc2):\n",
        "  cnt = 0\n",
        "  for i in range(len(doc1)):\n",
        "    if doc1[i] == doc2[i]:\n",
        "      cnt +=1\n",
        "  \n",
        "  return cnt / len(doc1)"
      ],
      "execution_count": 6,
      "outputs": []
    },
    {
      "cell_type": "code",
      "metadata": {
        "id": "gQAyLk_QhH7P"
      },
      "source": [
        "def similarity(doc1, doc2):\n",
        "  cnt = 0\n",
        "  for token in doc1:\n",
        "    if token in doc2:\n",
        "      cnt += 1\n",
        "  \n",
        "  return cnt / len(doc1)"
      ],
      "execution_count": 7,
      "outputs": []
    },
    {
      "cell_type": "code",
      "metadata": {
        "colab": {
          "base_uri": "https://localhost:8080/"
        },
        "id": "U2tirkh4jKgX",
        "outputId": "ac15b842-d926-4003-c266-570800000fa8"
      },
      "source": [
        "# 유사도 계산\n",
        "r1 = similarity(doc1, doc2)\n",
        "r2 = similarity(doc3, doc1)\n",
        "\n",
        "print(r1)\n",
        "print(r2)"
      ],
      "execution_count": 8,
      "outputs": [
        {
          "output_type": "stream",
          "name": "stdout",
          "text": [
            "0.6666666666666666\n",
            "0.0\n"
          ]
        }
      ]
    },
    {
      "cell_type": "markdown",
      "metadata": {
        "id": "_tdS4W7XGMqS"
      },
      "source": [
        "### 코사인 유사도"
      ]
    },
    {
      "cell_type": "code",
      "metadata": {
        "id": "qsf8ygR7jdUW"
      },
      "source": [
        "from konlpy.tag import Komoran\n",
        "import numpy as np"
      ],
      "execution_count": 9,
      "outputs": []
    },
    {
      "cell_type": "code",
      "metadata": {
        "id": "vx_vTXkDGcgt"
      },
      "source": [
        "def cos_sim(x, y):\n",
        "  return np.dot(x,y) / (np.linalg.norm(x) * np.linalg.norm(y))"
      ],
      "execution_count": 11,
      "outputs": []
    },
    {
      "cell_type": "code",
      "metadata": {
        "colab": {
          "base_uri": "https://localhost:8080/"
        },
        "id": "xlxp5mLXGvef",
        "outputId": "4f940734-0043-4152-fff1-a273b39a6ed5"
      },
      "source": [
        "# 실험 문장 정의\n",
        "sentence1 = '6월에 뉴턴은 선생님의 제안으로 트리니티에 입학하였다.'\n",
        "sentence2 = '6월에 뉴턴은 선생님의 제안으로 대학교에 입학하였다.'\n",
        "sentence3 = '나는 맛있는 밥을 뉴턴 선생님과 함께 먹었다.'\n",
        "\n",
        "# 형태소 분석기로 명사 추출\n",
        "komoran = Komoran()\n",
        "\n",
        "bow1 = komoran.nouns(sentence1)\n",
        "bow2 = komoran.nouns(sentence2)\n",
        "bow3 = komoran.nouns(sentence3)\n",
        "\n",
        "# 단어 묶음 리스트를 하나로 합침\n",
        "bow = bow1 + bow2 + bow3\n",
        "print(bow)"
      ],
      "execution_count": 12,
      "outputs": [
        {
          "output_type": "stream",
          "name": "stdout",
          "text": [
            "['6월', '뉴턴', '선생님', '제안', '트리니티', '입학', '6월', '뉴턴', '선생님', '제안', '대학교', '입학', '밥', '뉴턴', '선생', '님과 함께']\n"
          ]
        }
      ]
    },
    {
      "cell_type": "code",
      "metadata": {
        "id": "evNj0cGdHX7F"
      },
      "source": [
        "# 단어 묶음에서 중복 제거해 단어 사전 구축\n",
        "word_dics = []\n",
        "\n",
        "for token in bow:\n",
        "  if token not in word_dics:\n",
        "    word_dics.append(token)"
      ],
      "execution_count": 13,
      "outputs": []
    },
    {
      "cell_type": "code",
      "metadata": {
        "colab": {
          "base_uri": "https://localhost:8080/"
        },
        "id": "Krsw9h6AHvY1",
        "outputId": "5755ab26-9fe9-4390-e1c6-5c787df20594"
      },
      "source": [
        "word_dics"
      ],
      "execution_count": 14,
      "outputs": [
        {
          "output_type": "execute_result",
          "data": {
            "text/plain": [
              "['6월', '뉴턴', '선생님', '제안', '트리니티', '입학', '대학교', '밥', '선생', '님과 함께']"
            ]
          },
          "metadata": {},
          "execution_count": 14
        }
      ]
    },
    {
      "cell_type": "code",
      "metadata": {
        "id": "KK13s6_yHxGT"
      },
      "source": [
        "# TDM 만드는 함수\n",
        "def make_term_doc_mat(sentence_bow, word_dics):\n",
        "  freq_mat = {}\n",
        "\n",
        "  for word in word_dics:\n",
        "    freq_mat[word] = 0\n",
        "  \n",
        "  for word in word_dics:\n",
        "    if word in sentence_bow:\n",
        "      freq_mat[word] += 1\n",
        "\n",
        "  return freq_mat"
      ],
      "execution_count": 15,
      "outputs": []
    },
    {
      "cell_type": "code",
      "metadata": {
        "colab": {
          "base_uri": "https://localhost:8080/"
        },
        "id": "3PcGLnsCJOLF",
        "outputId": "abaf00f5-20cf-402d-f914-4bece0dbbbd9"
      },
      "source": [
        "# 문장별 단어 빈도 계산\n",
        "freq_list1 = make_term_doc_mat(bow1, word_dics)\n",
        "freq_list2 = make_term_doc_mat(bow2, word_dics)\n",
        "freq_list3 = make_term_doc_mat(bow3, word_dics)\n",
        "\n",
        "print(freq_list1)\n",
        "print(freq_list2)\n",
        "print(freq_list3)"
      ],
      "execution_count": 16,
      "outputs": [
        {
          "output_type": "stream",
          "name": "stdout",
          "text": [
            "{'6월': 1, '뉴턴': 1, '선생님': 1, '제안': 1, '트리니티': 1, '입학': 1, '대학교': 0, '밥': 0, '선생': 0, '님과 함께': 0}\n",
            "{'6월': 1, '뉴턴': 1, '선생님': 1, '제안': 1, '트리니티': 0, '입학': 1, '대학교': 1, '밥': 0, '선생': 0, '님과 함께': 0}\n",
            "{'6월': 0, '뉴턴': 1, '선생님': 0, '제안': 0, '트리니티': 0, '입학': 0, '대학교': 0, '밥': 1, '선생': 1, '님과 함께': 1}\n"
          ]
        }
      ]
    },
    {
      "cell_type": "code",
      "metadata": {
        "id": "9YRykKupKG_A"
      },
      "source": [
        "# 단어 벡터 만드는 함수\n",
        "def make_vector(tdm):\n",
        "  vec = []\n",
        "  for key in tdm:\n",
        "    vec.append(tdm[key])\n",
        "  \n",
        "  return vec"
      ],
      "execution_count": 17,
      "outputs": []
    },
    {
      "cell_type": "code",
      "metadata": {
        "id": "hAEATvsUJ_x6"
      },
      "source": [
        "# 문장 벡터 생성\n",
        "doc1 = np.array(make_vector(freq_list1))\n",
        "doc2 = np.array(make_vector(freq_list2))\n",
        "doc3 = np.array(make_vector(freq_list3))"
      ],
      "execution_count": 18,
      "outputs": []
    },
    {
      "cell_type": "code",
      "metadata": {
        "colab": {
          "base_uri": "https://localhost:8080/"
        },
        "id": "KyhNWRHMK16j",
        "outputId": "ea124705-b00a-4e53-a27e-9ab758fc915e"
      },
      "source": [
        "# 코사인 유사도 계산\n",
        "r1 = cos_sim(doc1, doc2)\n",
        "r2 = cos_sim(doc3, doc1)\n",
        "\n",
        "print(r1)\n",
        "print(r2)"
      ],
      "execution_count": 19,
      "outputs": [
        {
          "output_type": "stream",
          "name": "stdout",
          "text": [
            "0.8333333333333335\n",
            "0.20412414523193154\n"
          ]
        }
      ]
    }
  ]
}