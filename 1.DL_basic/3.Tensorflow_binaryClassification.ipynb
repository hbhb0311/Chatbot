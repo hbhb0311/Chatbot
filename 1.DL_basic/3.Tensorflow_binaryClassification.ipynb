{
  "nbformat": 4,
  "nbformat_minor": 0,
  "metadata": {
    "colab": {
      "name": "3.Tensorflow_binaryClassification.ipynb",
      "provenance": [],
      "collapsed_sections": [],
      "authorship_tag": "ABX9TyOfOWHyJr01hlpjDPNp/P+a",
      "include_colab_link": true
    },
    "kernelspec": {
      "name": "python3",
      "display_name": "Python 3"
    },
    "language_info": {
      "name": "python"
    },
    "accelerator": "GPU"
  },
  "cells": [
    {
      "cell_type": "markdown",
      "metadata": {
        "id": "view-in-github",
        "colab_type": "text"
      },
      "source": [
        "<a href=\"https://colab.research.google.com/github/hbhb0311/LikelionStudy/blob/main/1.DL_basic/3.Tensorflow_binaryClassification.ipynb\" target=\"_parent\"><img src=\"https://colab.research.google.com/assets/colab-badge.svg\" alt=\"Open In Colab\"/></a>"
      ]
    },
    {
      "cell_type": "markdown",
      "metadata": {
        "id": "m_UVsLfQ3QFx"
      },
      "source": [
        "# 이항 분류"
      ]
    },
    {
      "cell_type": "markdown",
      "metadata": {
        "id": "7QFDZJDU3iYp"
      },
      "source": [
        "## 와인 데이터"
      ]
    },
    {
      "cell_type": "markdown",
      "metadata": {
        "id": "KmED1AFM3k8V"
      },
      "source": [
        "### 데이터 불러오기"
      ]
    },
    {
      "cell_type": "code",
      "metadata": {
        "id": "TrWJQ7-gqmVX"
      },
      "source": [
        "import pandas as pd\n",
        "import numpy as np\n",
        "import matplotlib.pyplot as plt\n",
        "import tensorflow as tf"
      ],
      "execution_count": 1,
      "outputs": []
    },
    {
      "cell_type": "code",
      "metadata": {
        "id": "7jCwjCks3MkJ"
      },
      "source": [
        "red = pd.read_csv('http://archive.ics.uci.edu/ml/machine-learning-databases/wine-quality/winequality-red.csv', sep=';')\n",
        "white = pd.read_csv('http://archive.ics.uci.edu/ml/machine-learning-databases/wine-quality/winequality-white.csv', sep=';')"
      ],
      "execution_count": 2,
      "outputs": []
    },
    {
      "cell_type": "code",
      "metadata": {
        "colab": {
          "base_uri": "https://localhost:8080/",
          "height": 144
        },
        "id": "e5fLQOt13xVr",
        "outputId": "81e9dac7-d7f1-4006-b1a9-ba81f50d4141"
      },
      "source": [
        "red.head(2)"
      ],
      "execution_count": 3,
      "outputs": [
        {
          "output_type": "execute_result",
          "data": {
            "text/html": [
              "<div>\n",
              "<style scoped>\n",
              "    .dataframe tbody tr th:only-of-type {\n",
              "        vertical-align: middle;\n",
              "    }\n",
              "\n",
              "    .dataframe tbody tr th {\n",
              "        vertical-align: top;\n",
              "    }\n",
              "\n",
              "    .dataframe thead th {\n",
              "        text-align: right;\n",
              "    }\n",
              "</style>\n",
              "<table border=\"1\" class=\"dataframe\">\n",
              "  <thead>\n",
              "    <tr style=\"text-align: right;\">\n",
              "      <th></th>\n",
              "      <th>fixed acidity</th>\n",
              "      <th>volatile acidity</th>\n",
              "      <th>citric acid</th>\n",
              "      <th>residual sugar</th>\n",
              "      <th>chlorides</th>\n",
              "      <th>free sulfur dioxide</th>\n",
              "      <th>total sulfur dioxide</th>\n",
              "      <th>density</th>\n",
              "      <th>pH</th>\n",
              "      <th>sulphates</th>\n",
              "      <th>alcohol</th>\n",
              "      <th>quality</th>\n",
              "    </tr>\n",
              "  </thead>\n",
              "  <tbody>\n",
              "    <tr>\n",
              "      <th>0</th>\n",
              "      <td>7.4</td>\n",
              "      <td>0.70</td>\n",
              "      <td>0.0</td>\n",
              "      <td>1.9</td>\n",
              "      <td>0.076</td>\n",
              "      <td>11.0</td>\n",
              "      <td>34.0</td>\n",
              "      <td>0.9978</td>\n",
              "      <td>3.51</td>\n",
              "      <td>0.56</td>\n",
              "      <td>9.4</td>\n",
              "      <td>5</td>\n",
              "    </tr>\n",
              "    <tr>\n",
              "      <th>1</th>\n",
              "      <td>7.8</td>\n",
              "      <td>0.88</td>\n",
              "      <td>0.0</td>\n",
              "      <td>2.6</td>\n",
              "      <td>0.098</td>\n",
              "      <td>25.0</td>\n",
              "      <td>67.0</td>\n",
              "      <td>0.9968</td>\n",
              "      <td>3.20</td>\n",
              "      <td>0.68</td>\n",
              "      <td>9.8</td>\n",
              "      <td>5</td>\n",
              "    </tr>\n",
              "  </tbody>\n",
              "</table>\n",
              "</div>"
            ],
            "text/plain": [
              "   fixed acidity  volatile acidity  citric acid  ...  sulphates  alcohol  quality\n",
              "0            7.4              0.70          0.0  ...       0.56      9.4        5\n",
              "1            7.8              0.88          0.0  ...       0.68      9.8        5\n",
              "\n",
              "[2 rows x 12 columns]"
            ]
          },
          "metadata": {},
          "execution_count": 3
        }
      ]
    },
    {
      "cell_type": "code",
      "metadata": {
        "colab": {
          "base_uri": "https://localhost:8080/",
          "height": 144
        },
        "id": "6aruj0EH3y1p",
        "outputId": "afb7fefc-6144-4499-b3ae-62eb87f152dd"
      },
      "source": [
        "white.head(2)"
      ],
      "execution_count": 4,
      "outputs": [
        {
          "output_type": "execute_result",
          "data": {
            "text/html": [
              "<div>\n",
              "<style scoped>\n",
              "    .dataframe tbody tr th:only-of-type {\n",
              "        vertical-align: middle;\n",
              "    }\n",
              "\n",
              "    .dataframe tbody tr th {\n",
              "        vertical-align: top;\n",
              "    }\n",
              "\n",
              "    .dataframe thead th {\n",
              "        text-align: right;\n",
              "    }\n",
              "</style>\n",
              "<table border=\"1\" class=\"dataframe\">\n",
              "  <thead>\n",
              "    <tr style=\"text-align: right;\">\n",
              "      <th></th>\n",
              "      <th>fixed acidity</th>\n",
              "      <th>volatile acidity</th>\n",
              "      <th>citric acid</th>\n",
              "      <th>residual sugar</th>\n",
              "      <th>chlorides</th>\n",
              "      <th>free sulfur dioxide</th>\n",
              "      <th>total sulfur dioxide</th>\n",
              "      <th>density</th>\n",
              "      <th>pH</th>\n",
              "      <th>sulphates</th>\n",
              "      <th>alcohol</th>\n",
              "      <th>quality</th>\n",
              "    </tr>\n",
              "  </thead>\n",
              "  <tbody>\n",
              "    <tr>\n",
              "      <th>0</th>\n",
              "      <td>7.0</td>\n",
              "      <td>0.27</td>\n",
              "      <td>0.36</td>\n",
              "      <td>20.7</td>\n",
              "      <td>0.045</td>\n",
              "      <td>45.0</td>\n",
              "      <td>170.0</td>\n",
              "      <td>1.001</td>\n",
              "      <td>3.0</td>\n",
              "      <td>0.45</td>\n",
              "      <td>8.8</td>\n",
              "      <td>6</td>\n",
              "    </tr>\n",
              "    <tr>\n",
              "      <th>1</th>\n",
              "      <td>6.3</td>\n",
              "      <td>0.30</td>\n",
              "      <td>0.34</td>\n",
              "      <td>1.6</td>\n",
              "      <td>0.049</td>\n",
              "      <td>14.0</td>\n",
              "      <td>132.0</td>\n",
              "      <td>0.994</td>\n",
              "      <td>3.3</td>\n",
              "      <td>0.49</td>\n",
              "      <td>9.5</td>\n",
              "      <td>6</td>\n",
              "    </tr>\n",
              "  </tbody>\n",
              "</table>\n",
              "</div>"
            ],
            "text/plain": [
              "   fixed acidity  volatile acidity  citric acid  ...  sulphates  alcohol  quality\n",
              "0            7.0              0.27         0.36  ...       0.45      8.8        6\n",
              "1            6.3              0.30         0.34  ...       0.49      9.5        6\n",
              "\n",
              "[2 rows x 12 columns]"
            ]
          },
          "metadata": {},
          "execution_count": 4
        }
      ]
    },
    {
      "cell_type": "code",
      "metadata": {
        "id": "kKwLz8KN3z8Y"
      },
      "source": [
        "# 각자의 데이터에 type 변수를 설정해 추가하기\n",
        "red['type'] = 0\n",
        "white['type'] = 1"
      ],
      "execution_count": 5,
      "outputs": []
    },
    {
      "cell_type": "code",
      "metadata": {
        "colab": {
          "base_uri": "https://localhost:8080/",
          "height": 257
        },
        "id": "GUWZIsgx4IUd",
        "outputId": "97b4849e-b9b4-4d36-8ee9-51aff4ce088a"
      },
      "source": [
        "# 데이터 합쳐주기 \n",
        "wine = pd.concat([red, white])\n",
        "wine.head()"
      ],
      "execution_count": 6,
      "outputs": [
        {
          "output_type": "execute_result",
          "data": {
            "text/html": [
              "<div>\n",
              "<style scoped>\n",
              "    .dataframe tbody tr th:only-of-type {\n",
              "        vertical-align: middle;\n",
              "    }\n",
              "\n",
              "    .dataframe tbody tr th {\n",
              "        vertical-align: top;\n",
              "    }\n",
              "\n",
              "    .dataframe thead th {\n",
              "        text-align: right;\n",
              "    }\n",
              "</style>\n",
              "<table border=\"1\" class=\"dataframe\">\n",
              "  <thead>\n",
              "    <tr style=\"text-align: right;\">\n",
              "      <th></th>\n",
              "      <th>fixed acidity</th>\n",
              "      <th>volatile acidity</th>\n",
              "      <th>citric acid</th>\n",
              "      <th>residual sugar</th>\n",
              "      <th>chlorides</th>\n",
              "      <th>free sulfur dioxide</th>\n",
              "      <th>total sulfur dioxide</th>\n",
              "      <th>density</th>\n",
              "      <th>pH</th>\n",
              "      <th>sulphates</th>\n",
              "      <th>alcohol</th>\n",
              "      <th>quality</th>\n",
              "      <th>type</th>\n",
              "    </tr>\n",
              "  </thead>\n",
              "  <tbody>\n",
              "    <tr>\n",
              "      <th>0</th>\n",
              "      <td>7.4</td>\n",
              "      <td>0.70</td>\n",
              "      <td>0.00</td>\n",
              "      <td>1.9</td>\n",
              "      <td>0.076</td>\n",
              "      <td>11.0</td>\n",
              "      <td>34.0</td>\n",
              "      <td>0.9978</td>\n",
              "      <td>3.51</td>\n",
              "      <td>0.56</td>\n",
              "      <td>9.4</td>\n",
              "      <td>5</td>\n",
              "      <td>0</td>\n",
              "    </tr>\n",
              "    <tr>\n",
              "      <th>1</th>\n",
              "      <td>7.8</td>\n",
              "      <td>0.88</td>\n",
              "      <td>0.00</td>\n",
              "      <td>2.6</td>\n",
              "      <td>0.098</td>\n",
              "      <td>25.0</td>\n",
              "      <td>67.0</td>\n",
              "      <td>0.9968</td>\n",
              "      <td>3.20</td>\n",
              "      <td>0.68</td>\n",
              "      <td>9.8</td>\n",
              "      <td>5</td>\n",
              "      <td>0</td>\n",
              "    </tr>\n",
              "    <tr>\n",
              "      <th>2</th>\n",
              "      <td>7.8</td>\n",
              "      <td>0.76</td>\n",
              "      <td>0.04</td>\n",
              "      <td>2.3</td>\n",
              "      <td>0.092</td>\n",
              "      <td>15.0</td>\n",
              "      <td>54.0</td>\n",
              "      <td>0.9970</td>\n",
              "      <td>3.26</td>\n",
              "      <td>0.65</td>\n",
              "      <td>9.8</td>\n",
              "      <td>5</td>\n",
              "      <td>0</td>\n",
              "    </tr>\n",
              "    <tr>\n",
              "      <th>3</th>\n",
              "      <td>11.2</td>\n",
              "      <td>0.28</td>\n",
              "      <td>0.56</td>\n",
              "      <td>1.9</td>\n",
              "      <td>0.075</td>\n",
              "      <td>17.0</td>\n",
              "      <td>60.0</td>\n",
              "      <td>0.9980</td>\n",
              "      <td>3.16</td>\n",
              "      <td>0.58</td>\n",
              "      <td>9.8</td>\n",
              "      <td>6</td>\n",
              "      <td>0</td>\n",
              "    </tr>\n",
              "    <tr>\n",
              "      <th>4</th>\n",
              "      <td>7.4</td>\n",
              "      <td>0.70</td>\n",
              "      <td>0.00</td>\n",
              "      <td>1.9</td>\n",
              "      <td>0.076</td>\n",
              "      <td>11.0</td>\n",
              "      <td>34.0</td>\n",
              "      <td>0.9978</td>\n",
              "      <td>3.51</td>\n",
              "      <td>0.56</td>\n",
              "      <td>9.4</td>\n",
              "      <td>5</td>\n",
              "      <td>0</td>\n",
              "    </tr>\n",
              "  </tbody>\n",
              "</table>\n",
              "</div>"
            ],
            "text/plain": [
              "   fixed acidity  volatile acidity  citric acid  ...  alcohol  quality  type\n",
              "0            7.4              0.70         0.00  ...      9.4        5     0\n",
              "1            7.8              0.88         0.00  ...      9.8        5     0\n",
              "2            7.8              0.76         0.04  ...      9.8        5     0\n",
              "3           11.2              0.28         0.56  ...      9.8        6     0\n",
              "4            7.4              0.70         0.00  ...      9.4        5     0\n",
              "\n",
              "[5 rows x 13 columns]"
            ]
          },
          "metadata": {},
          "execution_count": 6
        }
      ]
    },
    {
      "cell_type": "markdown",
      "metadata": {
        "id": "75ylg4XY4UWF"
      },
      "source": [
        "### 시각화를 통해 데이터 확인"
      ]
    },
    {
      "cell_type": "code",
      "metadata": {
        "id": "i4KeC4p44OP5"
      },
      "source": [
        "import matplotlib.pyplot as plt"
      ],
      "execution_count": 7,
      "outputs": []
    },
    {
      "cell_type": "code",
      "metadata": {
        "colab": {
          "base_uri": "https://localhost:8080/",
          "height": 265
        },
        "id": "5RTkLekb4dUc",
        "outputId": "b579cf13-013c-4bd3-e4a4-3c2e455e7cb8"
      },
      "source": [
        "plt.hist(wine['type'])\n",
        "plt.xticks([0,1])\n",
        "plt.show()"
      ],
      "execution_count": 8,
      "outputs": [
        {
          "output_type": "display_data",
          "data": {
            "image/png": "[encoded data removed]",
            "text/plain": [
              "<Figure size 432x288 with 1 Axes>"
            ]
          },
          "metadata": {
            "needs_background": "light"
          }
        }
      ]
    },
    {
      "cell_type": "code",
      "metadata": {
        "colab": {
          "base_uri": "https://localhost:8080/"
        },
        "id": "l9h058R44iRM",
        "outputId": "49cfebc5-4ff2-411f-b94a-dc4eb59fa0b4"
      },
      "source": [
        "wine['type'].value_counts()\n",
        "# white와 red의 비율이 3:1 정도인 것을 알 수 있음"
      ],
      "execution_count": 9,
      "outputs": [
        {
          "output_type": "execute_result",
          "data": {
            "text/plain": [
              "1    4898\n",
              "0    1599\n",
              "Name: type, dtype: int64"
            ]
          },
          "metadata": {},
          "execution_count": 9
        }
      ]
    },
    {
      "cell_type": "markdown",
      "metadata": {
        "id": "6VVvX5GG5D9a"
      },
      "source": [
        "### 데이터 정제"
      ]
    },
    {
      "cell_type": "markdown",
      "metadata": {
        "id": "OvODFBC16K3C"
      },
      "source": [
        "#### 데이터 정규화"
      ]
    },
    {
      "cell_type": "code",
      "metadata": {
        "colab": {
          "base_uri": "https://localhost:8080/"
        },
        "id": "AfWswPJQ48TE",
        "outputId": "4d40755d-bda6-48ab-c681-03bfab27b4a2"
      },
      "source": [
        "wine_norm = (wine - wine.min()) / (wine.max() - wine.min())\n",
        "# 정규화는 모든 값을 0과 1사이로 만들어 주는 것을 의미\n",
        "\n",
        "wine_norm.head(2)\n",
        "type(wine_norm)"
      ],
      "execution_count": 10,
      "outputs": [
        {
          "output_type": "execute_result",
          "data": {
            "text/plain": [
              "pandas.core.frame.DataFrame"
            ]
          },
          "metadata": {},
          "execution_count": 10
        }
      ]
    },
    {
      "cell_type": "markdown",
      "metadata": {
        "id": "eKAJbbZn6OvF"
      },
      "source": [
        "#### 섞고 array로 만들기"
      ]
    },
    {
      "cell_type": "code",
      "metadata": {
        "colab": {
          "base_uri": "https://localhost:8080/"
        },
        "id": "5BQ7Q1DI47H2",
        "outputId": "42da3de3-27c3-4da8-fb20-ba4f1a891fc2"
      },
      "source": [
        "# 데이터를 섞어주고, array 로 만들어줌\n",
        "\n",
        "wine_shuffle = wine_norm.sample(frac = 1)\n",
        "# frac은 지정된 비율만큼 행을 랜덤하게 뽑아 새로운 데이터 프레임을 만들겠다는 뜻\n",
        "\n",
        "import numpy as np\n",
        "wine_np = np.array(wine_shuffle)\n",
        "wine_np[:5]"
      ],
      "execution_count": 11,
      "outputs": [
        {
          "output_type": "execute_result",
          "data": {
            "text/plain": [
              "array([[0.25619835, 0.10666667, 0.19879518, 0.06441718, 0.05149502,\n",
              "        0.05208333, 0.28801843, 0.12512049, 0.41860465, 0.23595506,\n",
              "        0.39130435, 0.5       , 1.        ],\n",
              "       [0.20661157, 0.20666667, 0.21084337, 0.08128834, 0.05149502,\n",
              "        0.28298611, 0.58525346, 0.13475998, 0.31007752, 0.24719101,\n",
              "        0.30434783, 0.33333333, 1.        ],\n",
              "       [0.31404959, 0.08      , 0.18072289, 0.20858896, 0.07807309,\n",
              "        0.18055556, 0.47580645, 0.22922691, 0.3255814 , 0.13483146,\n",
              "        0.13043478, 0.83333333, 1.        ],\n",
              "       [0.23140496, 0.12666667, 0.24698795, 0.0107362 , 0.07142857,\n",
              "        0.05208333, 0.31336406, 0.15403894, 0.54263566, 0.14044944,\n",
              "        0.28985507, 0.5       , 1.        ],\n",
              "       [0.29752066, 0.24666667, 0.19277108, 0.09969325, 0.05813953,\n",
              "        0.05555556, 0.25576037, 0.17524581, 0.46511628, 0.10674157,\n",
              "        0.34782609, 0.16666667, 1.        ]])"
            ]
          },
          "metadata": {},
          "execution_count": 11
        }
      ]
    },
    {
      "cell_type": "markdown",
      "metadata": {
        "id": "CsTaRoMZ6Sh_"
      },
      "source": [
        "#### train vs test"
      ]
    },
    {
      "cell_type": "code",
      "metadata": {
        "id": "QnCLvSSA5z7Y"
      },
      "source": [
        "import tensorflow as tf\n",
        "\n",
        "train_idx = int(len(wine_np) * 0.8)\n",
        "\n",
        "train_X, train_Y = wine_np[:train_idx, :-1], wine_np[:train_idx, -1]\n",
        "test_X, test_Y = wine_np[train_idx: , :-1], wine_np[train_idx: , -1]"
      ],
      "execution_count": 12,
      "outputs": []
    },
    {
      "cell_type": "code",
      "metadata": {
        "id": "RXeZE0Vb6_wl",
        "colab": {
          "base_uri": "https://localhost:8080/"
        },
        "outputId": "b379c22c-73bd-46ea-dcfe-dd87441ce136"
      },
      "source": [
        "train_X[0]"
      ],
      "execution_count": 13,
      "outputs": [
        {
          "output_type": "execute_result",
          "data": {
            "text/plain": [
              "array([0.25619835, 0.10666667, 0.19879518, 0.06441718, 0.05149502,\n",
              "       0.05208333, 0.28801843, 0.12512049, 0.41860465, 0.23595506,\n",
              "       0.39130435, 0.5       ])"
            ]
          },
          "metadata": {},
          "execution_count": 13
        }
      ]
    },
    {
      "cell_type": "code",
      "metadata": {
        "id": "hCjdmveZ7BXB",
        "colab": {
          "base_uri": "https://localhost:8080/"
        },
        "outputId": "f8c2e16b-037f-4d56-ba7a-e2c36c6dee27"
      },
      "source": [
        "test_X[0]"
      ],
      "execution_count": 14,
      "outputs": [
        {
          "output_type": "execute_result",
          "data": {
            "text/plain": [
              "array([0.37190083, 0.08      , 0.29518072, 0.01687117, 0.05149502,\n",
              "       0.11458333, 0.37557604, 0.12897629, 0.25581395, 0.08426966,\n",
              "       0.30434783, 0.33333333])"
            ]
          },
          "metadata": {},
          "execution_count": 14
        }
      ]
    },
    {
      "cell_type": "code",
      "metadata": {
        "colab": {
          "base_uri": "https://localhost:8080/"
        },
        "id": "QSSYO77B7C4o",
        "outputId": "7fc363ab-68cd-4318-fbd6-b7d62c318da3"
      },
      "source": [
        "train_Y[0]"
      ],
      "execution_count": 15,
      "outputs": [
        {
          "output_type": "execute_result",
          "data": {
            "text/plain": [
              "1.0"
            ]
          },
          "metadata": {},
          "execution_count": 15
        }
      ]
    },
    {
      "cell_type": "code",
      "metadata": {
        "colab": {
          "base_uri": "https://localhost:8080/"
        },
        "id": "a9XziQnf7D9b",
        "outputId": "97d42e42-3c2b-4d31-ce76-e3e65ca0288c"
      },
      "source": [
        "test_Y[0]"
      ],
      "execution_count": 16,
      "outputs": [
        {
          "output_type": "execute_result",
          "data": {
            "text/plain": [
              "1.0"
            ]
          },
          "metadata": {},
          "execution_count": 16
        }
      ]
    },
    {
      "cell_type": "markdown",
      "metadata": {
        "id": "wE_kW12I7LYM"
      },
      "source": [
        "#### one-hot encoding"
      ]
    },
    {
      "cell_type": "code",
      "metadata": {
        "colab": {
          "base_uri": "https://localhost:8080/"
        },
        "id": "TTv634C77FBU",
        "outputId": "04a4cb1c-25d4-4fc2-9d03-5a5cd397fc64"
      },
      "source": [
        "# red=0, white=1 로 하면 white가 더 중요한 정보라고 인지할 수 있음\n",
        "# 따라서 같은 형식으로 변경해줌\n",
        "# num_classes는 정답 클래스의 개수 ; white, red 2개라서 2로 입력\n",
        "train_Y = tf.keras.utils.to_categorical(train_Y, 2)\n",
        "test_Y = tf.keras.utils.to_categorical(test_Y, 2)\n",
        "train_Y[0] # 1을 뜻함 , white"
      ],
      "execution_count": 17,
      "outputs": [
        {
          "output_type": "execute_result",
          "data": {
            "text/plain": [
              "array([0., 1.], dtype=float32)"
            ]
          },
          "metadata": {},
          "execution_count": 17
        }
      ]
    },
    {
      "cell_type": "code",
      "metadata": {
        "colab": {
          "base_uri": "https://localhost:8080/"
        },
        "id": "z83tsMYU74R8",
        "outputId": "18be1c19-e084-4a75-8a41-47bc507d2efd"
      },
      "source": [
        "test_Y[0] # 0을 뜻함, red"
      ],
      "execution_count": 18,
      "outputs": [
        {
          "output_type": "execute_result",
          "data": {
            "text/plain": [
              "array([0., 1.], dtype=float32)"
            ]
          },
          "metadata": {},
          "execution_count": 18
        }
      ]
    },
    {
      "cell_type": "markdown",
      "metadata": {
        "id": "AlHWDXqf8LNX"
      },
      "source": [
        "### 분류 모델 설정"
      ]
    },
    {
      "cell_type": "code",
      "metadata": {
        "id": "CpSsoFUo75NE"
      },
      "source": [
        "model = tf.keras.Sequential([\n",
        "                             tf.keras.layers.Dense(48, 'relu'),\n",
        "                             tf.keras.layers.Dense(24, 'relu'),\n",
        "                             tf.keras.layers.Dense(12, 'relu'),\n",
        "                             tf.keras.layers.Dense(2, 'softmax')\n",
        "])\n",
        "# 마지막 층의 뉴런의 개수는 2, 출력 값의 차원이 2차원이라서 ? [1,0] 이런 식으로...\n",
        "# softmax : max함수의 좀 더 soft한 버전이라고 생각하면 됨, 두가지의 결과 값중 조금 더 확률 높은 값을 결정값으로 확정짓는 것"
      ],
      "execution_count": 19,
      "outputs": []
    },
    {
      "cell_type": "markdown",
      "metadata": {
        "id": "XPc3z_cd87Yk"
      },
      "source": [
        "### 모델 학습시킬 준비"
      ]
    },
    {
      "cell_type": "code",
      "metadata": {
        "id": "Inhf_eCi85Lg",
        "colab": {
          "base_uri": "https://localhost:8080/"
        },
        "outputId": "1b8f09f4-47b2-429e-8149-8a2788d58211"
      },
      "source": [
        "model.compile(tf.keras.optimizers.Adam(lr = 0.07), loss = 'categorical_crossentropy', metrics=['accuracy'])\n",
        "# metrics 는 이 값도 같이 출력해달라는 의미 "
      ],
      "execution_count": 20,
      "outputs": [
        {
          "output_type": "stream",
          "name": "stderr",
          "text": [
            "/usr/local/lib/python3.7/dist-packages/keras/optimizer_v2/optimizer_v2.py:356: UserWarning: The `lr` argument is deprecated, use `learning_rate` instead.\n",
            "  \"The `lr` argument is deprecated, use `learning_rate` instead.\")\n"
          ]
        }
      ]
    },
    {
      "cell_type": "code",
      "metadata": {
        "colab": {
          "base_uri": "https://localhost:8080/"
        },
        "id": "WOV0-soX9SQw",
        "outputId": "16ee4a82-174b-4a83-ac7f-6bccd5614baa"
      },
      "source": [
        "history = model.fit(train_X, train_Y, epochs = 25, batch_size = 32, validation_split=0.25)"
      ],
      "execution_count": 21,
      "outputs": [
        {
          "output_type": "stream",
          "name": "stdout",
          "text": [
            "Epoch 1/25\n",
            "122/122 [==============================] - 4s 7ms/step - loss: 0.1673 - accuracy: 0.9269 - val_loss: 0.0552 - val_accuracy: 0.9831\n",
            "Epoch 2/25\n",
            "122/122 [==============================] - 1s 5ms/step - loss: 0.0636 - accuracy: 0.9813 - val_loss: 0.0763 - val_accuracy: 0.9823\n",
            "Epoch 3/25\n",
            "122/122 [==============================] - 1s 5ms/step - loss: 0.0564 - accuracy: 0.9846 - val_loss: 0.0640 - val_accuracy: 0.9885\n",
            "Epoch 4/25\n",
            "122/122 [==============================] - 1s 5ms/step - loss: 0.0485 - accuracy: 0.9874 - val_loss: 0.0563 - val_accuracy: 0.9862\n",
            "Epoch 5/25\n",
            "122/122 [==============================] - 1s 5ms/step - loss: 0.0440 - accuracy: 0.9887 - val_loss: 0.0576 - val_accuracy: 0.9869\n",
            "Epoch 6/25\n",
            "122/122 [==============================] - 1s 5ms/step - loss: 0.0415 - accuracy: 0.9905 - val_loss: 0.0752 - val_accuracy: 0.9823\n",
            "Epoch 7/25\n",
            "122/122 [==============================] - 1s 5ms/step - loss: 0.0565 - accuracy: 0.9854 - val_loss: 0.0398 - val_accuracy: 0.9877\n",
            "Epoch 8/25\n",
            "122/122 [==============================] - 1s 5ms/step - loss: 0.0407 - accuracy: 0.9892 - val_loss: 0.0476 - val_accuracy: 0.9885\n",
            "Epoch 9/25\n",
            "122/122 [==============================] - 1s 5ms/step - loss: 0.0423 - accuracy: 0.9890 - val_loss: 0.0745 - val_accuracy: 0.9823\n",
            "Epoch 10/25\n",
            "122/122 [==============================] - 1s 5ms/step - loss: 0.0550 - accuracy: 0.9851 - val_loss: 0.0397 - val_accuracy: 0.9885\n",
            "Epoch 11/25\n",
            "122/122 [==============================] - 1s 5ms/step - loss: 0.0470 - accuracy: 0.9869 - val_loss: 0.0442 - val_accuracy: 0.9885\n",
            "Epoch 12/25\n",
            "122/122 [==============================] - 1s 5ms/step - loss: 0.0384 - accuracy: 0.9905 - val_loss: 0.0689 - val_accuracy: 0.9823\n",
            "Epoch 13/25\n",
            "122/122 [==============================] - 1s 4ms/step - loss: 0.0469 - accuracy: 0.9882 - val_loss: 0.0432 - val_accuracy: 0.9892\n",
            "Epoch 14/25\n",
            "122/122 [==============================] - 1s 5ms/step - loss: 0.0383 - accuracy: 0.9923 - val_loss: 0.0668 - val_accuracy: 0.9785\n",
            "Epoch 15/25\n",
            "122/122 [==============================] - 1s 5ms/step - loss: 0.0371 - accuracy: 0.9931 - val_loss: 0.0417 - val_accuracy: 0.9908\n",
            "Epoch 16/25\n",
            "122/122 [==============================] - 1s 5ms/step - loss: 0.0386 - accuracy: 0.9910 - val_loss: 0.0785 - val_accuracy: 0.9738\n",
            "Epoch 17/25\n",
            "122/122 [==============================] - 1s 5ms/step - loss: 0.0424 - accuracy: 0.9897 - val_loss: 0.0281 - val_accuracy: 0.9938\n",
            "Epoch 18/25\n",
            "122/122 [==============================] - 1s 5ms/step - loss: 0.0315 - accuracy: 0.9928 - val_loss: 0.0260 - val_accuracy: 0.9946\n",
            "Epoch 19/25\n",
            "122/122 [==============================] - 1s 5ms/step - loss: 0.0313 - accuracy: 0.9936 - val_loss: 0.0429 - val_accuracy: 0.9892\n",
            "Epoch 20/25\n",
            "122/122 [==============================] - 1s 5ms/step - loss: 0.0721 - accuracy: 0.9833 - val_loss: 0.1281 - val_accuracy: 0.9408\n",
            "Epoch 21/25\n",
            "122/122 [==============================] - 1s 5ms/step - loss: 0.0404 - accuracy: 0.9908 - val_loss: 0.0381 - val_accuracy: 0.9908\n",
            "Epoch 22/25\n",
            "122/122 [==============================] - 1s 5ms/step - loss: 0.0383 - accuracy: 0.9902 - val_loss: 0.0368 - val_accuracy: 0.9900\n",
            "Epoch 23/25\n",
            "122/122 [==============================] - 1s 5ms/step - loss: 0.0322 - accuracy: 0.9923 - val_loss: 0.0280 - val_accuracy: 0.9962\n",
            "Epoch 24/25\n",
            "122/122 [==============================] - 1s 5ms/step - loss: 0.0299 - accuracy: 0.9944 - val_loss: 0.0321 - val_accuracy: 0.9923\n",
            "Epoch 25/25\n",
            "122/122 [==============================] - 1s 5ms/step - loss: 0.0337 - accuracy: 0.9897 - val_loss: 0.0331 - val_accuracy: 0.9915\n"
          ]
        }
      ]
    },
    {
      "cell_type": "code",
      "metadata": {
        "colab": {
          "base_uri": "https://localhost:8080/"
        },
        "id": "OTPtwHqT9UQo",
        "outputId": "1fd91807-5a49-4494-b793-d5f780057137"
      },
      "source": [
        "model.summary()\n",
        "# 이걸 쓰려면 fit을 하고 쓰든지, 처음 층을 설계할때 input_shape을 설정해줘야함"
      ],
      "execution_count": 22,
      "outputs": [
        {
          "output_type": "stream",
          "name": "stdout",
          "text": [
            "Model: \"sequential\"\n",
            "_________________________________________________________________\n",
            "Layer (type)                 Output Shape              Param #   \n",
            "=================================================================\n",
            "dense (Dense)                (None, 48)                624       \n",
            "_________________________________________________________________\n",
            "dense_1 (Dense)              (None, 24)                1176      \n",
            "_________________________________________________________________\n",
            "dense_2 (Dense)              (None, 12)                300       \n",
            "_________________________________________________________________\n",
            "dense_3 (Dense)              (None, 2)                 26        \n",
            "=================================================================\n",
            "Total params: 2,126\n",
            "Trainable params: 2,126\n",
            "Non-trainable params: 0\n",
            "_________________________________________________________________\n"
          ]
        }
      ]
    },
    {
      "cell_type": "markdown",
      "metadata": {
        "id": "YVq_X4lp991_"
      },
      "source": [
        "### loss, accuracy 시각화"
      ]
    },
    {
      "cell_type": "code",
      "metadata": {
        "colab": {
          "base_uri": "https://localhost:8080/",
          "height": 279
        },
        "id": "hbGz-Y8t9oD6",
        "outputId": "1dffac96-90d9-4d13-ce2e-1391bd00b24a"
      },
      "source": [
        "plt.plot(history.history['loss'], 'g-', label = 'loss')\n",
        "plt.plot(history.history['val_loss'], 'r--', label='val_loss')\n",
        "plt.xlabel('Epoch')\n",
        "plt.legend()\n",
        "plt.show()"
      ],
      "execution_count": 23,
      "outputs": [
        {
          "output_type": "display_data",
          "data": {
            "image/png": "[encoded data removed]",
            "text/plain": [
              "<Figure size 432x288 with 1 Axes>"
            ]
          },
          "metadata": {
            "needs_background": "light"
          }
        }
      ]
    },
    {
      "cell_type": "code",
      "metadata": {
        "colab": {
          "base_uri": "https://localhost:8080/",
          "height": 265
        },
        "id": "XhiVFhNC-LP4",
        "outputId": "7c1fa50b-451e-4960-aeef-0c232d4f064b"
      },
      "source": [
        "plt.plot(history.history['accuracy'], 'g-', label = 'accuracy')\n",
        "plt.plot(history.history['val_accuracy'], 'r--', label = 'val_accuracy')\n",
        "plt.legend()\n",
        "plt.show()"
      ],
      "execution_count": 24,
      "outputs": [
        {
          "output_type": "display_data",
          "data": {
            "image/png": "[encoded data removed]",
            "text/plain": [
              "<Figure size 432x288 with 1 Axes>"
            ]
          },
          "metadata": {
            "needs_background": "light"
          }
        }
      ]
    },
    {
      "cell_type": "markdown",
      "metadata": {
        "id": "4ofM6U53-Za8"
      },
      "source": [
        "### 분류모델 평가"
      ]
    },
    {
      "cell_type": "code",
      "metadata": {
        "colab": {
          "base_uri": "https://localhost:8080/"
        },
        "id": "faIGVrAk-USx",
        "outputId": "e0fa6df9-8afa-4cc0-98f5-59a109753d93"
      },
      "source": [
        "model.evaluate(test_X, test_Y)"
      ],
      "execution_count": 25,
      "outputs": [
        {
          "output_type": "stream",
          "name": "stdout",
          "text": [
            "41/41 [==============================] - 0s 3ms/step - loss: 0.0820 - accuracy: 0.9923\n"
          ]
        },
        {
          "output_type": "execute_result",
          "data": {
            "text/plain": [
              "[0.08204236626625061, 0.9923076629638672]"
            ]
          },
          "metadata": {},
          "execution_count": 25
        }
      ]
    }
  ]
}