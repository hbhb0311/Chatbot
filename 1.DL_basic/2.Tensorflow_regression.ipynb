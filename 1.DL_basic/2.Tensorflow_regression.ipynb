{
  "nbformat": 4,
  "nbformat_minor": 0,
  "metadata": {
    "colab": {
      "name": "2.Tensorflow_regression.ipynb",
      "provenance": [],
      "authorship_tag": "ABX9TyO/vGk3SVU9l4yq9LVP6dOo",
      "include_colab_link": true
    },
    "kernelspec": {
      "name": "python3",
      "display_name": "Python 3"
    },
    "language_info": {
      "name": "python"
    },
    "accelerator": "GPU"
  },
  "cells": [
    {
      "cell_type": "markdown",
      "metadata": {
        "id": "view-in-github",
        "colab_type": "text"
      },
      "source": [
        "<a href=\"https://colab.research.google.com/github/hbhb0311/LikelionStudy/blob/main/1.DL_basic/2.Tensorflow_regression.ipynb\" target=\"_parent\"><img src=\"https://colab.research.google.com/assets/colab-badge.svg\" alt=\"Open In Colab\"/></a>"
      ]
    },
    {
      "cell_type": "markdown",
      "metadata": {
        "id": "Dw24Am75A5ja"
      },
      "source": [
        "# 회귀(인구증가율 - 고령인구비율)"
      ]
    },
    {
      "cell_type": "markdown",
      "metadata": {
        "id": "trwDkVfhBHtz"
      },
      "source": [
        "## 하드코딩"
      ]
    },
    {
      "cell_type": "code",
      "metadata": {
        "id": "UR9-onz9paCp"
      },
      "source": [
        "import numpy as np\n",
        "import matplotlib.pyplot as plt\n",
        "import tensorflow as tf"
      ],
      "execution_count": 1,
      "outputs": []
    },
    {
      "cell_type": "code",
      "metadata": {
        "id": "rreerlsRAthJ"
      },
      "source": [
        "X = [0.3, -0.78, 1.26, 0.03, 1.11, 0.24, -0.24, -0.47, -0.77, -0.37, -0.85, -0.41, -0.27, 0.02, -0.76, 2.66]\n",
        "Y = [12.27, 14.44, 11.87, 18.75, 17.52, 16.37, 19.78, 19.51, 12.65, 14.74, 10.72, 21.94, 12.83, 15.51, 17.14, 14.42]"
      ],
      "execution_count": 2,
      "outputs": []
    },
    {
      "cell_type": "markdown",
      "metadata": {
        "id": "uc0Ci_xhNg8v"
      },
      "source": [
        "### X와 Y의 평균 구하기"
      ]
    },
    {
      "cell_type": "code",
      "metadata": {
        "id": "MBdiv21wNe4A"
      },
      "source": [
        "mean_x = sum(X)/len(X)\n",
        "mean_y = sum(Y)/len(Y)"
      ],
      "execution_count": 3,
      "outputs": []
    },
    {
      "cell_type": "markdown",
      "metadata": {
        "id": "eJYc-VPhNuOf"
      },
      "source": [
        "### a,b 구하기"
      ]
    },
    {
      "cell_type": "code",
      "metadata": {
        "colab": {
          "base_uri": "https://localhost:8080/"
        },
        "id": "2G7GgfRQNtfd",
        "outputId": "18bd7091-3e87-4cd1-ddb5-d79c6ca456c5"
      },
      "source": [
        "a = sum((y - mean_y) * (x - mean_x) for y,x in list(zip(Y,X)))\n",
        "a /= sum((x - mean_x) ** 2 for x in X)\n",
        "b = mean_y - a * mean_x\n",
        "print(a, b)"
      ],
      "execution_count": 4,
      "outputs": [
        {
          "output_type": "stream",
          "name": "stdout",
          "text": [
            "-0.355834147915461 15.669317743971302\n"
          ]
        }
      ]
    },
    {
      "cell_type": "markdown",
      "metadata": {
        "id": "Goi_SKBcON-s"
      },
      "source": [
        "### 시각화"
      ]
    },
    {
      "cell_type": "code",
      "metadata": {
        "id": "08q0pcAvOYXv"
      },
      "source": [
        "x_line = np.arange(min(X), max(X), 0.01)\n",
        "y_line = a * x_line + b"
      ],
      "execution_count": 5,
      "outputs": []
    },
    {
      "cell_type": "code",
      "metadata": {
        "colab": {
          "base_uri": "https://localhost:8080/",
          "height": 265
        },
        "id": "Pyd-qNVlOLuO",
        "outputId": "00eae634-7e29-4ef0-908e-429d1e2a881d"
      },
      "source": [
        "plt.plot(X, Y, 'bo')\n",
        "plt.plot(x_line, y_line, 'g-')\n",
        "plt.show()"
      ],
      "execution_count": 6,
      "outputs": [
        {
          "output_type": "display_data",
          "data": {
            "image/png": "[encoded data removed]",
            "text/plain": [
              "<Figure size 432x288 with 1 Axes>"
            ]
          },
          "metadata": {
            "needs_background": "light"
          }
        }
      ]
    },
    {
      "cell_type": "markdown",
      "metadata": {
        "id": "rF6M5bE6O0MS"
      },
      "source": [
        "## 텐서플로우 이용해 회귀식 구하기"
      ]
    },
    {
      "cell_type": "code",
      "metadata": {
        "id": "lQlGkvijOm-d"
      },
      "source": [
        "X = [0.3, -0.78, 1.26, 0.03, 1.11, 0.24, -0.24, -0.47, -0.77, -0.37, -0.85, -0.41, -0.27, 0.02, -0.76, 2.66]\n",
        "Y = [12.27, 14.44, 11.87, 18.75, 17.52, 16.37, 19.78, 19.51, 12.65, 14.74, 10.72, 21.94, 12.83, 15.51, 17.14, 14.42]"
      ],
      "execution_count": 7,
      "outputs": []
    },
    {
      "cell_type": "markdown",
      "metadata": {
        "id": "7DgSfrDVO5P3"
      },
      "source": [
        "### a와 b 랜덤값으로 초기화"
      ]
    },
    {
      "cell_type": "code",
      "metadata": {
        "id": "p_zvgpMiPD2n"
      },
      "source": [
        "import random"
      ],
      "execution_count": 8,
      "outputs": []
    },
    {
      "cell_type": "code",
      "metadata": {
        "id": "XmyvkS-NO3oo"
      },
      "source": [
        "a = tf.Variable(random.random())\n",
        "b = tf.Variable(random.random())"
      ],
      "execution_count": 9,
      "outputs": []
    },
    {
      "cell_type": "markdown",
      "metadata": {
        "id": "MzICOg3jPHT5"
      },
      "source": [
        "### 잔차 제곱합을 반환하는 함수 만들기"
      ]
    },
    {
      "cell_type": "code",
      "metadata": {
        "id": "NBdYDEjMPCsK"
      },
      "source": [
        "def compute_loss():\n",
        "  y_pred = a * X + b\n",
        "  loss = tf.reduce_mean((Y - y_pred) ** 2)\n",
        "  return loss"
      ],
      "execution_count": 10,
      "outputs": []
    },
    {
      "cell_type": "markdown",
      "metadata": {
        "id": "1B1YCBy9PcJK"
      },
      "source": [
        "### 활성화함수 설정"
      ]
    },
    {
      "cell_type": "code",
      "metadata": {
        "id": "d6xRcq4kPbLG",
        "colab": {
          "base_uri": "https://localhost:8080/"
        },
        "outputId": "070a9139-c7af-4d69-e71c-8b8eddadc04d"
      },
      "source": [
        "optimizer = tf.keras.optimizers.Adam(lr = 0.7)"
      ],
      "execution_count": 11,
      "outputs": [
        {
          "output_type": "stream",
          "name": "stderr",
          "text": [
            "/usr/local/lib/python3.7/dist-packages/keras/optimizer_v2/optimizer_v2.py:356: UserWarning: The `lr` argument is deprecated, use `learning_rate` instead.\n",
            "  \"The `lr` argument is deprecated, use `learning_rate` instead.\")\n"
          ]
        }
      ]
    },
    {
      "cell_type": "markdown",
      "metadata": {
        "id": "nUXOcR70PnEf"
      },
      "source": [
        "### 모델 학습시키기(잔차제곱합의 최소값을 찾아서)"
      ]
    },
    {
      "cell_type": "code",
      "metadata": {
        "colab": {
          "base_uri": "https://localhost:8080/"
        },
        "id": "DyABrfSPPmY9",
        "outputId": "1da5b691-27ba-4eeb-dcd1-c4dbec367b70"
      },
      "source": [
        "for i in range(2000):\n",
        "  optimizer.minimize(compute_loss, var_list=[a,b])\n",
        "\n",
        "  if i % 100 == 99:\n",
        "    print(i+1, a.numpy(), b.numpy(), compute_loss().numpy())"
      ],
      "execution_count": 12,
      "outputs": [
        {
          "output_type": "stream",
          "name": "stdout",
          "text": [
            "100 -0.36203942 15.753303 9.787842\n",
            "200 -0.3558733 15.669714 9.780804\n",
            "300 -0.35583377 15.669315 9.780803\n",
            "400 -0.3558338 15.669318 9.780802\n",
            "500 -0.35583377 15.669318 9.780802\n",
            "600 -0.355834 15.669318 9.780803\n",
            "700 -0.35583407 15.669318 9.780803\n",
            "800 -0.35583407 15.669318 9.780803\n",
            "900 -0.35583404 15.669318 9.780803\n",
            "1000 -0.3558339 15.669318 9.780803\n",
            "1100 -0.35583434 15.669318 9.780803\n",
            "1200 -0.3558342 15.669318 9.780803\n",
            "1300 -0.3558338 15.669318 9.780802\n",
            "1400 -0.35583514 15.669318 9.780804\n",
            "1500 -0.35583422 15.669318 9.780803\n",
            "1600 -0.35583436 15.669318 9.780804\n",
            "1700 -0.3558355 15.669318 9.780805\n",
            "1800 -0.3591305 15.669312 9.780812\n",
            "1900 -0.35569498 15.669317 9.780803\n",
            "2000 -0.35582608 15.669318 9.780804\n"
          ]
        }
      ]
    },
    {
      "cell_type": "markdown",
      "metadata": {
        "id": "DjVRjQ0wQvMD"
      },
      "source": [
        "### 시각화"
      ]
    },
    {
      "cell_type": "code",
      "metadata": {
        "colab": {
          "base_uri": "https://localhost:8080/",
          "height": 265
        },
        "id": "stVDroMHP-SG",
        "outputId": "1639ad95-9373-4ef3-df78-4b072afddea9"
      },
      "source": [
        "x_line = np.arange(min(X), max(X), 0.01)\n",
        "y_line = a * x_line + b\n",
        "\n",
        "plt.plot(X, Y, 'bo')\n",
        "plt.plot(x_line, y_line, 'g-')\n",
        "plt.show()"
      ],
      "execution_count": 13,
      "outputs": [
        {
          "output_type": "display_data",
          "data": {
            "image/png": "[encoded data removed]",
            "text/plain": [
              "<Figure size 432x288 with 1 Axes>"
            ]
          },
          "metadata": {
            "needs_background": "light"
          }
        }
      ]
    },
    {
      "cell_type": "markdown",
      "metadata": {
        "id": "YaHV6FpHRRTU"
      },
      "source": [
        "## 2차회귀모형으로 예측"
      ]
    },
    {
      "cell_type": "code",
      "metadata": {
        "id": "_f6wocPZQ6ba"
      },
      "source": [
        "a = tf.Variable(random.random())\n",
        "b = tf.Variable(random.random())\n",
        "c = tf.Variable(random.random())"
      ],
      "execution_count": 14,
      "outputs": []
    },
    {
      "cell_type": "code",
      "metadata": {
        "id": "U97m4thhRYxR"
      },
      "source": [
        "def compute_loss1():\n",
        "  y_pred = a * np.array(X) ** 2 + b * X + c\n",
        "  loss = tf.reduce_mean((Y - y_pred) ** 2)\n",
        "  return loss"
      ],
      "execution_count": 15,
      "outputs": []
    },
    {
      "cell_type": "code",
      "metadata": {
        "colab": {
          "base_uri": "https://localhost:8080/"
        },
        "id": "DA_56KAARgm0",
        "outputId": "6851bc85-408a-4088-e081-cb860b86e265"
      },
      "source": [
        "optimizer = tf.keras.optimizers.Adam(lr = 0.7)\n",
        "\n",
        "for i in range(2000):\n",
        "  optimizer.minimize(compute_loss1, var_list=[a,b,c])\n",
        "\n",
        "  if i % 100 == 99:\n",
        "    print(i+1, a.numpy(), b.numpy(), c.numpy(), compute_loss().numpy())"
      ],
      "execution_count": 16,
      "outputs": [
        {
          "output_type": "stream",
          "name": "stderr",
          "text": [
            "/usr/local/lib/python3.7/dist-packages/keras/optimizer_v2/optimizer_v2.py:356: UserWarning: The `lr` argument is deprecated, use `learning_rate` instead.\n",
            "  \"The `lr` argument is deprecated, use `learning_rate` instead.\")\n"
          ]
        },
        {
          "output_type": "stream",
          "name": "stdout",
          "text": [
            "100 -0.5170412 0.38636923 16.023561 243.58633\n",
            "200 -0.56494445 0.47673237 16.09928 240.90952\n",
            "300 -0.5646341 0.47629482 16.098804 240.9223\n",
            "400 -0.56463325 0.4762927 16.098804 240.92236\n",
            "500 -0.5646331 0.47629288 16.098804 240.92236\n",
            "600 -0.56463313 0.47629288 16.098804 240.92236\n",
            "700 -0.56463313 0.4762929 16.098804 240.92236\n",
            "800 -0.56463313 0.47629282 16.098804 240.92236\n",
            "900 -0.5646331 0.47629285 16.098804 240.92236\n",
            "1000 -0.564633 0.4762929 16.098804 240.92236\n",
            "1100 -0.5646332 0.47629276 16.098804 240.92236\n",
            "1200 -0.5646331 0.47629288 16.098804 240.92236\n",
            "1300 -0.5646331 0.4762928 16.098804 240.92236\n",
            "1400 -0.5646332 0.47629282 16.098804 240.92236\n",
            "1500 -0.56463313 0.4762927 16.098804 240.92236\n",
            "1600 -0.56463337 0.47629267 16.098804 240.92236\n",
            "1700 -0.5646344 0.47629455 16.098806 240.92232\n",
            "1800 -0.56463426 0.4762941 16.098806 240.92232\n",
            "1900 -0.5646341 0.47629404 16.098806 240.92232\n",
            "2000 -0.5646341 0.47629404 16.098806 240.92232\n"
          ]
        }
      ]
    },
    {
      "cell_type": "code",
      "metadata": {
        "colab": {
          "base_uri": "https://localhost:8080/",
          "height": 265
        },
        "id": "WzDZIf50RrCS",
        "outputId": "c49096f4-6c65-4422-c34c-8b63218e8ecd"
      },
      "source": [
        "x_line = np.arange(min(X), max(X), 0.01)\n",
        "y_line = a * x_line ** 2 + b * x_line + c\n",
        "\n",
        "plt.plot(X, Y, 'bo')\n",
        "plt.plot(x_line, y_line, 'g-')\n",
        "plt.show()"
      ],
      "execution_count": 17,
      "outputs": [
        {
          "output_type": "display_data",
          "data": {
            "image/png": "[encoded data removed]",
            "text/plain": [
              "<Figure size 432x288 with 1 Axes>"
            ]
          },
          "metadata": {
            "needs_background": "light"
          }
        }
      ]
    },
    {
      "cell_type": "markdown",
      "metadata": {
        "id": "sxb7PpF0R9h3"
      },
      "source": [
        "## 3차 회귀모형"
      ]
    },
    {
      "cell_type": "code",
      "metadata": {
        "id": "Ve0L26lRR7zC"
      },
      "source": [
        "a = tf.Variable(random.random())\n",
        "b = tf.Variable(random.random())\n",
        "c = tf.Variable(random.random())\n",
        "d = tf.Variable(random.random())"
      ],
      "execution_count": 18,
      "outputs": []
    },
    {
      "cell_type": "code",
      "metadata": {
        "id": "rtXyIPRBSDYy"
      },
      "source": [
        "def compute_loss2():\n",
        "  y_pred = a * np.array(X) ** 3 + b * np.array(X) ** 2 + c * X + d\n",
        "  loss = tf.reduce_mean((Y - y_pred) ** 2)\n",
        "  return loss"
      ],
      "execution_count": 19,
      "outputs": []
    },
    {
      "cell_type": "code",
      "metadata": {
        "colab": {
          "base_uri": "https://localhost:8080/"
        },
        "id": "wUZ2EXhTSKpL",
        "outputId": "d3429dba-7d87-473b-aa74-85b967c3bbf5"
      },
      "source": [
        "optimizer = tf.keras.optimizers.Adam(lr = 0.1)\n",
        "\n",
        "for i in range(2000):\n",
        "  optimizer.minimize(compute_loss2, var_list=[a,b,c,d])\n",
        "\n",
        "  if i % 100 == 99:\n",
        "    print(i+1, a.numpy(), b.numpy(), c.numpy(), d.numpy(), compute_loss().numpy())"
      ],
      "execution_count": 20,
      "outputs": [
        {
          "output_type": "stream",
          "name": "stderr",
          "text": [
            "/usr/local/lib/python3.7/dist-packages/keras/optimizer_v2/optimizer_v2.py:356: UserWarning: The `lr` argument is deprecated, use `learning_rate` instead.\n",
            "  \"The `lr` argument is deprecated, use `learning_rate` instead.\")\n"
          ]
        },
        {
          "output_type": "stream",
          "name": "stdout",
          "text": [
            "100 -1.6660898 6.8916864 -3.788135 8.087402 89.2505\n",
            "200 -1.8241655 5.6194687 -1.0502568 11.78944 113.85043\n",
            "300 -0.81481546 2.4208632 -0.49153355 13.878105 186.00824\n",
            "400 0.09683175 -0.21514119 -0.42009664 15.267851 261.63678\n",
            "500 0.69931567 -1.9444188 -0.39433157 16.1597 319.31696\n",
            "600 1.0486238 -2.9464605 -0.38028082 16.675438 355.66785\n",
            "700 1.2301978 -3.467283 -0.3730517 16.943388 375.41016\n",
            "800 1.3151666 -3.711001 -0.36967632 17.068768 384.84787\n",
            "900 1.3509984 -3.8137789 -0.36825094 17.121643 388.86594\n",
            "1000 1.3646046 -3.8528044 -0.36771116 17.141718 390.39755\n",
            "1100 1.3692433 -3.8661106 -0.3675272 17.148563 390.92047\n",
            "1200 1.3706573 -3.8701663 -0.3674719 17.15065 391.07996\n",
            "1300 1.371042 -3.8712692 -0.36745554 17.151215 391.12335\n",
            "1400 1.3711332 -3.8715274 -0.36745733 17.15134 391.1335\n",
            "1500 1.3711427 -3.8715537 -0.3674582 17.151352 391.13452\n",
            "1600 1.3711435 -3.8715563 -0.36745784 17.151354 391.1346\n",
            "1700 1.3711448 -3.8715606 -0.36745673 17.151358 391.13483\n",
            "1800 1.371145 -3.8715615 -0.36745685 17.15136 391.13483\n",
            "1900 1.3711467 -3.8715665 -0.36745575 17.151361 391.13504\n",
            "2000 1.371147 -3.8715668 -0.36745638 17.151361 391.13507\n"
          ]
        }
      ]
    },
    {
      "cell_type": "code",
      "metadata": {
        "colab": {
          "base_uri": "https://localhost:8080/",
          "height": 265
        },
        "id": "jso30F48SNKv",
        "outputId": "1ed4a111-5ad3-46bc-bbb3-5659c4a849aa"
      },
      "source": [
        "x_line = np.arange(min(X), max(X), 0.01)\n",
        "y_line = a * x_line ** 3 + b * x_line ** 2 + c * x_line + d\n",
        "\n",
        "plt.plot(X, Y, 'bo')\n",
        "plt.plot(x_line, y_line, 'g-')\n",
        "plt.show()"
      ],
      "execution_count": 21,
      "outputs": [
        {
          "output_type": "display_data",
          "data": {
            "image/png": "[encoded data removed]",
            "text/plain": [
              "<Figure size 432x288 with 1 Axes>"
            ]
          },
          "metadata": {
            "needs_background": "light"
          }
        }
      ]
    },
    {
      "cell_type": "markdown",
      "metadata": {
        "id": "bxwZeKrDkePz"
      },
      "source": [
        "## 딥러닝 네트워크를 이용한 회귀"
      ]
    },
    {
      "cell_type": "code",
      "metadata": {
        "id": "ZkzrEQIGSVq9"
      },
      "source": [
        "import random\n",
        "import tensorflow as tf\n",
        "import numpy as np\n",
        "import matplotlib.pyplot as plt\n"
      ],
      "execution_count": 22,
      "outputs": []
    },
    {
      "cell_type": "code",
      "metadata": {
        "id": "sxjzGCS0lUwY"
      },
      "source": [
        "X = [0.3, -0.78, 1.26, 0.03, 1.11, 0.24, -0.24, -0.47, -0.77, -0.37, -0.85, -0.41, -0.27, 0.02, -0.76, 2.66]\n",
        "Y = [12.27, 14.44, 11.87, 18.75, 17.52, 16.37, 19.78, 19.51, 12.65, 14.74, 10.72, 21.94, 12.83, 15.51, 17.14, 14.42]"
      ],
      "execution_count": 23,
      "outputs": []
    },
    {
      "cell_type": "code",
      "metadata": {
        "id": "nzuV-bRtkyUX"
      },
      "source": [
        "model = tf.keras.Sequential([\n",
        "                             tf.keras.layers.Dense(6, 'tanh', input_shape=(1,)),\n",
        "                             tf.keras.layers.Dense(1)\n",
        "])"
      ],
      "execution_count": 24,
      "outputs": []
    },
    {
      "cell_type": "code",
      "metadata": {
        "id": "w1tqjaP_lHuH"
      },
      "source": [
        "model.compile(tf.keras.optimizers.Adam(0.7), loss = 'mse')"
      ],
      "execution_count": 25,
      "outputs": []
    },
    {
      "cell_type": "code",
      "metadata": {
        "colab": {
          "base_uri": "https://localhost:8080/"
        },
        "id": "OoT5LfWelPBM",
        "outputId": "514c6630-e1bb-423d-c186-60f64082a38f"
      },
      "source": [
        "history = model.fit(X, Y, epochs = 100)"
      ],
      "execution_count": 26,
      "outputs": [
        {
          "output_type": "stream",
          "name": "stdout",
          "text": [
            "Epoch 1/100\n",
            "1/1 [==============================] - 2s 2s/step - loss: 253.6155\n",
            "Epoch 2/100\n",
            "1/1 [==============================] - 0s 11ms/step - loss: 177.1065\n",
            "Epoch 3/100\n",
            "1/1 [==============================] - 0s 6ms/step - loss: 88.6721\n",
            "Epoch 4/100\n",
            "1/1 [==============================] - 0s 7ms/step - loss: 33.5218\n",
            "Epoch 5/100\n",
            "1/1 [==============================] - 0s 6ms/step - loss: 12.1798\n",
            "Epoch 6/100\n",
            "1/1 [==============================] - 0s 5ms/step - loss: 25.9279\n",
            "Epoch 7/100\n",
            "1/1 [==============================] - 0s 9ms/step - loss: 42.0505\n",
            "Epoch 8/100\n",
            "1/1 [==============================] - 0s 5ms/step - loss: 43.7927\n",
            "Epoch 9/100\n",
            "1/1 [==============================] - 0s 9ms/step - loss: 34.4748\n",
            "Epoch 10/100\n",
            "1/1 [==============================] - 0s 6ms/step - loss: 22.3752\n",
            "Epoch 11/100\n",
            "1/1 [==============================] - 0s 7ms/step - loss: 13.2542\n",
            "Epoch 12/100\n",
            "1/1 [==============================] - 0s 8ms/step - loss: 9.8341\n",
            "Epoch 13/100\n",
            "1/1 [==============================] - 0s 5ms/step - loss: 12.0788\n",
            "Epoch 14/100\n",
            "1/1 [==============================] - 0s 6ms/step - loss: 17.1358\n",
            "Epoch 15/100\n",
            "1/1 [==============================] - 0s 8ms/step - loss: 21.2733\n",
            "Epoch 16/100\n",
            "1/1 [==============================] - 0s 8ms/step - loss: 22.2073\n",
            "Epoch 17/100\n",
            "1/1 [==============================] - 0s 13ms/step - loss: 19.8833\n",
            "Epoch 18/100\n",
            "1/1 [==============================] - 0s 10ms/step - loss: 15.8215\n",
            "Epoch 19/100\n",
            "1/1 [==============================] - 0s 5ms/step - loss: 11.9827\n",
            "Epoch 20/100\n",
            "1/1 [==============================] - 0s 6ms/step - loss: 9.8310\n",
            "Epoch 21/100\n",
            "1/1 [==============================] - 0s 6ms/step - loss: 9.8234\n",
            "Epoch 22/100\n",
            "1/1 [==============================] - 0s 6ms/step - loss: 11.3788\n",
            "Epoch 23/100\n",
            "1/1 [==============================] - 0s 13ms/step - loss: 13.2974\n",
            "Epoch 24/100\n",
            "1/1 [==============================] - 0s 5ms/step - loss: 14.4264\n",
            "Epoch 25/100\n",
            "1/1 [==============================] - 0s 9ms/step - loss: 14.2020\n",
            "Epoch 26/100\n",
            "1/1 [==============================] - 0s 11ms/step - loss: 12.7996\n",
            "Epoch 27/100\n",
            "1/1 [==============================] - 0s 7ms/step - loss: 10.8996\n",
            "Epoch 28/100\n",
            "1/1 [==============================] - 0s 5ms/step - loss: 9.2726\n",
            "Epoch 29/100\n",
            "1/1 [==============================] - 0s 11ms/step - loss: 8.4130\n",
            "Epoch 30/100\n",
            "1/1 [==============================] - 0s 7ms/step - loss: 8.4331\n",
            "Epoch 31/100\n",
            "1/1 [==============================] - 0s 6ms/step - loss: 9.2759\n",
            "Epoch 32/100\n",
            "1/1 [==============================] - 0s 6ms/step - loss: 10.3897\n",
            "Epoch 33/100\n",
            "1/1 [==============================] - 0s 10ms/step - loss: 10.4211\n",
            "Epoch 34/100\n",
            "1/1 [==============================] - 0s 11ms/step - loss: 9.1422\n",
            "Epoch 35/100\n",
            "1/1 [==============================] - 0s 11ms/step - loss: 7.6388\n",
            "Epoch 36/100\n",
            "1/1 [==============================] - 0s 6ms/step - loss: 7.0011\n",
            "Epoch 37/100\n",
            "1/1 [==============================] - 0s 6ms/step - loss: 7.2118\n",
            "Epoch 38/100\n",
            "1/1 [==============================] - 0s 6ms/step - loss: 7.5126\n",
            "Epoch 39/100\n",
            "1/1 [==============================] - 0s 6ms/step - loss: 7.3255\n",
            "Epoch 40/100\n",
            "1/1 [==============================] - 0s 9ms/step - loss: 6.9941\n",
            "Epoch 41/100\n",
            "1/1 [==============================] - 0s 5ms/step - loss: 7.1170\n",
            "Epoch 42/100\n",
            "1/1 [==============================] - 0s 5ms/step - loss: 7.3953\n",
            "Epoch 43/100\n",
            "1/1 [==============================] - 0s 9ms/step - loss: 7.5639\n",
            "Epoch 44/100\n",
            "1/1 [==============================] - 0s 10ms/step - loss: 7.6115\n",
            "Epoch 45/100\n",
            "1/1 [==============================] - 0s 6ms/step - loss: 7.5662\n",
            "Epoch 46/100\n",
            "1/1 [==============================] - 0s 7ms/step - loss: 7.4411\n",
            "Epoch 47/100\n",
            "1/1 [==============================] - 0s 8ms/step - loss: 7.2382\n",
            "Epoch 48/100\n",
            "1/1 [==============================] - 0s 5ms/step - loss: 6.9655\n",
            "Epoch 49/100\n",
            "1/1 [==============================] - 0s 10ms/step - loss: 6.6801\n",
            "Epoch 50/100\n",
            "1/1 [==============================] - 0s 5ms/step - loss: 6.5456\n",
            "Epoch 51/100\n",
            "1/1 [==============================] - 0s 6ms/step - loss: 6.6901\n",
            "Epoch 52/100\n",
            "1/1 [==============================] - 0s 6ms/step - loss: 6.8866\n",
            "Epoch 53/100\n",
            "1/1 [==============================] - 0s 6ms/step - loss: 6.8625\n",
            "Epoch 54/100\n",
            "1/1 [==============================] - 0s 5ms/step - loss: 6.6800\n",
            "Epoch 55/100\n",
            "1/1 [==============================] - 0s 6ms/step - loss: 6.5633\n",
            "Epoch 56/100\n",
            "1/1 [==============================] - 0s 6ms/step - loss: 6.5918\n",
            "Epoch 57/100\n",
            "1/1 [==============================] - 0s 5ms/step - loss: 6.6425\n",
            "Epoch 58/100\n",
            "1/1 [==============================] - 0s 8ms/step - loss: 6.6014\n",
            "Epoch 59/100\n",
            "1/1 [==============================] - 0s 6ms/step - loss: 6.4831\n",
            "Epoch 60/100\n",
            "1/1 [==============================] - 0s 8ms/step - loss: 6.3897\n",
            "Epoch 61/100\n",
            "1/1 [==============================] - 0s 6ms/step - loss: 6.4057\n",
            "Epoch 62/100\n",
            "1/1 [==============================] - 0s 10ms/step - loss: 6.4965\n",
            "Epoch 63/100\n",
            "1/1 [==============================] - 0s 6ms/step - loss: 6.5401\n",
            "Epoch 64/100\n",
            "1/1 [==============================] - 0s 6ms/step - loss: 6.4874\n",
            "Epoch 65/100\n",
            "1/1 [==============================] - 0s 6ms/step - loss: 6.4132\n",
            "Epoch 66/100\n",
            "1/1 [==============================] - 0s 10ms/step - loss: 6.3909\n",
            "Epoch 67/100\n",
            "1/1 [==============================] - 0s 5ms/step - loss: 6.4030\n",
            "Epoch 68/100\n",
            "1/1 [==============================] - 0s 11ms/step - loss: 6.3921\n",
            "Epoch 69/100\n",
            "1/1 [==============================] - 0s 6ms/step - loss: 6.3417\n",
            "Epoch 70/100\n",
            "1/1 [==============================] - 0s 6ms/step - loss: 6.2957\n",
            "Epoch 71/100\n",
            "1/1 [==============================] - 0s 10ms/step - loss: 6.2963\n",
            "Epoch 72/100\n",
            "1/1 [==============================] - 0s 9ms/step - loss: 6.3159\n",
            "Epoch 73/100\n",
            "1/1 [==============================] - 0s 11ms/step - loss: 6.3006\n",
            "Epoch 74/100\n",
            "1/1 [==============================] - 0s 10ms/step - loss: 6.2528\n",
            "Epoch 75/100\n",
            "1/1 [==============================] - 0s 6ms/step - loss: 6.2207\n",
            "Epoch 76/100\n",
            "1/1 [==============================] - 0s 7ms/step - loss: 6.2211\n",
            "Epoch 77/100\n",
            "1/1 [==============================] - 0s 6ms/step - loss: 6.2237\n",
            "Epoch 78/100\n",
            "1/1 [==============================] - 0s 7ms/step - loss: 6.2068\n",
            "Epoch 79/100\n",
            "1/1 [==============================] - 0s 8ms/step - loss: 6.1866\n",
            "Epoch 80/100\n",
            "1/1 [==============================] - 0s 6ms/step - loss: 6.1848\n",
            "Epoch 81/100\n",
            "1/1 [==============================] - 0s 6ms/step - loss: 6.1898\n",
            "Epoch 82/100\n",
            "1/1 [==============================] - 0s 13ms/step - loss: 6.1753\n",
            "Epoch 83/100\n",
            "1/1 [==============================] - 0s 6ms/step - loss: 6.1467\n",
            "Epoch 84/100\n",
            "1/1 [==============================] - 0s 5ms/step - loss: 6.1295\n",
            "Epoch 85/100\n",
            "1/1 [==============================] - 0s 6ms/step - loss: 6.1260\n",
            "Epoch 86/100\n",
            "1/1 [==============================] - 0s 11ms/step - loss: 6.1172\n",
            "Epoch 87/100\n",
            "1/1 [==============================] - 0s 5ms/step - loss: 6.0997\n",
            "Epoch 88/100\n",
            "1/1 [==============================] - 0s 6ms/step - loss: 6.0881\n",
            "Epoch 89/100\n",
            "1/1 [==============================] - 0s 9ms/step - loss: 6.0837\n",
            "Epoch 90/100\n",
            "1/1 [==============================] - 0s 6ms/step - loss: 6.0727\n",
            "Epoch 91/100\n",
            "1/1 [==============================] - 0s 6ms/step - loss: 6.0545\n",
            "Epoch 92/100\n",
            "1/1 [==============================] - 0s 11ms/step - loss: 6.0431\n",
            "Epoch 93/100\n",
            "1/1 [==============================] - 0s 6ms/step - loss: 6.0392\n",
            "Epoch 94/100\n",
            "1/1 [==============================] - 0s 9ms/step - loss: 6.0313\n",
            "Epoch 95/100\n",
            "1/1 [==============================] - 0s 9ms/step - loss: 6.0194\n",
            "Epoch 96/100\n",
            "1/1 [==============================] - 0s 8ms/step - loss: 6.0121\n",
            "Epoch 97/100\n",
            "1/1 [==============================] - 0s 6ms/step - loss: 6.0062\n",
            "Epoch 98/100\n",
            "1/1 [==============================] - 0s 6ms/step - loss: 5.9946\n",
            "Epoch 99/100\n",
            "1/1 [==============================] - 0s 6ms/step - loss: 5.9825\n",
            "Epoch 100/100\n",
            "1/1 [==============================] - 0s 12ms/step - loss: 5.9754\n"
          ]
        }
      ]
    },
    {
      "cell_type": "code",
      "metadata": {
        "id": "gIKdCWvHldGn"
      },
      "source": [
        "xline = np.arange(min(X), max(X), 0.01)\n",
        "yline = model.predict(xline)"
      ],
      "execution_count": 27,
      "outputs": []
    },
    {
      "cell_type": "code",
      "metadata": {
        "colab": {
          "base_uri": "https://localhost:8080/",
          "height": 282
        },
        "id": "492jZYAcmJf6",
        "outputId": "2c8842a7-ade3-47d7-f8ba-0b4516605d12"
      },
      "source": [
        "plt.plot(history.history['loss'])"
      ],
      "execution_count": 28,
      "outputs": [
        {
          "output_type": "execute_result",
          "data": {
            "text/plain": [
              "[<matplotlib.lines.Line2D at 0x7fdc95df9bd0>]"
            ]
          },
          "metadata": {},
          "execution_count": 28
        },
        {
          "output_type": "display_data",
          "data": {
            "image/png": "[encoded data removed]",
            "text/plain": [
              "<Figure size 432x288 with 1 Axes>"
            ]
          },
          "metadata": {
            "needs_background": "light"
          }
        }
      ]
    },
    {
      "cell_type": "code",
      "metadata": {
        "colab": {
          "base_uri": "https://localhost:8080/",
          "height": 279
        },
        "id": "PhNrG2EClk1p",
        "outputId": "4b4e5ab4-98ab-455f-a6ab-bc65808f76f3"
      },
      "source": [
        "plt.plot(X, Y, 'go')\n",
        "plt.plot(xline, yline, 'r--')\n",
        "plt.xlabel('Population Growth Rate (%)')\n",
        "plt.xlabel('Eldery Population Rate (%)')\n",
        "plt.show()"
      ],
      "execution_count": 29,
      "outputs": [
        {
          "output_type": "display_data",
          "data": {
            "image/png": "[encoded data removed]",
            "text/plain": [
              "<Figure size 432x288 with 1 Axes>"
            ]
          },
          "metadata": {
            "needs_background": "light"
          }
        }
      ]
    },
    {
      "cell_type": "markdown",
      "metadata": {
        "id": "AMMOsw_-mDOm"
      },
      "source": [
        "# boston housing 데이터 분석"
      ]
    },
    {
      "cell_type": "code",
      "metadata": {
        "id": "T7F1VDXHFGmC"
      },
      "source": [
        "import tensorflow as tf\n",
        "import numpy as np\n",
        "import matplotlib.pyplot as plt"
      ],
      "execution_count": 30,
      "outputs": []
    },
    {
      "cell_type": "markdown",
      "metadata": {
        "id": "bptDoDWvHFQP"
      },
      "source": [
        "### boston housing 데이터 불러오기"
      ]
    },
    {
      "cell_type": "code",
      "metadata": {
        "id": "R_rpbPQhmANN",
        "colab": {
          "base_uri": "https://localhost:8080/"
        },
        "outputId": "3ce01c8d-84eb-4aa5-b62d-55065b57451a"
      },
      "source": [
        "from tensorflow.keras.datasets import boston_housing\n",
        "\n",
        "(train_X, train_Y), (test_X, test_Y) = boston_housing.load_data()"
      ],
      "execution_count": 31,
      "outputs": [
        {
          "output_type": "stream",
          "name": "stdout",
          "text": [
            "Downloading data from https://storage.googleapis.com/tensorflow/tf-keras-datasets/boston_housing.npz\n",
            "57344/57026 [==============================] - 0s 0us/step\n",
            "65536/57026 [==================================] - 0s 0us/step\n"
          ]
        }
      ]
    },
    {
      "cell_type": "markdown",
      "metadata": {
        "id": "k6LR0pbGHJjn"
      },
      "source": [
        "### 데이터 표준화 해주기"
      ]
    },
    {
      "cell_type": "code",
      "metadata": {
        "id": "ZWlvdiyEEknh"
      },
      "source": [
        "x_mean = train_X.mean(axis = 0)\n",
        "x_std = train_X.std(axis = 0)\n",
        "\n",
        "y_mean = train_Y.mean(axis = 0)\n",
        "y_std = train_Y.std(axis = 0)"
      ],
      "execution_count": 32,
      "outputs": []
    },
    {
      "cell_type": "code",
      "metadata": {
        "id": "ZochvOkZEdZo"
      },
      "source": [
        "train_X = (train_X - x_mean) / x_std\n",
        "test_X = (test_X - x_mean) / x_std\n",
        "\n",
        "train_Y = (train_Y - y_mean) / y_std\n",
        "test_Y = (test_Y - y_mean) / y_std"
      ],
      "execution_count": 33,
      "outputs": []
    },
    {
      "cell_type": "code",
      "metadata": {
        "colab": {
          "base_uri": "https://localhost:8080/"
        },
        "id": "2-EyHf2MFjT4",
        "outputId": "bec963d7-c6f0-4f0e-9179-d3d41a9b5428"
      },
      "source": [
        "len(train_X[0])"
      ],
      "execution_count": 34,
      "outputs": [
        {
          "output_type": "execute_result",
          "data": {
            "text/plain": [
              "13"
            ]
          },
          "metadata": {},
          "execution_count": 34
        }
      ]
    },
    {
      "cell_type": "markdown",
      "metadata": {
        "id": "c6ZcXXMZHO-n"
      },
      "source": [
        "### 딥러닝 모델 만들기"
      ]
    },
    {
      "cell_type": "code",
      "metadata": {
        "id": "GGIbolw4E_06"
      },
      "source": [
        "model = tf.keras.Sequential([\n",
        "                             tf.keras.layers.Dense(64, 'relu', input_shape = (13,)),\n",
        "                             tf.keras.layers.Dense(42, 'relu'),\n",
        "                             tf.keras.layers.Dense(23, 'relu'),\n",
        "                             tf.keras.layers.Dense(1)\n",
        "])"
      ],
      "execution_count": 35,
      "outputs": []
    },
    {
      "cell_type": "code",
      "metadata": {
        "id": "vmvJdYLLFhY-",
        "colab": {
          "base_uri": "https://localhost:8080/"
        },
        "outputId": "01ba4930-9fc1-4afc-e0e8-20771a94a91a"
      },
      "source": [
        "model.compile(tf.keras.optimizers.Adam(lr=0.07), loss = 'mse')"
      ],
      "execution_count": 36,
      "outputs": [
        {
          "output_type": "stream",
          "name": "stderr",
          "text": [
            "/usr/local/lib/python3.7/dist-packages/keras/optimizer_v2/optimizer_v2.py:356: UserWarning: The `lr` argument is deprecated, use `learning_rate` instead.\n",
            "  \"The `lr` argument is deprecated, use `learning_rate` instead.\")\n"
          ]
        }
      ]
    },
    {
      "cell_type": "code",
      "metadata": {
        "colab": {
          "base_uri": "https://localhost:8080/"
        },
        "id": "ntvAlsR3Fuzm",
        "outputId": "8700f924-a87b-4afc-db48-8fb3faf59930"
      },
      "source": [
        "history = model.fit(train_X, train_Y, epochs = 130)"
      ],
      "execution_count": 37,
      "outputs": [
        {
          "output_type": "stream",
          "name": "stdout",
          "text": [
            "Epoch 1/130\n",
            "13/13 [==============================] - 0s 3ms/step - loss: 2.7254\n",
            "Epoch 2/130\n",
            "13/13 [==============================] - 0s 3ms/step - loss: 0.7021\n",
            "Epoch 3/130\n",
            "13/13 [==============================] - 0s 3ms/step - loss: 0.5319\n",
            "Epoch 4/130\n",
            "13/13 [==============================] - 0s 4ms/step - loss: 0.3915\n",
            "Epoch 5/130\n",
            "13/13 [==============================] - 0s 3ms/step - loss: 0.3290\n",
            "Epoch 6/130\n",
            "13/13 [==============================] - 0s 3ms/step - loss: 0.2056\n",
            "Epoch 7/130\n",
            "13/13 [==============================] - 0s 3ms/step - loss: 0.2557\n",
            "Epoch 8/130\n",
            "13/13 [==============================] - 0s 3ms/step - loss: 0.2478\n",
            "Epoch 9/130\n",
            "13/13 [==============================] - 0s 3ms/step - loss: 0.2853\n",
            "Epoch 10/130\n",
            "13/13 [==============================] - 0s 3ms/step - loss: 0.2390\n",
            "Epoch 11/130\n",
            "13/13 [==============================] - 0s 3ms/step - loss: 0.2276\n",
            "Epoch 12/130\n",
            "13/13 [==============================] - 0s 5ms/step - loss: 0.1508\n",
            "Epoch 13/130\n",
            "13/13 [==============================] - 0s 3ms/step - loss: 0.1248\n",
            "Epoch 14/130\n",
            "13/13 [==============================] - 0s 4ms/step - loss: 0.1433\n",
            "Epoch 15/130\n",
            "13/13 [==============================] - 0s 3ms/step - loss: 0.1120\n",
            "Epoch 16/130\n",
            "13/13 [==============================] - 0s 3ms/step - loss: 0.1051\n",
            "Epoch 17/130\n",
            "13/13 [==============================] - 0s 3ms/step - loss: 0.1326\n",
            "Epoch 18/130\n",
            "13/13 [==============================] - 0s 3ms/step - loss: 0.1169\n",
            "Epoch 19/130\n",
            "13/13 [==============================] - 0s 3ms/step - loss: 0.1746\n",
            "Epoch 20/130\n",
            "13/13 [==============================] - 0s 3ms/step - loss: 0.1468\n",
            "Epoch 21/130\n",
            "13/13 [==============================] - 0s 3ms/step - loss: 0.1193\n",
            "Epoch 22/130\n",
            "13/13 [==============================] - 0s 4ms/step - loss: 0.1124\n",
            "Epoch 23/130\n",
            "13/13 [==============================] - 0s 3ms/step - loss: 0.0989\n",
            "Epoch 24/130\n",
            "13/13 [==============================] - 0s 5ms/step - loss: 0.0861\n",
            "Epoch 25/130\n",
            "13/13 [==============================] - 0s 3ms/step - loss: 0.0721\n",
            "Epoch 26/130\n",
            "13/13 [==============================] - 0s 3ms/step - loss: 0.0724\n",
            "Epoch 27/130\n",
            "13/13 [==============================] - 0s 4ms/step - loss: 0.0727\n",
            "Epoch 28/130\n",
            "13/13 [==============================] - 0s 3ms/step - loss: 0.0752\n",
            "Epoch 29/130\n",
            "13/13 [==============================] - 0s 3ms/step - loss: 0.0752\n",
            "Epoch 30/130\n",
            "13/13 [==============================] - 0s 4ms/step - loss: 0.0611\n",
            "Epoch 31/130\n",
            "13/13 [==============================] - 0s 3ms/step - loss: 0.0808\n",
            "Epoch 32/130\n",
            "13/13 [==============================] - 0s 3ms/step - loss: 0.0726\n",
            "Epoch 33/130\n",
            "13/13 [==============================] - 0s 3ms/step - loss: 0.0672\n",
            "Epoch 34/130\n",
            "13/13 [==============================] - 0s 3ms/step - loss: 0.0635\n",
            "Epoch 35/130\n",
            "13/13 [==============================] - 0s 3ms/step - loss: 0.0651\n",
            "Epoch 36/130\n",
            "13/13 [==============================] - 0s 3ms/step - loss: 0.0612\n",
            "Epoch 37/130\n",
            "13/13 [==============================] - 0s 4ms/step - loss: 0.0640\n",
            "Epoch 38/130\n",
            "13/13 [==============================] - 0s 3ms/step - loss: 0.0748\n",
            "Epoch 39/130\n",
            "13/13 [==============================] - 0s 4ms/step - loss: 0.0919\n",
            "Epoch 40/130\n",
            "13/13 [==============================] - 0s 3ms/step - loss: 0.1525\n",
            "Epoch 41/130\n",
            "13/13 [==============================] - 0s 3ms/step - loss: 0.1397\n",
            "Epoch 42/130\n",
            "13/13 [==============================] - 0s 5ms/step - loss: 0.0927\n",
            "Epoch 43/130\n",
            "13/13 [==============================] - 0s 3ms/step - loss: 0.1016\n",
            "Epoch 44/130\n",
            "13/13 [==============================] - 0s 3ms/step - loss: 0.0754\n",
            "Epoch 45/130\n",
            "13/13 [==============================] - 0s 3ms/step - loss: 0.0691\n",
            "Epoch 46/130\n",
            "13/13 [==============================] - 0s 3ms/step - loss: 0.0910\n",
            "Epoch 47/130\n",
            "13/13 [==============================] - 0s 3ms/step - loss: 0.1103\n",
            "Epoch 48/130\n",
            "13/13 [==============================] - 0s 3ms/step - loss: 0.0959\n",
            "Epoch 49/130\n",
            "13/13 [==============================] - 0s 3ms/step - loss: 0.0762\n",
            "Epoch 50/130\n",
            "13/13 [==============================] - 0s 3ms/step - loss: 0.1017\n",
            "Epoch 51/130\n",
            "13/13 [==============================] - 0s 3ms/step - loss: 0.0634\n",
            "Epoch 52/130\n",
            "13/13 [==============================] - 0s 3ms/step - loss: 0.0519\n",
            "Epoch 53/130\n",
            "13/13 [==============================] - 0s 3ms/step - loss: 0.0589\n",
            "Epoch 54/130\n",
            "13/13 [==============================] - 0s 3ms/step - loss: 0.0590\n",
            "Epoch 55/130\n",
            "13/13 [==============================] - 0s 3ms/step - loss: 0.0589\n",
            "Epoch 56/130\n",
            "13/13 [==============================] - 0s 3ms/step - loss: 0.0565\n",
            "Epoch 57/130\n",
            "13/13 [==============================] - 0s 3ms/step - loss: 0.0605\n",
            "Epoch 58/130\n",
            "13/13 [==============================] - 0s 3ms/step - loss: 0.0536\n",
            "Epoch 59/130\n",
            "13/13 [==============================] - 0s 4ms/step - loss: 0.0513\n",
            "Epoch 60/130\n",
            "13/13 [==============================] - 0s 3ms/step - loss: 0.0588\n",
            "Epoch 61/130\n",
            "13/13 [==============================] - 0s 3ms/step - loss: 0.0565\n",
            "Epoch 62/130\n",
            "13/13 [==============================] - 0s 5ms/step - loss: 0.0699\n",
            "Epoch 63/130\n",
            "13/13 [==============================] - 0s 3ms/step - loss: 0.0878\n",
            "Epoch 64/130\n",
            "13/13 [==============================] - 0s 3ms/step - loss: 0.0812\n",
            "Epoch 65/130\n",
            "13/13 [==============================] - 0s 3ms/step - loss: 0.0579\n",
            "Epoch 66/130\n",
            "13/13 [==============================] - 0s 4ms/step - loss: 0.0467\n",
            "Epoch 67/130\n",
            "13/13 [==============================] - 0s 3ms/step - loss: 0.0483\n",
            "Epoch 68/130\n",
            "13/13 [==============================] - 0s 3ms/step - loss: 0.0454\n",
            "Epoch 69/130\n",
            "13/13 [==============================] - 0s 3ms/step - loss: 0.0454\n",
            "Epoch 70/130\n",
            "13/13 [==============================] - 0s 3ms/step - loss: 0.0499\n",
            "Epoch 71/130\n",
            "13/13 [==============================] - 0s 3ms/step - loss: 0.0718\n",
            "Epoch 72/130\n",
            "13/13 [==============================] - 0s 3ms/step - loss: 0.0446\n",
            "Epoch 73/130\n",
            "13/13 [==============================] - 0s 3ms/step - loss: 0.0567\n",
            "Epoch 74/130\n",
            "13/13 [==============================] - 0s 4ms/step - loss: 0.0674\n",
            "Epoch 75/130\n",
            "13/13 [==============================] - 0s 3ms/step - loss: 0.0624\n",
            "Epoch 76/130\n",
            "13/13 [==============================] - 0s 3ms/step - loss: 0.0511\n",
            "Epoch 77/130\n",
            "13/13 [==============================] - 0s 3ms/step - loss: 0.0424\n",
            "Epoch 78/130\n",
            "13/13 [==============================] - 0s 4ms/step - loss: 0.0389\n",
            "Epoch 79/130\n",
            "13/13 [==============================] - 0s 3ms/step - loss: 0.0440\n",
            "Epoch 80/130\n",
            "13/13 [==============================] - 0s 3ms/step - loss: 0.0409\n",
            "Epoch 81/130\n",
            "13/13 [==============================] - 0s 4ms/step - loss: 0.0409\n",
            "Epoch 82/130\n",
            "13/13 [==============================] - 0s 4ms/step - loss: 0.0391\n",
            "Epoch 83/130\n",
            "13/13 [==============================] - 0s 3ms/step - loss: 0.0365\n",
            "Epoch 84/130\n",
            "13/13 [==============================] - 0s 3ms/step - loss: 0.0529\n",
            "Epoch 85/130\n",
            "13/13 [==============================] - 0s 4ms/step - loss: 0.0886\n",
            "Epoch 86/130\n",
            "13/13 [==============================] - 0s 3ms/step - loss: 0.0968\n",
            "Epoch 87/130\n",
            "13/13 [==============================] - 0s 3ms/step - loss: 0.1099\n",
            "Epoch 88/130\n",
            "13/13 [==============================] - 0s 3ms/step - loss: 0.0869\n",
            "Epoch 89/130\n",
            "13/13 [==============================] - 0s 3ms/step - loss: 0.0705\n",
            "Epoch 90/130\n",
            "13/13 [==============================] - 0s 4ms/step - loss: 0.0540\n",
            "Epoch 91/130\n",
            "13/13 [==============================] - 0s 3ms/step - loss: 0.0503\n",
            "Epoch 92/130\n",
            "13/13 [==============================] - 0s 3ms/step - loss: 0.0691\n",
            "Epoch 93/130\n",
            "13/13 [==============================] - 0s 3ms/step - loss: 0.0579\n",
            "Epoch 94/130\n",
            "13/13 [==============================] - 0s 4ms/step - loss: 0.0429\n",
            "Epoch 95/130\n",
            "13/13 [==============================] - 0s 3ms/step - loss: 0.0408\n",
            "Epoch 96/130\n",
            "13/13 [==============================] - 0s 3ms/step - loss: 0.0464\n",
            "Epoch 97/130\n",
            "13/13 [==============================] - 0s 5ms/step - loss: 0.0349\n",
            "Epoch 98/130\n",
            "13/13 [==============================] - 0s 3ms/step - loss: 0.0367\n",
            "Epoch 99/130\n",
            "13/13 [==============================] - 0s 3ms/step - loss: 0.0534\n",
            "Epoch 100/130\n",
            "13/13 [==============================] - 0s 3ms/step - loss: 0.0475\n",
            "Epoch 101/130\n",
            "13/13 [==============================] - 0s 3ms/step - loss: 0.0413\n",
            "Epoch 102/130\n",
            "13/13 [==============================] - 0s 3ms/step - loss: 0.0497\n",
            "Epoch 103/130\n",
            "13/13 [==============================] - 0s 3ms/step - loss: 0.0534\n",
            "Epoch 104/130\n",
            "13/13 [==============================] - 0s 3ms/step - loss: 0.0572\n",
            "Epoch 105/130\n",
            "13/13 [==============================] - 0s 3ms/step - loss: 0.0962\n",
            "Epoch 106/130\n",
            "13/13 [==============================] - 0s 3ms/step - loss: 0.1367\n",
            "Epoch 107/130\n",
            "13/13 [==============================] - 0s 3ms/step - loss: 0.1954\n",
            "Epoch 108/130\n",
            "13/13 [==============================] - 0s 3ms/step - loss: 0.1333\n",
            "Epoch 109/130\n",
            "13/13 [==============================] - 0s 3ms/step - loss: 0.0958\n",
            "Epoch 110/130\n",
            "13/13 [==============================] - 0s 3ms/step - loss: 0.0835\n",
            "Epoch 111/130\n",
            "13/13 [==============================] - 0s 4ms/step - loss: 0.0622\n",
            "Epoch 112/130\n",
            "13/13 [==============================] - 0s 3ms/step - loss: 0.0607\n",
            "Epoch 113/130\n",
            "13/13 [==============================] - 0s 4ms/step - loss: 0.0516\n",
            "Epoch 114/130\n",
            "13/13 [==============================] - 0s 3ms/step - loss: 0.0603\n",
            "Epoch 115/130\n",
            "13/13 [==============================] - 0s 3ms/step - loss: 0.0816\n",
            "Epoch 116/130\n",
            "13/13 [==============================] - 0s 3ms/step - loss: 0.0680\n",
            "Epoch 117/130\n",
            "13/13 [==============================] - 0s 3ms/step - loss: 0.0662\n",
            "Epoch 118/130\n",
            "13/13 [==============================] - 0s 3ms/step - loss: 0.0598\n",
            "Epoch 119/130\n",
            "13/13 [==============================] - 0s 5ms/step - loss: 0.0577\n",
            "Epoch 120/130\n",
            "13/13 [==============================] - 0s 3ms/step - loss: 0.0542\n",
            "Epoch 121/130\n",
            "13/13 [==============================] - 0s 4ms/step - loss: 0.0611\n",
            "Epoch 122/130\n",
            "13/13 [==============================] - 0s 3ms/step - loss: 0.0632\n",
            "Epoch 123/130\n",
            "13/13 [==============================] - 0s 3ms/step - loss: 0.0628\n",
            "Epoch 124/130\n",
            "13/13 [==============================] - 0s 3ms/step - loss: 0.0483\n",
            "Epoch 125/130\n",
            "13/13 [==============================] - 0s 3ms/step - loss: 0.0401\n",
            "Epoch 126/130\n",
            "13/13 [==============================] - 0s 3ms/step - loss: 0.0471\n",
            "Epoch 127/130\n",
            "13/13 [==============================] - 0s 3ms/step - loss: 0.0413\n",
            "Epoch 128/130\n",
            "13/13 [==============================] - 0s 3ms/step - loss: 0.0535\n",
            "Epoch 129/130\n",
            "13/13 [==============================] - 0s 3ms/step - loss: 0.0521\n",
            "Epoch 130/130\n",
            "13/13 [==============================] - 0s 3ms/step - loss: 0.0456\n"
          ]
        }
      ]
    },
    {
      "cell_type": "code",
      "metadata": {
        "colab": {
          "base_uri": "https://localhost:8080/"
        },
        "id": "0pUN6TfAHp_f",
        "outputId": "4779a051-f145-491c-c557-563bbc2393e9"
      },
      "source": [
        "model.evaluate(test_X, test_Y)"
      ],
      "execution_count": 38,
      "outputs": [
        {
          "output_type": "stream",
          "name": "stdout",
          "text": [
            "4/4 [==============================] - 0s 4ms/step - loss: 0.1719\n"
          ]
        },
        {
          "output_type": "execute_result",
          "data": {
            "text/plain": [
              "0.17189137637615204"
            ]
          },
          "metadata": {},
          "execution_count": 38
        }
      ]
    },
    {
      "cell_type": "markdown",
      "metadata": {
        "id": "5RfDAb1FHTYO"
      },
      "source": [
        "### 시각화"
      ]
    },
    {
      "cell_type": "code",
      "metadata": {
        "id": "nQsAKX5aF1Z6"
      },
      "source": [
        "pred_Y = model.predict(test_X)"
      ],
      "execution_count": 39,
      "outputs": []
    },
    {
      "cell_type": "code",
      "metadata": {
        "colab": {
          "base_uri": "https://localhost:8080/",
          "height": 304
        },
        "id": "8XF4bNLrGCNl",
        "outputId": "cd70c161-7700-4e67-e40c-e295102509fc"
      },
      "source": [
        "plt.plot(test_Y, pred_Y, 'b.')\n",
        "plt.plot([min(test_Y), max(test_Y)], [min(test_Y), max(test_Y)], 'k--')\n",
        "plt.axis([min(test_Y), max(test_Y), min(test_Y), max(test_Y)])\n",
        "plt.xlabel('test_Y', fontsize=12)\n",
        "plt.ylabel('pred_Y', rotation = 0, fontsize=12)\n",
        "plt.figure(figsize=(5,5))\n",
        "plt.show()"
      ],
      "execution_count": 40,
      "outputs": [
        {
          "output_type": "display_data",
          "data": {
            "image/png": "[encoded data removed]",
            "text/plain": [
              "<Figure size 432x288 with 1 Axes>"
            ]
          },
          "metadata": {
            "needs_background": "light"
          }
        },
        {
          "output_type": "display_data",
          "data": {
            "text/plain": [
              "<Figure size 360x360 with 0 Axes>"
            ]
          },
          "metadata": {}
        }
      ]
    },
    {
      "cell_type": "markdown",
      "metadata": {
        "id": "jiFz8rIcJ3iT"
      },
      "source": [
        "### validation dataset 나누기"
      ]
    },
    {
      "cell_type": "code",
      "metadata": {
        "colab": {
          "base_uri": "https://localhost:8080/"
        },
        "id": "GU3C2CxEGGt_",
        "outputId": "b084ddc1-4bbc-4286-e59e-b42829d23122"
      },
      "source": [
        "history = model.fit(train_X, train_Y, epochs = 130, validation_split=0.25)"
      ],
      "execution_count": 41,
      "outputs": [
        {
          "output_type": "stream",
          "name": "stdout",
          "text": [
            "Epoch 1/130\n",
            "10/10 [==============================] - 0s 10ms/step - loss: 0.0433 - val_loss: 0.0466\n",
            "Epoch 2/130\n",
            "10/10 [==============================] - 0s 7ms/step - loss: 0.0465 - val_loss: 0.0569\n",
            "Epoch 3/130\n",
            "10/10 [==============================] - 0s 5ms/step - loss: 0.0555 - val_loss: 0.0402\n",
            "Epoch 4/130\n",
            "10/10 [==============================] - 0s 8ms/step - loss: 0.0479 - val_loss: 0.0411\n",
            "Epoch 5/130\n",
            "10/10 [==============================] - 0s 6ms/step - loss: 0.0377 - val_loss: 0.0628\n",
            "Epoch 6/130\n",
            "10/10 [==============================] - 0s 6ms/step - loss: 0.0331 - val_loss: 0.0440\n",
            "Epoch 7/130\n",
            "10/10 [==============================] - 0s 6ms/step - loss: 0.0400 - val_loss: 0.0520\n",
            "Epoch 8/130\n",
            "10/10 [==============================] - 0s 6ms/step - loss: 0.0531 - val_loss: 0.0477\n",
            "Epoch 9/130\n",
            "10/10 [==============================] - 0s 6ms/step - loss: 0.0630 - val_loss: 0.1633\n",
            "Epoch 10/130\n",
            "10/10 [==============================] - 0s 6ms/step - loss: 0.0924 - val_loss: 0.0787\n",
            "Epoch 11/130\n",
            "10/10 [==============================] - 0s 7ms/step - loss: 0.0597 - val_loss: 0.0677\n",
            "Epoch 12/130\n",
            "10/10 [==============================] - 0s 6ms/step - loss: 0.0562 - val_loss: 0.0588\n",
            "Epoch 13/130\n",
            "10/10 [==============================] - 0s 5ms/step - loss: 0.0465 - val_loss: 0.0544\n",
            "Epoch 14/130\n",
            "10/10 [==============================] - 0s 7ms/step - loss: 0.0389 - val_loss: 0.0464\n",
            "Epoch 15/130\n",
            "10/10 [==============================] - 0s 6ms/step - loss: 0.0388 - val_loss: 0.0996\n",
            "Epoch 16/130\n",
            "10/10 [==============================] - 0s 6ms/step - loss: 0.0468 - val_loss: 0.0621\n",
            "Epoch 17/130\n",
            "10/10 [==============================] - 0s 6ms/step - loss: 0.0450 - val_loss: 0.0439\n",
            "Epoch 18/130\n",
            "10/10 [==============================] - 0s 6ms/step - loss: 0.0346 - val_loss: 0.0512\n",
            "Epoch 19/130\n",
            "10/10 [==============================] - 0s 6ms/step - loss: 0.0496 - val_loss: 0.0434\n",
            "Epoch 20/130\n",
            "10/10 [==============================] - 0s 6ms/step - loss: 0.0525 - val_loss: 0.0517\n",
            "Epoch 21/130\n",
            "10/10 [==============================] - 0s 6ms/step - loss: 0.0551 - val_loss: 0.0927\n",
            "Epoch 22/130\n",
            "10/10 [==============================] - 0s 6ms/step - loss: 0.0463 - val_loss: 0.0500\n",
            "Epoch 23/130\n",
            "10/10 [==============================] - 0s 6ms/step - loss: 0.0542 - val_loss: 0.0524\n",
            "Epoch 24/130\n",
            "10/10 [==============================] - 0s 7ms/step - loss: 0.0386 - val_loss: 0.0596\n",
            "Epoch 25/130\n",
            "10/10 [==============================] - 0s 6ms/step - loss: 0.0404 - val_loss: 0.0974\n",
            "Epoch 26/130\n",
            "10/10 [==============================] - 0s 7ms/step - loss: 0.0489 - val_loss: 0.0745\n",
            "Epoch 27/130\n",
            "10/10 [==============================] - 0s 7ms/step - loss: 0.0384 - val_loss: 0.0581\n",
            "Epoch 28/130\n",
            "10/10 [==============================] - 0s 6ms/step - loss: 0.0447 - val_loss: 0.0815\n",
            "Epoch 29/130\n",
            "10/10 [==============================] - 0s 6ms/step - loss: 0.0498 - val_loss: 0.0795\n",
            "Epoch 30/130\n",
            "10/10 [==============================] - 0s 6ms/step - loss: 0.0530 - val_loss: 0.0689\n",
            "Epoch 31/130\n",
            "10/10 [==============================] - 0s 6ms/step - loss: 0.0502 - val_loss: 0.0970\n",
            "Epoch 32/130\n",
            "10/10 [==============================] - 0s 5ms/step - loss: 0.0793 - val_loss: 0.0674\n",
            "Epoch 33/130\n",
            "10/10 [==============================] - 0s 6ms/step - loss: 0.1652 - val_loss: 0.1121\n",
            "Epoch 34/130\n",
            "10/10 [==============================] - 0s 5ms/step - loss: 0.1083 - val_loss: 0.1651\n",
            "Epoch 35/130\n",
            "10/10 [==============================] - 0s 6ms/step - loss: 0.0884 - val_loss: 0.1561\n",
            "Epoch 36/130\n",
            "10/10 [==============================] - 0s 6ms/step - loss: 0.0900 - val_loss: 0.1411\n",
            "Epoch 37/130\n",
            "10/10 [==============================] - 0s 5ms/step - loss: 0.0710 - val_loss: 0.1216\n",
            "Epoch 38/130\n",
            "10/10 [==============================] - 0s 6ms/step - loss: 0.1117 - val_loss: 0.1496\n",
            "Epoch 39/130\n",
            "10/10 [==============================] - 0s 6ms/step - loss: 0.0618 - val_loss: 0.1469\n",
            "Epoch 40/130\n",
            "10/10 [==============================] - 0s 6ms/step - loss: 0.0793 - val_loss: 0.1923\n",
            "Epoch 41/130\n",
            "10/10 [==============================] - 0s 6ms/step - loss: 0.0914 - val_loss: 0.0971\n",
            "Epoch 42/130\n",
            "10/10 [==============================] - 0s 6ms/step - loss: 0.0603 - val_loss: 0.0909\n",
            "Epoch 43/130\n",
            "10/10 [==============================] - 0s 6ms/step - loss: 0.0484 - val_loss: 0.1099\n",
            "Epoch 44/130\n",
            "10/10 [==============================] - 0s 5ms/step - loss: 0.0452 - val_loss: 0.0721\n",
            "Epoch 45/130\n",
            "10/10 [==============================] - 0s 8ms/step - loss: 0.0398 - val_loss: 0.0683\n",
            "Epoch 46/130\n",
            "10/10 [==============================] - 0s 6ms/step - loss: 0.0413 - val_loss: 0.0796\n",
            "Epoch 47/130\n",
            "10/10 [==============================] - 0s 7ms/step - loss: 0.0372 - val_loss: 0.0918\n",
            "Epoch 48/130\n",
            "10/10 [==============================] - 0s 5ms/step - loss: 0.0371 - val_loss: 0.0853\n",
            "Epoch 49/130\n",
            "10/10 [==============================] - 0s 6ms/step - loss: 0.0356 - val_loss: 0.0947\n",
            "Epoch 50/130\n",
            "10/10 [==============================] - 0s 6ms/step - loss: 0.0392 - val_loss: 0.0791\n",
            "Epoch 51/130\n",
            "10/10 [==============================] - 0s 6ms/step - loss: 0.0382 - val_loss: 0.0918\n",
            "Epoch 52/130\n",
            "10/10 [==============================] - 0s 6ms/step - loss: 0.0405 - val_loss: 0.0832\n",
            "Epoch 53/130\n",
            "10/10 [==============================] - 0s 5ms/step - loss: 0.0432 - val_loss: 0.0762\n",
            "Epoch 54/130\n",
            "10/10 [==============================] - 0s 6ms/step - loss: 0.0344 - val_loss: 0.0731\n",
            "Epoch 55/130\n",
            "10/10 [==============================] - 0s 6ms/step - loss: 0.0420 - val_loss: 0.1105\n",
            "Epoch 56/130\n",
            "10/10 [==============================] - 0s 6ms/step - loss: 0.0598 - val_loss: 0.0791\n",
            "Epoch 57/130\n",
            "10/10 [==============================] - 0s 6ms/step - loss: 0.0475 - val_loss: 0.1185\n",
            "Epoch 58/130\n",
            "10/10 [==============================] - 0s 6ms/step - loss: 0.0559 - val_loss: 0.0816\n",
            "Epoch 59/130\n",
            "10/10 [==============================] - 0s 7ms/step - loss: 0.0603 - val_loss: 0.0854\n",
            "Epoch 60/130\n",
            "10/10 [==============================] - 0s 6ms/step - loss: 0.0638 - val_loss: 0.1147\n",
            "Epoch 61/130\n",
            "10/10 [==============================] - 0s 6ms/step - loss: 0.0593 - val_loss: 0.1016\n",
            "Epoch 62/130\n",
            "10/10 [==============================] - 0s 6ms/step - loss: 0.0473 - val_loss: 0.0899\n",
            "Epoch 63/130\n",
            "10/10 [==============================] - 0s 7ms/step - loss: 0.0389 - val_loss: 0.0782\n",
            "Epoch 64/130\n",
            "10/10 [==============================] - 0s 6ms/step - loss: 0.0402 - val_loss: 0.0734\n",
            "Epoch 65/130\n",
            "10/10 [==============================] - 0s 6ms/step - loss: 0.0384 - val_loss: 0.0780\n",
            "Epoch 66/130\n",
            "10/10 [==============================] - 0s 6ms/step - loss: 0.0352 - val_loss: 0.0807\n",
            "Epoch 67/130\n",
            "10/10 [==============================] - 0s 8ms/step - loss: 0.0324 - val_loss: 0.0755\n",
            "Epoch 68/130\n",
            "10/10 [==============================] - 0s 6ms/step - loss: 0.0353 - val_loss: 0.1052\n",
            "Epoch 69/130\n",
            "10/10 [==============================] - 0s 6ms/step - loss: 0.0392 - val_loss: 0.0729\n",
            "Epoch 70/130\n",
            "10/10 [==============================] - 0s 7ms/step - loss: 0.0275 - val_loss: 0.0758\n",
            "Epoch 71/130\n",
            "10/10 [==============================] - 0s 6ms/step - loss: 0.0231 - val_loss: 0.0727\n",
            "Epoch 72/130\n",
            "10/10 [==============================] - 0s 6ms/step - loss: 0.0252 - val_loss: 0.0820\n",
            "Epoch 73/130\n",
            "10/10 [==============================] - 0s 8ms/step - loss: 0.0357 - val_loss: 0.0994\n",
            "Epoch 74/130\n",
            "10/10 [==============================] - 0s 5ms/step - loss: 0.0609 - val_loss: 0.0973\n",
            "Epoch 75/130\n",
            "10/10 [==============================] - 0s 8ms/step - loss: 0.0393 - val_loss: 0.1009\n",
            "Epoch 76/130\n",
            "10/10 [==============================] - 0s 6ms/step - loss: 0.0416 - val_loss: 0.0852\n",
            "Epoch 77/130\n",
            "10/10 [==============================] - 0s 6ms/step - loss: 0.0330 - val_loss: 0.0792\n",
            "Epoch 78/130\n",
            "10/10 [==============================] - 0s 5ms/step - loss: 0.0301 - val_loss: 0.0855\n",
            "Epoch 79/130\n",
            "10/10 [==============================] - 0s 6ms/step - loss: 0.0319 - val_loss: 0.0914\n",
            "Epoch 80/130\n",
            "10/10 [==============================] - 0s 7ms/step - loss: 0.0327 - val_loss: 0.0859\n",
            "Epoch 81/130\n",
            "10/10 [==============================] - 0s 6ms/step - loss: 0.0284 - val_loss: 0.0942\n",
            "Epoch 82/130\n",
            "10/10 [==============================] - 0s 6ms/step - loss: 0.0328 - val_loss: 0.0810\n",
            "Epoch 83/130\n",
            "10/10 [==============================] - 0s 6ms/step - loss: 0.0289 - val_loss: 0.0794\n",
            "Epoch 84/130\n",
            "10/10 [==============================] - 0s 5ms/step - loss: 0.0291 - val_loss: 0.0747\n",
            "Epoch 85/130\n",
            "10/10 [==============================] - 0s 6ms/step - loss: 0.0307 - val_loss: 0.0839\n",
            "Epoch 86/130\n",
            "10/10 [==============================] - 0s 6ms/step - loss: 0.0292 - val_loss: 0.0894\n",
            "Epoch 87/130\n",
            "10/10 [==============================] - 0s 6ms/step - loss: 0.0426 - val_loss: 0.1542\n",
            "Epoch 88/130\n",
            "10/10 [==============================] - 0s 6ms/step - loss: 0.0856 - val_loss: 0.3092\n",
            "Epoch 89/130\n",
            "10/10 [==============================] - 0s 6ms/step - loss: 0.2754 - val_loss: 0.3413\n",
            "Epoch 90/130\n",
            "10/10 [==============================] - 0s 6ms/step - loss: 0.1838 - val_loss: 0.1784\n",
            "Epoch 91/130\n",
            "10/10 [==============================] - 0s 8ms/step - loss: 0.1059 - val_loss: 0.1457\n",
            "Epoch 92/130\n",
            "10/10 [==============================] - 0s 5ms/step - loss: 0.1046 - val_loss: 0.1646\n",
            "Epoch 93/130\n",
            "10/10 [==============================] - 0s 5ms/step - loss: 0.0995 - val_loss: 0.1715\n",
            "Epoch 94/130\n",
            "10/10 [==============================] - 0s 5ms/step - loss: 0.1016 - val_loss: 0.1756\n",
            "Epoch 95/130\n",
            "10/10 [==============================] - 0s 6ms/step - loss: 0.0985 - val_loss: 0.1663\n",
            "Epoch 96/130\n",
            "10/10 [==============================] - 0s 6ms/step - loss: 0.0908 - val_loss: 0.1496\n",
            "Epoch 97/130\n",
            "10/10 [==============================] - 0s 6ms/step - loss: 0.1311 - val_loss: 0.1562\n",
            "Epoch 98/130\n",
            "10/10 [==============================] - 0s 6ms/step - loss: 0.1238 - val_loss: 0.1603\n",
            "Epoch 99/130\n",
            "10/10 [==============================] - 0s 6ms/step - loss: 0.0734 - val_loss: 0.1088\n",
            "Epoch 100/130\n",
            "10/10 [==============================] - 0s 6ms/step - loss: 0.0731 - val_loss: 0.1494\n",
            "Epoch 101/130\n",
            "10/10 [==============================] - 0s 8ms/step - loss: 0.0724 - val_loss: 0.1576\n",
            "Epoch 102/130\n",
            "10/10 [==============================] - 0s 6ms/step - loss: 0.0985 - val_loss: 0.1207\n",
            "Epoch 103/130\n",
            "10/10 [==============================] - 0s 6ms/step - loss: 0.0778 - val_loss: 0.2377\n",
            "Epoch 104/130\n",
            "10/10 [==============================] - 0s 6ms/step - loss: 0.1795 - val_loss: 0.2212\n",
            "Epoch 105/130\n",
            "10/10 [==============================] - 0s 6ms/step - loss: 0.1223 - val_loss: 0.1423\n",
            "Epoch 106/130\n",
            "10/10 [==============================] - 0s 7ms/step - loss: 0.0854 - val_loss: 0.1561\n",
            "Epoch 107/130\n",
            "10/10 [==============================] - 0s 6ms/step - loss: 0.1091 - val_loss: 0.1978\n",
            "Epoch 108/130\n",
            "10/10 [==============================] - 0s 8ms/step - loss: 0.0950 - val_loss: 0.1332\n",
            "Epoch 109/130\n",
            "10/10 [==============================] - 0s 6ms/step - loss: 0.0604 - val_loss: 0.1498\n",
            "Epoch 110/130\n",
            "10/10 [==============================] - 0s 6ms/step - loss: 0.0615 - val_loss: 0.1258\n",
            "Epoch 111/130\n",
            "10/10 [==============================] - 0s 6ms/step - loss: 0.0563 - val_loss: 0.1360\n",
            "Epoch 112/130\n",
            "10/10 [==============================] - 0s 6ms/step - loss: 0.0525 - val_loss: 0.1740\n",
            "Epoch 113/130\n",
            "10/10 [==============================] - 0s 6ms/step - loss: 0.0498 - val_loss: 0.1430\n",
            "Epoch 114/130\n",
            "10/10 [==============================] - 0s 6ms/step - loss: 0.0442 - val_loss: 0.1110\n",
            "Epoch 115/130\n",
            "10/10 [==============================] - 0s 6ms/step - loss: 0.0454 - val_loss: 0.1768\n",
            "Epoch 116/130\n",
            "10/10 [==============================] - 0s 7ms/step - loss: 0.0600 - val_loss: 0.1532\n",
            "Epoch 117/130\n",
            "10/10 [==============================] - 0s 6ms/step - loss: 0.0391 - val_loss: 0.1191\n",
            "Epoch 118/130\n",
            "10/10 [==============================] - 0s 6ms/step - loss: 0.0358 - val_loss: 0.1100\n",
            "Epoch 119/130\n",
            "10/10 [==============================] - 0s 6ms/step - loss: 0.0352 - val_loss: 0.1162\n",
            "Epoch 120/130\n",
            "10/10 [==============================] - 0s 7ms/step - loss: 0.0378 - val_loss: 0.1391\n",
            "Epoch 121/130\n",
            "10/10 [==============================] - 0s 8ms/step - loss: 0.0493 - val_loss: 0.1899\n",
            "Epoch 122/130\n",
            "10/10 [==============================] - 0s 6ms/step - loss: 0.0421 - val_loss: 0.1353\n",
            "Epoch 123/130\n",
            "10/10 [==============================] - 0s 6ms/step - loss: 0.0404 - val_loss: 0.1782\n",
            "Epoch 124/130\n",
            "10/10 [==============================] - 0s 6ms/step - loss: 0.0460 - val_loss: 0.1198\n",
            "Epoch 125/130\n",
            "10/10 [==============================] - 0s 6ms/step - loss: 0.0330 - val_loss: 0.1295\n",
            "Epoch 126/130\n",
            "10/10 [==============================] - 0s 8ms/step - loss: 0.0299 - val_loss: 0.1025\n",
            "Epoch 127/130\n",
            "10/10 [==============================] - 0s 6ms/step - loss: 0.0255 - val_loss: 0.1156\n",
            "Epoch 128/130\n",
            "10/10 [==============================] - 0s 6ms/step - loss: 0.0241 - val_loss: 0.1139\n",
            "Epoch 129/130\n",
            "10/10 [==============================] - 0s 8ms/step - loss: 0.0295 - val_loss: 0.1294\n",
            "Epoch 130/130\n",
            "10/10 [==============================] - 0s 6ms/step - loss: 0.0322 - val_loss: 0.1210\n"
          ]
        }
      ]
    },
    {
      "cell_type": "code",
      "metadata": {
        "colab": {
          "base_uri": "https://localhost:8080/"
        },
        "id": "k4Fs-UpSHogV",
        "outputId": "b28b18df-0230-4fb2-a12b-722f98d8f039"
      },
      "source": [
        "model.evaluate(test_X, test_Y)\n",
        "# 보통 validation split 해주면 evaluation 좋아짐 "
      ],
      "execution_count": 42,
      "outputs": [
        {
          "output_type": "stream",
          "name": "stdout",
          "text": [
            "4/4 [==============================] - 0s 3ms/step - loss: 0.2014\n"
          ]
        },
        {
          "output_type": "execute_result",
          "data": {
            "text/plain": [
              "0.2014099508523941"
            ]
          },
          "metadata": {},
          "execution_count": 42
        }
      ]
    },
    {
      "cell_type": "code",
      "metadata": {
        "colab": {
          "base_uri": "https://localhost:8080/",
          "height": 282
        },
        "id": "0iwqfKdoHz-D",
        "outputId": "1b69c50c-a9ca-4c5f-e399-f3635d754eb2"
      },
      "source": [
        "plt.plot(history.history['loss'], 'b-')\n",
        "plt.plot(history.history['val_loss'], 'g--')\n",
        "# 뒤쪽으로 갈수록 loss 가 늘어가는 것을 볼 수 있음 - earlystooping 제한 해주기\n",
        "# 보통 loss 보다 val_loss 가 높을 수 밖에 없음"
      ],
      "execution_count": 43,
      "outputs": [
        {
          "output_type": "execute_result",
          "data": {
            "text/plain": [
              "[<matplotlib.lines.Line2D at 0x7fdc966cc810>]"
            ]
          },
          "metadata": {},
          "execution_count": 43
        },
        {
          "output_type": "display_data",
          "data": {
            "image/png": "[encoded data removed]",
            "text/plain": [
              "<Figure size 432x288 with 1 Axes>"
            ]
          },
          "metadata": {
            "needs_background": "light"
          }
        }
      ]
    },
    {
      "cell_type": "markdown",
      "metadata": {
        "id": "_kThP1EwJ9wC"
      },
      "source": [
        "### callback - earlystopping 사용"
      ]
    },
    {
      "cell_type": "code",
      "metadata": {
        "colab": {
          "base_uri": "https://localhost:8080/"
        },
        "id": "PGnQVHXmIhgB",
        "outputId": "7d51bc77-62b8-4677-ab66-4ec1677a2038"
      },
      "source": [
        "history = model.fit(train_X, train_Y, epochs = 130, validation_split=0.25,\n",
        "                    callbacks = [tf.keras.callbacks.EarlyStopping(patience=5)])"
      ],
      "execution_count": 44,
      "outputs": [
        {
          "output_type": "stream",
          "name": "stdout",
          "text": [
            "Epoch 1/130\n",
            "10/10 [==============================] - 0s 10ms/step - loss: 0.0335 - val_loss: 0.1436\n",
            "Epoch 2/130\n",
            "10/10 [==============================] - 0s 6ms/step - loss: 0.0470 - val_loss: 0.1165\n",
            "Epoch 3/130\n",
            "10/10 [==============================] - 0s 6ms/step - loss: 0.0444 - val_loss: 0.1262\n",
            "Epoch 4/130\n",
            "10/10 [==============================] - 0s 6ms/step - loss: 0.0470 - val_loss: 0.1070\n",
            "Epoch 5/130\n",
            "10/10 [==============================] - 0s 6ms/step - loss: 0.0528 - val_loss: 0.1449\n",
            "Epoch 6/130\n",
            "10/10 [==============================] - 0s 6ms/step - loss: 0.0479 - val_loss: 0.1283\n",
            "Epoch 7/130\n",
            "10/10 [==============================] - 0s 6ms/step - loss: 0.0483 - val_loss: 0.1032\n",
            "Epoch 8/130\n",
            "10/10 [==============================] - 0s 8ms/step - loss: 0.0360 - val_loss: 0.1210\n",
            "Epoch 9/130\n",
            "10/10 [==============================] - 0s 6ms/step - loss: 0.0303 - val_loss: 0.1151\n",
            "Epoch 10/130\n",
            "10/10 [==============================] - 0s 8ms/step - loss: 0.0311 - val_loss: 0.1274\n",
            "Epoch 11/130\n",
            "10/10 [==============================] - 0s 6ms/step - loss: 0.0307 - val_loss: 0.1100\n",
            "Epoch 12/130\n",
            "10/10 [==============================] - 0s 6ms/step - loss: 0.0337 - val_loss: 0.1446\n"
          ]
        }
      ]
    },
    {
      "cell_type": "code",
      "metadata": {
        "colab": {
          "base_uri": "https://localhost:8080/",
          "height": 282
        },
        "id": "mk9bPv5SI5e8",
        "outputId": "8cfb78ef-667a-44d0-db6b-32f09c0575b4"
      },
      "source": [
        "plt.plot(history.history['loss'], 'b-')\n",
        "plt.plot(history.history['val_loss'], 'g--')\n",
        "# early stopping 사용하니까 뒤로 갈수록 loss 늘었던 것을 줄여주는 것을 볼 수 있음"
      ],
      "execution_count": 45,
      "outputs": [
        {
          "output_type": "execute_result",
          "data": {
            "text/plain": [
              "[<matplotlib.lines.Line2D at 0x7fdc97136090>]"
            ]
          },
          "metadata": {},
          "execution_count": 45
        },
        {
          "output_type": "display_data",
          "data": {
            "image/png": "[encoded data removed]",
            "text/plain": [
              "<Figure size 432x288 with 1 Axes>"
            ]
          },
          "metadata": {
            "needs_background": "light"
          }
        }
      ]
    },
    {
      "cell_type": "code",
      "metadata": {
        "colab": {
          "base_uri": "https://localhost:8080/"
        },
        "id": "N48ZIsS2JALv",
        "outputId": "cc9187f2-4463-4449-8305-d672d56e62c3"
      },
      "source": [
        "model.evaluate(test_X, test_Y)"
      ],
      "execution_count": 46,
      "outputs": [
        {
          "output_type": "stream",
          "name": "stdout",
          "text": [
            "4/4 [==============================] - 0s 4ms/step - loss: 0.2080\n"
          ]
        },
        {
          "output_type": "execute_result",
          "data": {
            "text/plain": [
              "0.20796974003314972"
            ]
          },
          "metadata": {},
          "execution_count": 46
        }
      ]
    }
  ]
}