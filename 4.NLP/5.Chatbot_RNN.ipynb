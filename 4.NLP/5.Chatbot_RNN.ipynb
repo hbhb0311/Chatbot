{
  "nbformat": 4,
  "nbformat_minor": 0,
  "metadata": {
    "colab": {
      "name": "5.Chatbot_RNN.ipynb",
      "provenance": [],
      "mount_file_id": "1Sw2-sg8_J_FcdmPuyEWVBgf4u1whOeWu",
      "authorship_tag": "ABX9TyM46EwnlJXscyECKEgD7jlt",
      "include_colab_link": true
    },
    "kernelspec": {
      "name": "python3",
      "display_name": "Python 3"
    },
    "language_info": {
      "name": "python"
    },
    "accelerator": "GPU"
  },
  "cells": [
    {
      "cell_type": "markdown",
      "metadata": {
        "id": "view-in-github",
        "colab_type": "text"
      },
      "source": [
        "<a href=\"https://colab.research.google.com/github/hbhb0311/LikelionStudy/blob/main/4.NLP/5.Chatbot_RNN.ipynb\" target=\"_parent\"><img src=\"https://colab.research.google.com/assets/colab-badge.svg\" alt=\"Open In Colab\"/></a>"
      ]
    },
    {
      "cell_type": "markdown",
      "metadata": {
        "id": "Dy55hG_oA2mZ"
      },
      "source": [
        "### SimpleRNN"
      ]
    },
    {
      "cell_type": "markdown",
      "metadata": {
        "id": "F0bci4H59UlR"
      },
      "source": [
        "#### 예제1"
      ]
    },
    {
      "cell_type": "code",
      "metadata": {
        "colab": {
          "base_uri": "https://localhost:8080/"
        },
        "id": "gF3WmdPIAyfM",
        "outputId": "238d5f74-d5bb-4426-fa25-3572a93e8a5a"
      },
      "source": [
        "import numpy as np\n",
        "\n",
        "X = []\n",
        "Y = []\n",
        "\n",
        "for i in range(6):\n",
        "  lst = list(range(i, i+4)) # 길이가 4인 리스트 생성\n",
        "  X.append(list(map(lambda c: [c/10], lst))) \n",
        "  # map(함수, 리스트) : 리스트의 모든 요소들을 함수를 거친 결과를 반환\n",
        "  Y.append((i+4) / 10)\n",
        "\n",
        "X = np.array(X)\n",
        "Y = np.array(Y)\n",
        "\n",
        "for i in range(len(X)):\n",
        "  print(X[i], Y[i])\n",
        "\n",
        "print(X.shape)\n",
        "print(Y.shape)"
      ],
      "execution_count": 1,
      "outputs": [
        {
          "output_type": "stream",
          "name": "stdout",
          "text": [
            "[[0. ]\n",
            " [0.1]\n",
            " [0.2]\n",
            " [0.3]] 0.4\n",
            "[[0.1]\n",
            " [0.2]\n",
            " [0.3]\n",
            " [0.4]] 0.5\n",
            "[[0.2]\n",
            " [0.3]\n",
            " [0.4]\n",
            " [0.5]] 0.6\n",
            "[[0.3]\n",
            " [0.4]\n",
            " [0.5]\n",
            " [0.6]] 0.7\n",
            "[[0.4]\n",
            " [0.5]\n",
            " [0.6]\n",
            " [0.7]] 0.8\n",
            "[[0.5]\n",
            " [0.6]\n",
            " [0.7]\n",
            " [0.8]] 0.9\n",
            "(6, 4, 1)\n",
            "(6,)\n"
          ]
        }
      ]
    },
    {
      "cell_type": "code",
      "metadata": {
        "colab": {
          "base_uri": "https://localhost:8080/"
        },
        "id": "4GEFBhdlAxmr",
        "outputId": "3ca2ce69-6335-450a-8840-68dac1e34627"
      },
      "source": [
        "# 모델 구성\n",
        "import tensorflow as tf\n",
        "model = tf.keras.models.Sequential([\n",
        "                tf.keras.layers.SimpleRNN(units = 10, return_sequences = False, input_shape = [4, 1]),\n",
        "                tf.keras.layers.Dense(1) # y값의 차원 : 1차원\n",
        "])\n",
        "\n",
        "model.compile(optimizer = 'adam', loss = 'mse')\n",
        "\n",
        "# 모델 학습\n",
        "model.fit(X, Y, epochs = 10)\n",
        "\n",
        "# 모델 저장\n",
        "model.save('simplernn.h5')\n",
        "\n",
        "# 모델 이용해 예측\n",
        "print(model.predict(X))"
      ],
      "execution_count": 2,
      "outputs": [
        {
          "output_type": "stream",
          "name": "stdout",
          "text": [
            "Epoch 1/10\n",
            "1/1 [==============================] - 3s 3s/step - loss: 0.0072\n",
            "Epoch 2/10\n",
            "1/1 [==============================] - 0s 13ms/step - loss: 0.0048\n",
            "Epoch 3/10\n",
            "1/1 [==============================] - 0s 15ms/step - loss: 0.0032\n",
            "Epoch 4/10\n",
            "1/1 [==============================] - 0s 13ms/step - loss: 0.0023\n",
            "Epoch 5/10\n",
            "1/1 [==============================] - 0s 17ms/step - loss: 0.0020\n",
            "Epoch 6/10\n",
            "1/1 [==============================] - 0s 11ms/step - loss: 0.0022\n",
            "Epoch 7/10\n",
            "1/1 [==============================] - 0s 18ms/step - loss: 0.0024\n",
            "Epoch 8/10\n",
            "1/1 [==============================] - 0s 14ms/step - loss: 0.0026\n",
            "Epoch 9/10\n",
            "1/1 [==============================] - 0s 15ms/step - loss: 0.0026\n",
            "Epoch 10/10\n",
            "1/1 [==============================] - 0s 12ms/step - loss: 0.0025\n",
            "[[0.31098264]\n",
            " [0.43846253]\n",
            " [0.56306946]\n",
            " [0.6824204 ]\n",
            " [0.7946234 ]\n",
            " [0.8986153 ]]\n"
          ]
        }
      ]
    },
    {
      "cell_type": "markdown",
      "metadata": {
        "id": "DkrjsU2L9Xhy"
      },
      "source": [
        "#### 예제 2 - sine"
      ]
    },
    {
      "cell_type": "code",
      "metadata": {
        "id": "-DekWN7RGK47"
      },
      "source": [
        "import numpy as np\n",
        "import matplotlib.pyplot as plt\n",
        "import tensorflow as tf\n",
        "from tensorflow.keras.layers import Dense, SimpleRNN\n",
        "from tensorflow.keras.models import Sequential"
      ],
      "execution_count": 3,
      "outputs": []
    },
    {
      "cell_type": "code",
      "metadata": {
        "id": "-RxX5_ERGQMo"
      },
      "source": [
        "# sine 함수 학습 데이터 생성\n",
        "x = [i for i in np.arange(-10, 10, 0.1)]\n",
        "train_y = [np.sin(i) for i in x]\n",
        "# [np.sin(x)] 은 length가 1임\n",
        "\n",
        "# 하이퍼파라미터 정의\n",
        "n_timesteps = 15 # n_timesteps : RNN 메모리 셀의 개수 \n",
        "n_features = 1 # 입력 벡터의 차원 크기"
      ],
      "execution_count": 4,
      "outputs": []
    },
    {
      "cell_type": "code",
      "metadata": {
        "id": "YxV8xqXb0nyG"
      },
      "source": [
        "def split_sequence(sequence, step):\n",
        "  x, y = list(), list()\n",
        "\n",
        "  for i in range(len(sequence)):\n",
        "    end_idx = i + step\n",
        "    if end_idx > len(sequence) - 1:\n",
        "      break\n",
        "    \n",
        "    seq_x, seq_y = sequence[i:end_idx], sequence[end_idx]\n",
        "    x.append(seq_x)\n",
        "    y.append(seq_y)\n",
        "\n",
        "  return np.array(x), np.array(y)"
      ],
      "execution_count": 5,
      "outputs": []
    },
    {
      "cell_type": "code",
      "metadata": {
        "colab": {
          "base_uri": "https://localhost:8080/"
        },
        "id": "RrGRyHSUxjZ7",
        "outputId": "cbd61293-1886-4985-b0d3-c653000b697d"
      },
      "source": [
        "# 시퀀스 나누기 \n",
        "train_x, train_y = split_sequence(train_y, n_timesteps)\n",
        "print('shape x: {} / y: {}'.format(train_x.shape, train_y.shape))"
      ],
      "execution_count": 6,
      "outputs": [
        {
          "output_type": "stream",
          "name": "stdout",
          "text": [
            "shape x: (185, 15) / y: (185,)\n"
          ]
        }
      ]
    },
    {
      "cell_type": "code",
      "metadata": {
        "id": "zZwr8djeyi76"
      },
      "source": [
        "# 케라스에서 RNN 계층을 사용하려면 3차원 텐서 형태여야 함 \n",
        "# 따라서 2차원인 train_x를 3차원(batch size, timesteps, input_length)으로 변환\n",
        "train_x = train_x.reshape(train_x.shape[0], train_x.shape[1], n_features)"
      ],
      "execution_count": 7,
      "outputs": []
    },
    {
      "cell_type": "code",
      "metadata": {
        "colab": {
          "base_uri": "https://localhost:8080/"
        },
        "id": "J6OJ4kA47IAN",
        "outputId": "d65e9efb-c373-47e5-e9bf-58357364b926"
      },
      "source": [
        "train_x.shape"
      ],
      "execution_count": 8,
      "outputs": [
        {
          "output_type": "execute_result",
          "data": {
            "text/plain": [
              "(185, 15, 1)"
            ]
          },
          "metadata": {},
          "execution_count": 8
        }
      ]
    },
    {
      "cell_type": "code",
      "metadata": {
        "colab": {
          "base_uri": "https://localhost:8080/"
        },
        "id": "lWytbe1w6T1v",
        "outputId": "5c08fe9a-05ba-4438-fe44-e60723ce9ac0"
      },
      "source": [
        "# RNN 모델 정의\n",
        "model = Sequential()\n",
        "model.add(SimpleRNN(units = 10, return_sequences = False, input_shape = (n_timesteps, n_features))) # train_x.shape = (185,15,1)\n",
        "# return_sequences = True인 경우 모든 RNN 계산 과정에서 결과를 출력\n",
        "# 따라서 다층 구조의 RNN 모델이나 출력이 여러개인 one-to-many, many-to-many 구조에서 사용\n",
        "model.add(Dense(1))\n",
        "\n",
        "# 모델 구성\n",
        "model.compile(optimizer = 'adam', loss = 'mse')\n",
        "\n",
        "# 모델 학습\n",
        "np.random.seed(1)\n",
        "# earlystopping 설정\n",
        "from tensorflow.keras.callbacks import EarlyStopping\n",
        "early_stopping = EarlyStopping(monitor = 'loss', patience = 5, mode = 'auto')\n",
        "history = model.fit(train_x, train_y, epochs = 1000, callbacks = early_stopping)"
      ],
      "execution_count": 9,
      "outputs": [
        {
          "output_type": "stream",
          "name": "stdout",
          "text": [
            "Epoch 1/1000\n",
            "6/6 [==============================] - 1s 16ms/step - loss: 0.0981\n",
            "Epoch 2/1000\n",
            "6/6 [==============================] - 0s 15ms/step - loss: 0.0576\n",
            "Epoch 3/1000\n",
            "6/6 [==============================] - 0s 15ms/step - loss: 0.0321\n",
            "Epoch 4/1000\n",
            "6/6 [==============================] - 0s 22ms/step - loss: 0.0192\n",
            "Epoch 5/1000\n",
            "6/6 [==============================] - 0s 15ms/step - loss: 0.0153\n",
            "Epoch 6/1000\n",
            "6/6 [==============================] - 0s 16ms/step - loss: 0.0144\n",
            "Epoch 7/1000\n",
            "6/6 [==============================] - 0s 19ms/step - loss: 0.0130\n",
            "Epoch 8/1000\n",
            "6/6 [==============================] - 0s 17ms/step - loss: 0.0111\n",
            "Epoch 9/1000\n",
            "6/6 [==============================] - 0s 15ms/step - loss: 0.0096\n",
            "Epoch 10/1000\n",
            "6/6 [==============================] - 0s 15ms/step - loss: 0.0087\n",
            "Epoch 11/1000\n",
            "6/6 [==============================] - 0s 16ms/step - loss: 0.0079\n",
            "Epoch 12/1000\n",
            "6/6 [==============================] - 0s 16ms/step - loss: 0.0071\n",
            "Epoch 13/1000\n",
            "6/6 [==============================] - 0s 16ms/step - loss: 0.0065\n",
            "Epoch 14/1000\n",
            "6/6 [==============================] - 0s 16ms/step - loss: 0.0059\n",
            "Epoch 15/1000\n",
            "6/6 [==============================] - 0s 16ms/step - loss: 0.0054\n",
            "Epoch 16/1000\n",
            "6/6 [==============================] - 0s 15ms/step - loss: 0.0049\n",
            "Epoch 17/1000\n",
            "6/6 [==============================] - 0s 15ms/step - loss: 0.0045\n",
            "Epoch 18/1000\n",
            "6/6 [==============================] - 0s 17ms/step - loss: 0.0042\n",
            "Epoch 19/1000\n",
            "6/6 [==============================] - 0s 16ms/step - loss: 0.0038\n",
            "Epoch 20/1000\n",
            "6/6 [==============================] - 0s 16ms/step - loss: 0.0035\n",
            "Epoch 21/1000\n",
            "6/6 [==============================] - 0s 16ms/step - loss: 0.0032\n",
            "Epoch 22/1000\n",
            "6/6 [==============================] - 0s 15ms/step - loss: 0.0030\n",
            "Epoch 23/1000\n",
            "6/6 [==============================] - 0s 15ms/step - loss: 0.0027\n",
            "Epoch 24/1000\n",
            "6/6 [==============================] - 0s 16ms/step - loss: 0.0025\n",
            "Epoch 25/1000\n",
            "6/6 [==============================] - 0s 14ms/step - loss: 0.0023\n",
            "Epoch 26/1000\n",
            "6/6 [==============================] - 0s 20ms/step - loss: 0.0021\n",
            "Epoch 27/1000\n",
            "6/6 [==============================] - 0s 20ms/step - loss: 0.0019\n",
            "Epoch 28/1000\n",
            "6/6 [==============================] - 0s 15ms/step - loss: 0.0018\n",
            "Epoch 29/1000\n",
            "6/6 [==============================] - 0s 16ms/step - loss: 0.0016\n",
            "Epoch 30/1000\n",
            "6/6 [==============================] - 0s 16ms/step - loss: 0.0015\n",
            "Epoch 31/1000\n",
            "6/6 [==============================] - 0s 15ms/step - loss: 0.0013\n",
            "Epoch 32/1000\n",
            "6/6 [==============================] - 0s 16ms/step - loss: 0.0012\n",
            "Epoch 33/1000\n",
            "6/6 [==============================] - 0s 18ms/step - loss: 0.0011\n",
            "Epoch 34/1000\n",
            "6/6 [==============================] - 0s 16ms/step - loss: 9.6048e-04\n",
            "Epoch 35/1000\n",
            "6/6 [==============================] - 0s 15ms/step - loss: 8.7511e-04\n",
            "Epoch 36/1000\n",
            "6/6 [==============================] - 0s 16ms/step - loss: 7.7404e-04\n",
            "Epoch 37/1000\n",
            "6/6 [==============================] - 0s 18ms/step - loss: 7.0700e-04\n",
            "Epoch 38/1000\n",
            "6/6 [==============================] - 0s 16ms/step - loss: 6.2363e-04\n",
            "Epoch 39/1000\n",
            "6/6 [==============================] - 0s 16ms/step - loss: 5.6197e-04\n",
            "Epoch 40/1000\n",
            "6/6 [==============================] - 0s 15ms/step - loss: 5.0236e-04\n",
            "Epoch 41/1000\n",
            "6/6 [==============================] - 0s 16ms/step - loss: 4.5459e-04\n",
            "Epoch 42/1000\n",
            "6/6 [==============================] - 0s 16ms/step - loss: 4.0566e-04\n",
            "Epoch 43/1000\n",
            "6/6 [==============================] - 0s 17ms/step - loss: 3.6639e-04\n",
            "Epoch 44/1000\n",
            "6/6 [==============================] - 0s 16ms/step - loss: 3.3591e-04\n",
            "Epoch 45/1000\n",
            "6/6 [==============================] - 0s 18ms/step - loss: 3.0622e-04\n",
            "Epoch 46/1000\n",
            "6/6 [==============================] - 0s 16ms/step - loss: 2.8431e-04\n",
            "Epoch 47/1000\n",
            "6/6 [==============================] - 0s 17ms/step - loss: 2.6303e-04\n",
            "Epoch 48/1000\n",
            "6/6 [==============================] - 0s 16ms/step - loss: 2.4833e-04\n",
            "Epoch 49/1000\n",
            "6/6 [==============================] - 0s 15ms/step - loss: 2.3576e-04\n",
            "Epoch 50/1000\n",
            "6/6 [==============================] - 0s 16ms/step - loss: 2.2467e-04\n",
            "Epoch 51/1000\n",
            "6/6 [==============================] - 0s 16ms/step - loss: 2.1597e-04\n",
            "Epoch 52/1000\n",
            "6/6 [==============================] - 0s 17ms/step - loss: 2.0980e-04\n",
            "Epoch 53/1000\n",
            "6/6 [==============================] - 0s 16ms/step - loss: 2.0755e-04\n",
            "Epoch 54/1000\n",
            "6/6 [==============================] - 0s 17ms/step - loss: 2.0003e-04\n",
            "Epoch 55/1000\n",
            "6/6 [==============================] - 0s 14ms/step - loss: 1.9874e-04\n",
            "Epoch 56/1000\n",
            "6/6 [==============================] - 0s 16ms/step - loss: 1.9250e-04\n",
            "Epoch 57/1000\n",
            "6/6 [==============================] - 0s 17ms/step - loss: 1.9103e-04\n",
            "Epoch 58/1000\n",
            "6/6 [==============================] - 0s 15ms/step - loss: 1.9065e-04\n",
            "Epoch 59/1000\n",
            "6/6 [==============================] - 0s 17ms/step - loss: 1.8533e-04\n",
            "Epoch 60/1000\n",
            "6/6 [==============================] - 0s 15ms/step - loss: 1.8364e-04\n",
            "Epoch 61/1000\n",
            "6/6 [==============================] - 0s 15ms/step - loss: 1.7883e-04\n",
            "Epoch 62/1000\n",
            "6/6 [==============================] - 0s 15ms/step - loss: 1.7770e-04\n",
            "Epoch 63/1000\n",
            "6/6 [==============================] - 0s 15ms/step - loss: 1.7488e-04\n",
            "Epoch 64/1000\n",
            "6/6 [==============================] - 0s 19ms/step - loss: 1.7311e-04\n",
            "Epoch 65/1000\n",
            "6/6 [==============================] - 0s 15ms/step - loss: 1.7613e-04\n",
            "Epoch 66/1000\n",
            "6/6 [==============================] - 0s 16ms/step - loss: 1.7379e-04\n",
            "Epoch 67/1000\n",
            "6/6 [==============================] - 0s 17ms/step - loss: 1.6612e-04\n",
            "Epoch 68/1000\n",
            "6/6 [==============================] - 0s 16ms/step - loss: 1.6671e-04\n",
            "Epoch 69/1000\n",
            "6/6 [==============================] - 0s 15ms/step - loss: 1.6257e-04\n",
            "Epoch 70/1000\n",
            "6/6 [==============================] - 0s 14ms/step - loss: 1.6520e-04\n",
            "Epoch 71/1000\n",
            "6/6 [==============================] - 0s 16ms/step - loss: 1.6088e-04\n",
            "Epoch 72/1000\n",
            "6/6 [==============================] - 0s 16ms/step - loss: 1.6147e-04\n",
            "Epoch 73/1000\n",
            "6/6 [==============================] - 0s 17ms/step - loss: 1.5548e-04\n",
            "Epoch 74/1000\n",
            "6/6 [==============================] - 0s 19ms/step - loss: 1.5265e-04\n",
            "Epoch 75/1000\n",
            "6/6 [==============================] - 0s 17ms/step - loss: 1.5791e-04\n",
            "Epoch 76/1000\n",
            "6/6 [==============================] - 0s 17ms/step - loss: 1.5232e-04\n",
            "Epoch 77/1000\n",
            "6/6 [==============================] - 0s 16ms/step - loss: 1.4769e-04\n",
            "Epoch 78/1000\n",
            "6/6 [==============================] - 0s 18ms/step - loss: 1.4936e-04\n",
            "Epoch 79/1000\n",
            "6/6 [==============================] - 0s 15ms/step - loss: 1.5246e-04\n",
            "Epoch 80/1000\n",
            "6/6 [==============================] - 0s 15ms/step - loss: 1.4870e-04\n",
            "Epoch 81/1000\n",
            "6/6 [==============================] - 0s 16ms/step - loss: 1.4830e-04\n",
            "Epoch 82/1000\n",
            "6/6 [==============================] - 0s 17ms/step - loss: 1.4567e-04\n",
            "Epoch 83/1000\n",
            "6/6 [==============================] - 0s 17ms/step - loss: 1.4013e-04\n",
            "Epoch 84/1000\n",
            "6/6 [==============================] - 0s 22ms/step - loss: 1.3830e-04\n",
            "Epoch 85/1000\n",
            "6/6 [==============================] - 0s 21ms/step - loss: 1.3772e-04\n",
            "Epoch 86/1000\n",
            "6/6 [==============================] - 0s 21ms/step - loss: 1.3638e-04\n",
            "Epoch 87/1000\n",
            "6/6 [==============================] - 0s 16ms/step - loss: 1.3238e-04\n",
            "Epoch 88/1000\n",
            "6/6 [==============================] - 0s 16ms/step - loss: 1.3045e-04\n",
            "Epoch 89/1000\n",
            "6/6 [==============================] - 0s 16ms/step - loss: 1.3428e-04\n",
            "Epoch 90/1000\n",
            "6/6 [==============================] - 0s 17ms/step - loss: 1.2814e-04\n",
            "Epoch 91/1000\n",
            "6/6 [==============================] - 0s 17ms/step - loss: 1.2721e-04\n",
            "Epoch 92/1000\n",
            "6/6 [==============================] - 0s 15ms/step - loss: 1.2410e-04\n",
            "Epoch 93/1000\n",
            "6/6 [==============================] - 0s 16ms/step - loss: 1.2134e-04\n",
            "Epoch 94/1000\n",
            "6/6 [==============================] - 0s 16ms/step - loss: 1.2083e-04\n",
            "Epoch 95/1000\n",
            "6/6 [==============================] - 0s 17ms/step - loss: 1.1886e-04\n",
            "Epoch 96/1000\n",
            "6/6 [==============================] - 0s 15ms/step - loss: 1.1822e-04\n",
            "Epoch 97/1000\n",
            "6/6 [==============================] - 0s 15ms/step - loss: 1.1770e-04\n",
            "Epoch 98/1000\n",
            "6/6 [==============================] - 0s 16ms/step - loss: 1.1640e-04\n",
            "Epoch 99/1000\n",
            "6/6 [==============================] - 0s 17ms/step - loss: 1.2097e-04\n",
            "Epoch 100/1000\n",
            "6/6 [==============================] - 0s 16ms/step - loss: 1.2228e-04\n",
            "Epoch 101/1000\n",
            "6/6 [==============================] - 0s 16ms/step - loss: 1.2113e-04\n",
            "Epoch 102/1000\n",
            "6/6 [==============================] - 0s 18ms/step - loss: 1.1926e-04\n",
            "Epoch 103/1000\n",
            "6/6 [==============================] - 0s 15ms/step - loss: 1.1863e-04\n"
          ]
        }
      ]
    },
    {
      "cell_type": "code",
      "metadata": {
        "colab": {
          "base_uri": "https://localhost:8080/",
          "height": 278
        },
        "id": "eGd9Fea68s25",
        "outputId": "c5f70f25-321d-4ab6-fcce-a2993217fbe2"
      },
      "source": [
        "# loss 시각화\n",
        "plt.plot(history.history['loss'], label = 'loss')\n",
        "plt.xlabel('Epoch')\n",
        "plt.legend()\n",
        "plt.show()"
      ],
      "execution_count": 10,
      "outputs": [
        {
          "output_type": "display_data",
          "data": {
            "image/png": "[encoded data removed]",
            "text/plain": [
              "<Figure size 432x288 with 1 Axes>"
            ]
          },
          "metadata": {
            "needs_background": "light"
          }
        }
      ]
    },
    {
      "cell_type": "code",
      "metadata": {
        "id": "P6OYzRMF9EEC"
      },
      "source": [
        "# 테스트 데이터셋 생성\n",
        "test_x = np.arange(10, 20, 0.1)\n",
        "calc_y = np.cos(test_x)"
      ],
      "execution_count": 11,
      "outputs": []
    },
    {
      "cell_type": "code",
      "metadata": {
        "colab": {
          "base_uri": "https://localhost:8080/"
        },
        "id": "bBS8dr2i_ZC5",
        "outputId": "559c3212-17f3-4638-d6f3-91e4dc515a6e"
      },
      "source": [
        "calc_y[:15]"
      ],
      "execution_count": 12,
      "outputs": [
        {
          "output_type": "execute_result",
          "data": {
            "text/plain": [
              "array([-0.83907153, -0.78056818, -0.71426565, -0.64082642, -0.56098426,\n",
              "       -0.47553693, -0.38533819, -0.29128928, -0.19432991, -0.09542885,\n",
              "        0.0044257 ,  0.10423603,  0.20300486,  0.29974534,  0.39349087])"
            ]
          },
          "metadata": {},
          "execution_count": 12
        }
      ]
    },
    {
      "cell_type": "code",
      "metadata": {
        "id": "er02I7jX9lZh"
      },
      "source": [
        "# RNN 모델 예측 및 로그 저장\n",
        "test_y = calc_y[:n_timesteps]\n",
        "# 1. 처음엔 실제값을 n_timesteps 만큼 가져옴\n",
        "\n",
        "for i in range(len(test_x) - n_timesteps): \n",
        "  net_input = test_y[i:i+n_timesteps]\n",
        "  net_input = net_input.reshape((1, n_timesteps, n_features))\n",
        "\n",
        "  train_y = model.predict(net_input) # 2. n_timesteps개의 실제값으로 예측값 1개 만듦\n",
        "  # 4. 1cycle을 돌고 나면 실제값 n_timesteps개와 예측값 1개로 또 새로운 예측값 생성 \n",
        "  # 이렇게 에측값을 계속 늘려가면서 예측하는 것임 -> 결국 test_y에는 예측값들로 거의 이루어짐\n",
        "\n",
        "  test_y = np.append(test_y, train_y) # 3. 예측값 1개 추가해줌"
      ],
      "execution_count": 13,
      "outputs": []
    },
    {
      "cell_type": "code",
      "metadata": {
        "colab": {
          "base_uri": "https://localhost:8080/",
          "height": 264
        },
        "id": "AVzJ_LbY9ptr",
        "outputId": "6856429a-0075-44c3-9c13-78c16070f9ab"
      },
      "source": [
        "# 예측 결과 시각화\n",
        "plt.plot(test_x, calc_y, label = 'ground truth')\n",
        "plt.plot(test_x, test_y, label = 'predictions')\n",
        "plt.legend()\n",
        "plt.show()"
      ],
      "execution_count": 14,
      "outputs": [
        {
          "output_type": "display_data",
          "data": {
            "image/png": "[encoded data removed]",
            "text/plain": [
              "<Figure size 432x288 with 1 Axes>"
            ]
          },
          "metadata": {
            "needs_background": "light"
          }
        }
      ]
    },
    {
      "cell_type": "markdown",
      "metadata": {
        "id": "4CDQgSACmMBa"
      },
      "source": [
        "## LSTM"
      ]
    },
    {
      "cell_type": "code",
      "metadata": {
        "id": "R1nJUS1fBqus",
        "colab": {
          "base_uri": "https://localhost:8080/"
        },
        "outputId": "6e0ff94e-4a99-457c-bbc1-b554aacb52fb"
      },
      "source": [
        "import numpy as np\n",
        "\n",
        "# 곱셈 문제 데이터 설정\n",
        "X = []\n",
        "Y = []\n",
        "\n",
        "for i in range(3000):\n",
        "  lst = np.random.rand(100) # 0과 1사이의 수를 100개 만듦\n",
        "  idx = np.random.choice(100, 2, replace = False) # 0~99까지의 수 중 2개를 뽑음 replace = False : 같은 숫자가 다시 또 뽑히지 않음\n",
        "  zeros = np.zeros(100)\n",
        "  zeros[idx] = 1\n",
        "  X.append(np.array(list(zip(zeros, lst)))) # zip : 동일한 개수로 이루어진 자료형을 묶어줌\n",
        "  Y.append(np.prod(lst[idx]))\n",
        "\n",
        "print(X[0], Y[0])"
      ],
      "execution_count": 15,
      "outputs": [
        {
          "output_type": "stream",
          "name": "stdout",
          "text": [
            "[[0.00000000e+00 4.17022005e-01]\n",
            " [0.00000000e+00 7.20324493e-01]\n",
            " [0.00000000e+00 1.14374817e-04]\n",
            " [0.00000000e+00 3.02332573e-01]\n",
            " [0.00000000e+00 1.46755891e-01]\n",
            " [0.00000000e+00 9.23385948e-02]\n",
            " [0.00000000e+00 1.86260211e-01]\n",
            " [0.00000000e+00 3.45560727e-01]\n",
            " [0.00000000e+00 3.96767474e-01]\n",
            " [0.00000000e+00 5.38816734e-01]\n",
            " [0.00000000e+00 4.19194514e-01]\n",
            " [0.00000000e+00 6.85219500e-01]\n",
            " [0.00000000e+00 2.04452250e-01]\n",
            " [0.00000000e+00 8.78117436e-01]\n",
            " [0.00000000e+00 2.73875932e-02]\n",
            " [0.00000000e+00 6.70467510e-01]\n",
            " [0.00000000e+00 4.17304802e-01]\n",
            " [0.00000000e+00 5.58689828e-01]\n",
            " [0.00000000e+00 1.40386939e-01]\n",
            " [0.00000000e+00 1.98101489e-01]\n",
            " [0.00000000e+00 8.00744569e-01]\n",
            " [0.00000000e+00 9.68261576e-01]\n",
            " [0.00000000e+00 3.13424178e-01]\n",
            " [0.00000000e+00 6.92322616e-01]\n",
            " [0.00000000e+00 8.76389152e-01]\n",
            " [0.00000000e+00 8.94606664e-01]\n",
            " [1.00000000e+00 8.50442114e-02]\n",
            " [0.00000000e+00 3.90547832e-02]\n",
            " [0.00000000e+00 1.69830420e-01]\n",
            " [0.00000000e+00 8.78142503e-01]\n",
            " [0.00000000e+00 9.83468338e-02]\n",
            " [0.00000000e+00 4.21107625e-01]\n",
            " [0.00000000e+00 9.57889530e-01]\n",
            " [0.00000000e+00 5.33165285e-01]\n",
            " [1.00000000e+00 6.91877114e-01]\n",
            " [0.00000000e+00 3.15515631e-01]\n",
            " [0.00000000e+00 6.86500928e-01]\n",
            " [0.00000000e+00 8.34625672e-01]\n",
            " [0.00000000e+00 1.82882773e-02]\n",
            " [0.00000000e+00 7.50144315e-01]\n",
            " [0.00000000e+00 9.88861089e-01]\n",
            " [0.00000000e+00 7.48165654e-01]\n",
            " [0.00000000e+00 2.80443992e-01]\n",
            " [0.00000000e+00 7.89279328e-01]\n",
            " [0.00000000e+00 1.03226007e-01]\n",
            " [0.00000000e+00 4.47893526e-01]\n",
            " [0.00000000e+00 9.08595503e-01]\n",
            " [0.00000000e+00 2.93614148e-01]\n",
            " [0.00000000e+00 2.87775339e-01]\n",
            " [0.00000000e+00 1.30028572e-01]\n",
            " [0.00000000e+00 1.93669579e-02]\n",
            " [0.00000000e+00 6.78835533e-01]\n",
            " [0.00000000e+00 2.11628116e-01]\n",
            " [0.00000000e+00 2.65546659e-01]\n",
            " [0.00000000e+00 4.91573159e-01]\n",
            " [0.00000000e+00 5.33625451e-02]\n",
            " [0.00000000e+00 5.74117605e-01]\n",
            " [0.00000000e+00 1.46728575e-01]\n",
            " [0.00000000e+00 5.89305537e-01]\n",
            " [0.00000000e+00 6.99758360e-01]\n",
            " [0.00000000e+00 1.02334429e-01]\n",
            " [0.00000000e+00 4.14055988e-01]\n",
            " [0.00000000e+00 6.94400158e-01]\n",
            " [0.00000000e+00 4.14179270e-01]\n",
            " [0.00000000e+00 4.99534589e-02]\n",
            " [0.00000000e+00 5.35896406e-01]\n",
            " [0.00000000e+00 6.63794645e-01]\n",
            " [0.00000000e+00 5.14889112e-01]\n",
            " [0.00000000e+00 9.44594756e-01]\n",
            " [0.00000000e+00 5.86555041e-01]\n",
            " [0.00000000e+00 9.03401915e-01]\n",
            " [0.00000000e+00 1.37474704e-01]\n",
            " [0.00000000e+00 1.39276347e-01]\n",
            " [0.00000000e+00 8.07391289e-01]\n",
            " [0.00000000e+00 3.97676837e-01]\n",
            " [0.00000000e+00 1.65354197e-01]\n",
            " [0.00000000e+00 9.27508580e-01]\n",
            " [0.00000000e+00 3.47765860e-01]\n",
            " [0.00000000e+00 7.50812103e-01]\n",
            " [0.00000000e+00 7.25997985e-01]\n",
            " [0.00000000e+00 8.83306091e-01]\n",
            " [0.00000000e+00 6.23672207e-01]\n",
            " [0.00000000e+00 7.50942434e-01]\n",
            " [0.00000000e+00 3.48898342e-01]\n",
            " [0.00000000e+00 2.69927892e-01]\n",
            " [0.00000000e+00 8.95886218e-01]\n",
            " [0.00000000e+00 4.28091190e-01]\n",
            " [0.00000000e+00 9.64840047e-01]\n",
            " [0.00000000e+00 6.63441498e-01]\n",
            " [0.00000000e+00 6.21695720e-01]\n",
            " [0.00000000e+00 1.14745973e-01]\n",
            " [0.00000000e+00 9.49489259e-01]\n",
            " [0.00000000e+00 4.49912133e-01]\n",
            " [0.00000000e+00 5.78389614e-01]\n",
            " [0.00000000e+00 4.08136803e-01]\n",
            " [0.00000000e+00 2.37026980e-01]\n",
            " [0.00000000e+00 9.03379521e-01]\n",
            " [0.00000000e+00 5.73679487e-01]\n",
            " [0.00000000e+00 2.87032703e-03]\n",
            " [0.00000000e+00 6.17144914e-01]] 0.058840143520715975\n"
          ]
        }
      ]
    },
    {
      "cell_type": "code",
      "metadata": {
        "colab": {
          "base_uri": "https://localhost:8080/"
        },
        "id": "z9xhqdLFo7yn",
        "outputId": "a9a196fd-d898-4efc-8a3d-fa0c2b9adef2"
      },
      "source": [
        "# SimpleRNN 레이어를 사용한 곱셈 문제 모델 정의\n",
        "import tensorflow as tf\n",
        "\n",
        "model = tf.keras.models.Sequential([\n",
        "        tf.keras.layers.SimpleRNN(units = 30, return_sequences = True, input_shape = [100,2]),\n",
        "        tf.keras.layers.SimpleRNN(units = 30),\n",
        "        tf.keras.layers.Dense(1)              \n",
        "])\n",
        "\n",
        "model.compile(optimizer = 'adam', loss = 'mse')\n",
        "model.summary()"
      ],
      "execution_count": 16,
      "outputs": [
        {
          "output_type": "stream",
          "name": "stdout",
          "text": [
            "Model: \"sequential_2\"\n",
            "_________________________________________________________________\n",
            "Layer (type)                 Output Shape              Param #   \n",
            "=================================================================\n",
            "simple_rnn_2 (SimpleRNN)     (None, 100, 30)           990       \n",
            "_________________________________________________________________\n",
            "simple_rnn_3 (SimpleRNN)     (None, 30)                1830      \n",
            "_________________________________________________________________\n",
            "dense_2 (Dense)              (None, 1)                 31        \n",
            "=================================================================\n",
            "Total params: 2,851\n",
            "Trainable params: 2,851\n",
            "Non-trainable params: 0\n",
            "_________________________________________________________________\n"
          ]
        }
      ]
    },
    {
      "cell_type": "code",
      "metadata": {
        "colab": {
          "base_uri": "https://localhost:8080/"
        },
        "id": "CBV1lz1Aq5I3",
        "outputId": "7c45d748-1703-45fd-c6aa-d7538f373c99"
      },
      "source": [
        "# 학습(SimpleRNN은 학습시간이 오래 걸리기 때문에 GPU 사용하길 권장)\n",
        "X = np.array(X)\n",
        "Y = np.array(Y)\n",
        "\n",
        "history = model.fit(X[:2560], Y[:2560], epochs = 100, validation_split = 0.2)"
      ],
      "execution_count": 17,
      "outputs": [
        {
          "output_type": "stream",
          "name": "stdout",
          "text": [
            "Epoch 1/100\n",
            "64/64 [==============================] - 11s 157ms/step - loss: 0.2056 - val_loss: 0.0552\n",
            "Epoch 2/100\n",
            "64/64 [==============================] - 10s 152ms/step - loss: 0.0529 - val_loss: 0.0483\n",
            "Epoch 3/100\n",
            "64/64 [==============================] - 9s 148ms/step - loss: 0.0503 - val_loss: 0.0469\n",
            "Epoch 4/100\n",
            "64/64 [==============================] - 10s 159ms/step - loss: 0.0485 - val_loss: 0.0477\n",
            "Epoch 5/100\n",
            "64/64 [==============================] - 9s 147ms/step - loss: 0.0483 - val_loss: 0.0462\n",
            "Epoch 6/100\n",
            "64/64 [==============================] - 9s 148ms/step - loss: 0.0486 - val_loss: 0.0455\n",
            "Epoch 7/100\n",
            "64/64 [==============================] - 10s 157ms/step - loss: 0.0476 - val_loss: 0.0451\n",
            "Epoch 8/100\n",
            "64/64 [==============================] - 9s 148ms/step - loss: 0.0478 - val_loss: 0.0456\n",
            "Epoch 9/100\n",
            "64/64 [==============================] - 10s 150ms/step - loss: 0.0479 - val_loss: 0.0459\n",
            "Epoch 10/100\n",
            "64/64 [==============================] - 9s 146ms/step - loss: 0.0484 - val_loss: 0.0447\n",
            "Epoch 11/100\n",
            "64/64 [==============================] - 10s 149ms/step - loss: 0.0476 - val_loss: 0.0445\n",
            "Epoch 12/100\n",
            "64/64 [==============================] - 10s 150ms/step - loss: 0.0477 - val_loss: 0.0501\n",
            "Epoch 13/100\n",
            "64/64 [==============================] - 10s 152ms/step - loss: 0.0491 - val_loss: 0.0455\n",
            "Epoch 14/100\n",
            "64/64 [==============================] - 10s 149ms/step - loss: 0.0471 - val_loss: 0.0449\n",
            "Epoch 15/100\n",
            "64/64 [==============================] - 9s 146ms/step - loss: 0.0480 - val_loss: 0.0470\n",
            "Epoch 16/100\n",
            "64/64 [==============================] - 10s 150ms/step - loss: 0.0468 - val_loss: 0.0478\n",
            "Epoch 17/100\n",
            "64/64 [==============================] - 10s 153ms/step - loss: 0.0471 - val_loss: 0.0451\n",
            "Epoch 18/100\n",
            "64/64 [==============================] - 10s 155ms/step - loss: 0.0471 - val_loss: 0.0461\n",
            "Epoch 19/100\n",
            "64/64 [==============================] - 10s 154ms/step - loss: 0.0466 - val_loss: 0.0465\n",
            "Epoch 20/100\n",
            "64/64 [==============================] - 10s 152ms/step - loss: 0.0481 - val_loss: 0.0461\n",
            "Epoch 21/100\n",
            "64/64 [==============================] - 10s 155ms/step - loss: 0.0467 - val_loss: 0.0468\n",
            "Epoch 22/100\n",
            "64/64 [==============================] - 10s 156ms/step - loss: 0.0462 - val_loss: 0.0456\n",
            "Epoch 23/100\n",
            "64/64 [==============================] - 9s 148ms/step - loss: 0.0467 - val_loss: 0.0464\n",
            "Epoch 24/100\n",
            "64/64 [==============================] - 10s 152ms/step - loss: 0.0467 - val_loss: 0.0454\n",
            "Epoch 25/100\n",
            "64/64 [==============================] - 10s 158ms/step - loss: 0.0457 - val_loss: 0.0457\n",
            "Epoch 26/100\n",
            "64/64 [==============================] - 10s 155ms/step - loss: 0.0459 - val_loss: 0.0456\n",
            "Epoch 27/100\n",
            "64/64 [==============================] - 10s 158ms/step - loss: 0.0461 - val_loss: 0.0460\n",
            "Epoch 28/100\n",
            "64/64 [==============================] - 10s 154ms/step - loss: 0.0459 - val_loss: 0.0492\n",
            "Epoch 29/100\n",
            "64/64 [==============================] - 10s 160ms/step - loss: 0.0473 - val_loss: 0.0461\n",
            "Epoch 30/100\n",
            "64/64 [==============================] - 10s 154ms/step - loss: 0.0459 - val_loss: 0.0489\n",
            "Epoch 31/100\n",
            "64/64 [==============================] - 10s 159ms/step - loss: 0.0459 - val_loss: 0.0463\n",
            "Epoch 32/100\n",
            "64/64 [==============================] - 9s 148ms/step - loss: 0.0453 - val_loss: 0.0478\n",
            "Epoch 33/100\n",
            "64/64 [==============================] - 10s 150ms/step - loss: 0.0451 - val_loss: 0.0470\n",
            "Epoch 34/100\n",
            "64/64 [==============================] - 9s 147ms/step - loss: 0.0460 - val_loss: 0.0496\n",
            "Epoch 35/100\n",
            "64/64 [==============================] - 9s 147ms/step - loss: 0.0469 - val_loss: 0.0474\n",
            "Epoch 36/100\n",
            "64/64 [==============================] - 9s 143ms/step - loss: 0.0452 - val_loss: 0.0466\n",
            "Epoch 37/100\n",
            "64/64 [==============================] - 9s 147ms/step - loss: 0.0463 - val_loss: 0.0472\n",
            "Epoch 38/100\n",
            "64/64 [==============================] - 9s 145ms/step - loss: 0.0451 - val_loss: 0.0490\n",
            "Epoch 39/100\n",
            "64/64 [==============================] - 9s 147ms/step - loss: 0.0456 - val_loss: 0.0482\n",
            "Epoch 40/100\n",
            "64/64 [==============================] - 9s 146ms/step - loss: 0.0449 - val_loss: 0.0474\n",
            "Epoch 41/100\n",
            "64/64 [==============================] - 10s 159ms/step - loss: 0.0445 - val_loss: 0.0488\n",
            "Epoch 42/100\n",
            "64/64 [==============================] - 10s 154ms/step - loss: 0.0451 - val_loss: 0.0523\n",
            "Epoch 43/100\n",
            "64/64 [==============================] - 9s 140ms/step - loss: 0.0443 - val_loss: 0.0486\n",
            "Epoch 44/100\n",
            "64/64 [==============================] - 9s 146ms/step - loss: 0.0439 - val_loss: 0.0484\n",
            "Epoch 45/100\n",
            "64/64 [==============================] - 10s 160ms/step - loss: 0.0436 - val_loss: 0.0496\n",
            "Epoch 46/100\n",
            "64/64 [==============================] - 10s 156ms/step - loss: 0.0437 - val_loss: 0.0485\n",
            "Epoch 47/100\n",
            "64/64 [==============================] - 9s 147ms/step - loss: 0.0444 - val_loss: 0.0481\n",
            "Epoch 48/100\n",
            "64/64 [==============================] - 9s 148ms/step - loss: 0.0433 - val_loss: 0.0482\n",
            "Epoch 49/100\n",
            "64/64 [==============================] - 9s 141ms/step - loss: 0.0447 - val_loss: 0.0496\n",
            "Epoch 50/100\n",
            "64/64 [==============================] - 10s 154ms/step - loss: 0.0445 - val_loss: 0.0534\n",
            "Epoch 51/100\n",
            "64/64 [==============================] - 10s 155ms/step - loss: 0.0448 - val_loss: 0.0519\n",
            "Epoch 52/100\n",
            "64/64 [==============================] - 10s 153ms/step - loss: 0.0433 - val_loss: 0.0487\n",
            "Epoch 53/100\n",
            "64/64 [==============================] - 10s 154ms/step - loss: 0.0430 - val_loss: 0.0485\n",
            "Epoch 54/100\n",
            "64/64 [==============================] - 10s 164ms/step - loss: 0.0434 - val_loss: 0.0494\n",
            "Epoch 55/100\n",
            "64/64 [==============================] - 10s 150ms/step - loss: 0.0422 - val_loss: 0.0498\n",
            "Epoch 56/100\n",
            "64/64 [==============================] - 9s 144ms/step - loss: 0.0424 - val_loss: 0.0507\n",
            "Epoch 57/100\n",
            "64/64 [==============================] - 9s 145ms/step - loss: 0.0422 - val_loss: 0.0502\n",
            "Epoch 58/100\n",
            "64/64 [==============================] - 9s 138ms/step - loss: 0.0414 - val_loss: 0.0508\n",
            "Epoch 59/100\n",
            "64/64 [==============================] - 10s 152ms/step - loss: 0.0417 - val_loss: 0.0510\n",
            "Epoch 60/100\n",
            "64/64 [==============================] - 10s 149ms/step - loss: 0.0418 - val_loss: 0.0512\n",
            "Epoch 61/100\n",
            "64/64 [==============================] - 10s 152ms/step - loss: 0.0409 - val_loss: 0.0484\n",
            "Epoch 62/100\n",
            "64/64 [==============================] - 9s 144ms/step - loss: 0.0412 - val_loss: 0.0519\n",
            "Epoch 63/100\n",
            "64/64 [==============================] - 10s 151ms/step - loss: 0.0408 - val_loss: 0.0501\n",
            "Epoch 64/100\n",
            "64/64 [==============================] - 9s 145ms/step - loss: 0.0409 - val_loss: 0.0496\n",
            "Epoch 65/100\n",
            "64/64 [==============================] - 9s 146ms/step - loss: 0.0407 - val_loss: 0.0544\n",
            "Epoch 66/100\n",
            "64/64 [==============================] - 9s 144ms/step - loss: 0.0417 - val_loss: 0.0559\n",
            "Epoch 67/100\n",
            "64/64 [==============================] - 10s 151ms/step - loss: 0.0404 - val_loss: 0.0543\n",
            "Epoch 68/100\n",
            "64/64 [==============================] - 9s 148ms/step - loss: 0.0407 - val_loss: 0.0504\n",
            "Epoch 69/100\n",
            "64/64 [==============================] - 9s 148ms/step - loss: 0.0404 - val_loss: 0.0525\n",
            "Epoch 70/100\n",
            "64/64 [==============================] - 9s 147ms/step - loss: 0.0401 - val_loss: 0.0517\n",
            "Epoch 71/100\n",
            "64/64 [==============================] - 9s 144ms/step - loss: 0.0403 - val_loss: 0.0514\n",
            "Epoch 72/100\n",
            "64/64 [==============================] - 10s 149ms/step - loss: 0.0393 - val_loss: 0.0500\n",
            "Epoch 73/100\n",
            "64/64 [==============================] - 10s 163ms/step - loss: 0.0397 - val_loss: 0.0569\n",
            "Epoch 74/100\n",
            "64/64 [==============================] - 9s 145ms/step - loss: 0.0393 - val_loss: 0.0577\n",
            "Epoch 75/100\n",
            "64/64 [==============================] - 10s 151ms/step - loss: 0.0392 - val_loss: 0.0532\n",
            "Epoch 76/100\n",
            "64/64 [==============================] - 9s 148ms/step - loss: 0.0387 - val_loss: 0.0532\n",
            "Epoch 77/100\n",
            "64/64 [==============================] - 9s 142ms/step - loss: 0.0381 - val_loss: 0.0529\n",
            "Epoch 78/100\n",
            "64/64 [==============================] - 9s 142ms/step - loss: 0.0378 - val_loss: 0.0513\n",
            "Epoch 79/100\n",
            "64/64 [==============================] - 9s 142ms/step - loss: 0.0375 - val_loss: 0.0515\n",
            "Epoch 80/100\n",
            "64/64 [==============================] - 9s 141ms/step - loss: 0.0374 - val_loss: 0.0574\n",
            "Epoch 81/100\n",
            "64/64 [==============================] - 10s 149ms/step - loss: 0.0377 - val_loss: 0.0532\n",
            "Epoch 82/100\n",
            "64/64 [==============================] - 9s 149ms/step - loss: 0.0365 - val_loss: 0.0547\n",
            "Epoch 83/100\n",
            "64/64 [==============================] - 10s 154ms/step - loss: 0.0376 - val_loss: 0.0553\n",
            "Epoch 84/100\n",
            "64/64 [==============================] - 9s 141ms/step - loss: 0.0365 - val_loss: 0.0528\n",
            "Epoch 85/100\n",
            "64/64 [==============================] - 9s 148ms/step - loss: 0.0366 - val_loss: 0.0533\n",
            "Epoch 86/100\n",
            "64/64 [==============================] - 9s 146ms/step - loss: 0.0359 - val_loss: 0.0552\n",
            "Epoch 87/100\n",
            "64/64 [==============================] - 10s 150ms/step - loss: 0.0362 - val_loss: 0.0574\n",
            "Epoch 88/100\n",
            "64/64 [==============================] - 9s 149ms/step - loss: 0.0353 - val_loss: 0.0583\n",
            "Epoch 89/100\n",
            "64/64 [==============================] - 9s 148ms/step - loss: 0.0358 - val_loss: 0.0542\n",
            "Epoch 90/100\n",
            "64/64 [==============================] - 9s 147ms/step - loss: 0.0350 - val_loss: 0.0521\n",
            "Epoch 91/100\n",
            "64/64 [==============================] - 10s 150ms/step - loss: 0.0349 - val_loss: 0.0533\n",
            "Epoch 92/100\n",
            "64/64 [==============================] - 9s 148ms/step - loss: 0.0357 - val_loss: 0.0557\n",
            "Epoch 93/100\n",
            "64/64 [==============================] - 9s 143ms/step - loss: 0.0344 - val_loss: 0.0555\n",
            "Epoch 94/100\n",
            "64/64 [==============================] - 9s 144ms/step - loss: 0.0345 - val_loss: 0.0554\n",
            "Epoch 95/100\n",
            "64/64 [==============================] - 9s 148ms/step - loss: 0.0331 - val_loss: 0.0571\n",
            "Epoch 96/100\n",
            "64/64 [==============================] - 10s 150ms/step - loss: 0.0342 - val_loss: 0.0595\n",
            "Epoch 97/100\n",
            "64/64 [==============================] - 10s 156ms/step - loss: 0.0331 - val_loss: 0.0560\n",
            "Epoch 98/100\n",
            "64/64 [==============================] - 10s 161ms/step - loss: 0.0330 - val_loss: 0.0559\n",
            "Epoch 99/100\n",
            "64/64 [==============================] - 10s 150ms/step - loss: 0.0325 - val_loss: 0.0595\n",
            "Epoch 100/100\n",
            "64/64 [==============================] - 9s 140ms/step - loss: 0.0333 - val_loss: 0.0621\n"
          ]
        }
      ]
    },
    {
      "cell_type": "code",
      "metadata": {
        "colab": {
          "base_uri": "https://localhost:8080/",
          "height": 278
        },
        "id": "qHzcuij0se0v",
        "outputId": "59df5202-430c-49d7-dc6b-a2daf62ef2a6"
      },
      "source": [
        "# 학습결과 시각화\n",
        "import matplotlib.pyplot as plt\n",
        "plt.plot(history.history['loss'], label = 'loss')\n",
        "plt.plot(history.history['val_loss'], label = 'val_loss')\n",
        "plt.xlabel('Epoch')\n",
        "plt.legend()\n",
        "plt.show()"
      ],
      "execution_count": 18,
      "outputs": [
        {
          "output_type": "display_data",
          "data": {
            "image/png": "[encoded data removed]",
            "text/plain": [
              "<Figure size 432x288 with 1 Axes>"
            ]
          },
          "metadata": {
            "needs_background": "light"
          }
        }
      ]
    },
    {
      "cell_type": "code",
      "metadata": {
        "colab": {
          "base_uri": "https://localhost:8080/"
        },
        "id": "dw18Dq4vs6xp",
        "outputId": "ad0d6369-f218-4e4f-8c5b-9ca8acd9b64d"
      },
      "source": [
        "# 오차가 0.04 이상이면 오답 처리\n",
        "model.evaluate(X[2560:], Y[2560:])\n",
        "prediction = model.predict(X[2560:2560+5]) # 5개 테스트 데이터에 대한 예측 표시\n",
        "\n",
        "for i in range(5):\n",
        "  print(Y[2560+i], '\\t', prediction[i][0], '\\t diff:', abs(prediction[i][0] - Y[2560+i]))\n",
        "\n",
        "prediction = model.predict(X[2560:])\n",
        "fail = 0\n",
        "for i in range(len(prediction)):\n",
        "  if abs(prediction[i][0] - Y[2560+i]) > 0.04:\n",
        "    fail += 1\n",
        "print('correctness: ', (440 - fail) / 440 * 100, '%')"
      ],
      "execution_count": 19,
      "outputs": [
        {
          "output_type": "stream",
          "name": "stdout",
          "text": [
            "14/14 [==============================] - 1s 20ms/step - loss: 0.0615\n",
            "0.5217728384005604 \t 0.31915274 \t diff: 0.2026200957762776\n",
            "0.38323305875161234 \t 0.19911009 \t diff: 0.18412296801903788\n",
            "0.1826561327780516 \t 0.32827374 \t diff: 0.1456176106129854\n",
            "0.017277700070884777 \t 0.40963185 \t diff: 0.3923541482643813\n",
            "0.0772595543966384 \t 0.22759399 \t diff: 0.15033443378352213\n",
            "correctness:  11.818181818181818 %\n"
          ]
        }
      ]
    },
    {
      "cell_type": "code",
      "metadata": {
        "colab": {
          "base_uri": "https://localhost:8080/"
        },
        "id": "1CBfEinOuzBP",
        "outputId": "07473d49-b86e-4d2f-c7f6-c1b9c51e2f2a"
      },
      "source": [
        "# LSTM 으로 풀기\n",
        "model = tf.keras.models.Sequential([\n",
        "        tf.keras.layers.LSTM(units = 30, return_sequences = True, input_shape = [100,2]),\n",
        "        tf.keras.layers.LSTM(units = 30),\n",
        "        tf.keras.layers.Dense(1)              \n",
        "])\n",
        "\n",
        "model.compile(optimizer = 'adam', loss = 'mse')\n",
        "model.summary()"
      ],
      "execution_count": 20,
      "outputs": [
        {
          "output_type": "stream",
          "name": "stdout",
          "text": [
            "Model: \"sequential_3\"\n",
            "_________________________________________________________________\n",
            "Layer (type)                 Output Shape              Param #   \n",
            "=================================================================\n",
            "lstm (LSTM)                  (None, 100, 30)           3960      \n",
            "_________________________________________________________________\n",
            "lstm_1 (LSTM)                (None, 30)                7320      \n",
            "_________________________________________________________________\n",
            "dense_3 (Dense)              (None, 1)                 31        \n",
            "=================================================================\n",
            "Total params: 11,311\n",
            "Trainable params: 11,311\n",
            "Non-trainable params: 0\n",
            "_________________________________________________________________\n"
          ]
        }
      ]
    },
    {
      "cell_type": "code",
      "metadata": {
        "colab": {
          "base_uri": "https://localhost:8080/"
        },
        "id": "MWX4IwNwwBfC",
        "outputId": "a3e46949-882a-4929-d450-9e976fba65e8"
      },
      "source": [
        "X = np.array(X)\n",
        "Y = np.array(Y)\n",
        "\n",
        "history = model.fit(X[:2560], Y[:2560], epochs = 100, validation_split = 0.2)"
      ],
      "execution_count": 21,
      "outputs": [
        {
          "output_type": "stream",
          "name": "stdout",
          "text": [
            "Epoch 1/100\n",
            "64/64 [==============================] - 9s 59ms/step - loss: 0.0493 - val_loss: 0.0443\n",
            "Epoch 2/100\n",
            "64/64 [==============================] - 3s 48ms/step - loss: 0.0475 - val_loss: 0.0442\n",
            "Epoch 3/100\n",
            "64/64 [==============================] - 3s 47ms/step - loss: 0.0477 - val_loss: 0.0442\n",
            "Epoch 4/100\n",
            "64/64 [==============================] - 3s 49ms/step - loss: 0.0473 - val_loss: 0.0445\n",
            "Epoch 5/100\n",
            "64/64 [==============================] - 3s 47ms/step - loss: 0.0474 - val_loss: 0.0476\n",
            "Epoch 6/100\n",
            "64/64 [==============================] - 3s 48ms/step - loss: 0.0477 - val_loss: 0.0443\n",
            "Epoch 7/100\n",
            "64/64 [==============================] - 3s 47ms/step - loss: 0.0472 - val_loss: 0.0445\n",
            "Epoch 8/100\n",
            "64/64 [==============================] - 3s 48ms/step - loss: 0.0472 - val_loss: 0.0440\n",
            "Epoch 9/100\n",
            "64/64 [==============================] - 3s 49ms/step - loss: 0.0472 - val_loss: 0.0444\n",
            "Epoch 10/100\n",
            "64/64 [==============================] - 3s 48ms/step - loss: 0.0473 - val_loss: 0.0441\n",
            "Epoch 11/100\n",
            "64/64 [==============================] - 3s 49ms/step - loss: 0.0471 - val_loss: 0.0441\n",
            "Epoch 12/100\n",
            "64/64 [==============================] - 3s 49ms/step - loss: 0.0471 - val_loss: 0.0440\n",
            "Epoch 13/100\n",
            "64/64 [==============================] - 3s 48ms/step - loss: 0.0470 - val_loss: 0.0440\n",
            "Epoch 14/100\n",
            "64/64 [==============================] - 3s 47ms/step - loss: 0.0470 - val_loss: 0.0441\n",
            "Epoch 15/100\n",
            "64/64 [==============================] - 3s 46ms/step - loss: 0.0474 - val_loss: 0.0445\n",
            "Epoch 16/100\n",
            "64/64 [==============================] - 3s 47ms/step - loss: 0.0473 - val_loss: 0.0440\n",
            "Epoch 17/100\n",
            "64/64 [==============================] - 3s 48ms/step - loss: 0.0471 - val_loss: 0.0442\n",
            "Epoch 18/100\n",
            "64/64 [==============================] - 3s 47ms/step - loss: 0.0468 - val_loss: 0.0441\n",
            "Epoch 19/100\n",
            "64/64 [==============================] - 3s 47ms/step - loss: 0.0468 - val_loss: 0.0447\n",
            "Epoch 20/100\n",
            "64/64 [==============================] - 3s 48ms/step - loss: 0.0472 - val_loss: 0.0448\n",
            "Epoch 21/100\n",
            "64/64 [==============================] - 3s 48ms/step - loss: 0.0470 - val_loss: 0.0443\n",
            "Epoch 22/100\n",
            "64/64 [==============================] - 3s 48ms/step - loss: 0.0464 - val_loss: 0.0460\n",
            "Epoch 23/100\n",
            "64/64 [==============================] - 3s 47ms/step - loss: 0.0469 - val_loss: 0.0439\n",
            "Epoch 24/100\n",
            "64/64 [==============================] - 3s 47ms/step - loss: 0.0470 - val_loss: 0.0437\n",
            "Epoch 25/100\n",
            "64/64 [==============================] - 3s 49ms/step - loss: 0.0463 - val_loss: 0.0441\n",
            "Epoch 26/100\n",
            "64/64 [==============================] - 3s 48ms/step - loss: 0.0466 - val_loss: 0.0435\n",
            "Epoch 27/100\n",
            "64/64 [==============================] - 3s 47ms/step - loss: 0.0466 - val_loss: 0.0442\n",
            "Epoch 28/100\n",
            "64/64 [==============================] - 3s 48ms/step - loss: 0.0468 - val_loss: 0.0438\n",
            "Epoch 29/100\n",
            "64/64 [==============================] - 3s 47ms/step - loss: 0.0466 - val_loss: 0.0435\n",
            "Epoch 30/100\n",
            "64/64 [==============================] - 3s 47ms/step - loss: 0.0460 - val_loss: 0.0437\n",
            "Epoch 31/100\n",
            "64/64 [==============================] - 3s 48ms/step - loss: 0.0453 - val_loss: 0.0431\n",
            "Epoch 32/100\n",
            "64/64 [==============================] - 3s 47ms/step - loss: 0.0448 - val_loss: 0.0423\n",
            "Epoch 33/100\n",
            "64/64 [==============================] - 3s 49ms/step - loss: 0.0432 - val_loss: 0.0511\n",
            "Epoch 34/100\n",
            "64/64 [==============================] - 3s 48ms/step - loss: 0.0416 - val_loss: 0.0373\n",
            "Epoch 35/100\n",
            "64/64 [==============================] - 3s 47ms/step - loss: 0.0255 - val_loss: 0.0184\n",
            "Epoch 36/100\n",
            "64/64 [==============================] - 3s 47ms/step - loss: 0.0115 - val_loss: 0.0110\n",
            "Epoch 37/100\n",
            "64/64 [==============================] - 3s 47ms/step - loss: 0.0078 - val_loss: 0.0050\n",
            "Epoch 38/100\n",
            "64/64 [==============================] - 3s 49ms/step - loss: 0.0053 - val_loss: 0.0045\n",
            "Epoch 39/100\n",
            "64/64 [==============================] - 3s 47ms/step - loss: 0.0054 - val_loss: 0.0034\n",
            "Epoch 40/100\n",
            "64/64 [==============================] - 3s 48ms/step - loss: 0.0034 - val_loss: 0.0031\n",
            "Epoch 41/100\n",
            "64/64 [==============================] - 3s 48ms/step - loss: 0.0033 - val_loss: 0.0036\n",
            "Epoch 42/100\n",
            "64/64 [==============================] - 3s 48ms/step - loss: 0.0040 - val_loss: 0.0031\n",
            "Epoch 43/100\n",
            "64/64 [==============================] - 3s 49ms/step - loss: 0.0027 - val_loss: 0.0036\n",
            "Epoch 44/100\n",
            "64/64 [==============================] - 3s 48ms/step - loss: 0.0034 - val_loss: 0.0027\n",
            "Epoch 45/100\n",
            "64/64 [==============================] - 3s 49ms/step - loss: 0.0023 - val_loss: 0.0019\n",
            "Epoch 46/100\n",
            "64/64 [==============================] - 3s 47ms/step - loss: 0.0022 - val_loss: 0.0018\n",
            "Epoch 47/100\n",
            "64/64 [==============================] - 3s 47ms/step - loss: 0.0020 - val_loss: 0.0020\n",
            "Epoch 48/100\n",
            "64/64 [==============================] - 3s 47ms/step - loss: 0.0020 - val_loss: 0.0025\n",
            "Epoch 49/100\n",
            "64/64 [==============================] - 3s 47ms/step - loss: 0.0017 - val_loss: 0.0014\n",
            "Epoch 50/100\n",
            "64/64 [==============================] - 3s 48ms/step - loss: 0.0024 - val_loss: 0.0017\n",
            "Epoch 51/100\n",
            "64/64 [==============================] - 3s 49ms/step - loss: 0.0018 - val_loss: 0.0016\n",
            "Epoch 52/100\n",
            "64/64 [==============================] - 3s 48ms/step - loss: 0.0016 - val_loss: 0.0013\n",
            "Epoch 53/100\n",
            "64/64 [==============================] - 3s 48ms/step - loss: 0.0018 - val_loss: 0.0015\n",
            "Epoch 54/100\n",
            "64/64 [==============================] - 3s 49ms/step - loss: 0.0019 - val_loss: 0.0046\n",
            "Epoch 55/100\n",
            "64/64 [==============================] - 3s 49ms/step - loss: 0.0018 - val_loss: 0.0019\n",
            "Epoch 56/100\n",
            "64/64 [==============================] - 3s 47ms/step - loss: 0.0016 - val_loss: 0.0011\n",
            "Epoch 57/100\n",
            "64/64 [==============================] - 3s 47ms/step - loss: 0.0012 - val_loss: 9.8861e-04\n",
            "Epoch 58/100\n",
            "64/64 [==============================] - 3s 47ms/step - loss: 0.0016 - val_loss: 0.0023\n",
            "Epoch 59/100\n",
            "64/64 [==============================] - 3s 47ms/step - loss: 0.0012 - val_loss: 9.2266e-04\n",
            "Epoch 60/100\n",
            "64/64 [==============================] - 3s 48ms/step - loss: 0.0011 - val_loss: 9.1854e-04\n",
            "Epoch 61/100\n",
            "64/64 [==============================] - 3s 48ms/step - loss: 0.0013 - val_loss: 8.8862e-04\n",
            "Epoch 62/100\n",
            "64/64 [==============================] - 3s 47ms/step - loss: 0.0011 - val_loss: 9.8457e-04\n",
            "Epoch 63/100\n",
            "64/64 [==============================] - 3s 48ms/step - loss: 0.0010 - val_loss: 0.0018\n",
            "Epoch 64/100\n",
            "64/64 [==============================] - 3s 47ms/step - loss: 0.0012 - val_loss: 0.0015\n",
            "Epoch 65/100\n",
            "64/64 [==============================] - 3s 47ms/step - loss: 0.0012 - val_loss: 7.6722e-04\n",
            "Epoch 66/100\n",
            "64/64 [==============================] - 3s 48ms/step - loss: 0.0011 - val_loss: 8.4174e-04\n",
            "Epoch 67/100\n",
            "64/64 [==============================] - 3s 49ms/step - loss: 0.0010 - val_loss: 8.7532e-04\n",
            "Epoch 68/100\n",
            "64/64 [==============================] - 3s 50ms/step - loss: 9.5118e-04 - val_loss: 7.0966e-04\n",
            "Epoch 69/100\n",
            "64/64 [==============================] - 3s 47ms/step - loss: 9.0463e-04 - val_loss: 0.0015\n",
            "Epoch 70/100\n",
            "64/64 [==============================] - 3s 49ms/step - loss: 0.0010 - val_loss: 7.1898e-04\n",
            "Epoch 71/100\n",
            "64/64 [==============================] - 3s 48ms/step - loss: 8.6340e-04 - val_loss: 8.6915e-04\n",
            "Epoch 72/100\n",
            "64/64 [==============================] - 3s 48ms/step - loss: 9.5396e-04 - val_loss: 0.0014\n",
            "Epoch 73/100\n",
            "64/64 [==============================] - 3s 48ms/step - loss: 8.5743e-04 - val_loss: 8.7410e-04\n",
            "Epoch 74/100\n",
            "64/64 [==============================] - 3s 47ms/step - loss: 0.0012 - val_loss: 6.1809e-04\n",
            "Epoch 75/100\n",
            "64/64 [==============================] - 3s 49ms/step - loss: 7.4114e-04 - val_loss: 6.2812e-04\n",
            "Epoch 76/100\n",
            "64/64 [==============================] - 3s 47ms/step - loss: 7.6943e-04 - val_loss: 5.1680e-04\n",
            "Epoch 77/100\n",
            "64/64 [==============================] - 3s 48ms/step - loss: 8.2778e-04 - val_loss: 6.9975e-04\n",
            "Epoch 78/100\n",
            "64/64 [==============================] - 3s 48ms/step - loss: 8.1200e-04 - val_loss: 7.9464e-04\n",
            "Epoch 79/100\n",
            "64/64 [==============================] - 3s 47ms/step - loss: 6.5303e-04 - val_loss: 5.2553e-04\n",
            "Epoch 80/100\n",
            "64/64 [==============================] - 3s 48ms/step - loss: 7.8432e-04 - val_loss: 7.7030e-04\n",
            "Epoch 81/100\n",
            "64/64 [==============================] - 3s 47ms/step - loss: 6.0446e-04 - val_loss: 5.0455e-04\n",
            "Epoch 82/100\n",
            "64/64 [==============================] - 3s 47ms/step - loss: 6.6748e-04 - val_loss: 6.9091e-04\n",
            "Epoch 83/100\n",
            "64/64 [==============================] - 3s 47ms/step - loss: 8.7905e-04 - val_loss: 7.0939e-04\n",
            "Epoch 84/100\n",
            "64/64 [==============================] - 3s 48ms/step - loss: 6.8000e-04 - val_loss: 4.3329e-04\n",
            "Epoch 85/100\n",
            "64/64 [==============================] - 3s 48ms/step - loss: 6.8288e-04 - val_loss: 5.7095e-04\n",
            "Epoch 86/100\n",
            "64/64 [==============================] - 3s 47ms/step - loss: 6.5281e-04 - val_loss: 4.8921e-04\n",
            "Epoch 87/100\n",
            "64/64 [==============================] - 3s 47ms/step - loss: 7.1334e-04 - val_loss: 5.1264e-04\n",
            "Epoch 88/100\n",
            "64/64 [==============================] - 3s 48ms/step - loss: 6.2267e-04 - val_loss: 6.1419e-04\n",
            "Epoch 89/100\n",
            "64/64 [==============================] - 3s 49ms/step - loss: 6.4114e-04 - val_loss: 4.0540e-04\n",
            "Epoch 90/100\n",
            "64/64 [==============================] - 3s 48ms/step - loss: 5.0226e-04 - val_loss: 4.5055e-04\n",
            "Epoch 91/100\n",
            "64/64 [==============================] - 3s 48ms/step - loss: 4.9471e-04 - val_loss: 0.0012\n",
            "Epoch 92/100\n",
            "64/64 [==============================] - 3s 47ms/step - loss: 7.5616e-04 - val_loss: 9.8880e-04\n",
            "Epoch 93/100\n",
            "64/64 [==============================] - 3s 47ms/step - loss: 5.6719e-04 - val_loss: 3.7296e-04\n",
            "Epoch 94/100\n",
            "64/64 [==============================] - 3s 46ms/step - loss: 4.7845e-04 - val_loss: 4.1244e-04\n",
            "Epoch 95/100\n",
            "64/64 [==============================] - 3s 46ms/step - loss: 5.8925e-04 - val_loss: 5.9450e-04\n",
            "Epoch 96/100\n",
            "64/64 [==============================] - 3s 48ms/step - loss: 4.7891e-04 - val_loss: 6.5135e-04\n",
            "Epoch 97/100\n",
            "64/64 [==============================] - 3s 46ms/step - loss: 4.5102e-04 - val_loss: 6.3218e-04\n",
            "Epoch 98/100\n",
            "64/64 [==============================] - 3s 47ms/step - loss: 4.6138e-04 - val_loss: 7.1405e-04\n",
            "Epoch 99/100\n",
            "64/64 [==============================] - 3s 46ms/step - loss: 4.9671e-04 - val_loss: 3.1602e-04\n",
            "Epoch 100/100\n",
            "64/64 [==============================] - 3s 46ms/step - loss: 3.5178e-04 - val_loss: 3.6179e-04\n"
          ]
        }
      ]
    },
    {
      "cell_type": "code",
      "metadata": {
        "colab": {
          "base_uri": "https://localhost:8080/",
          "height": 278
        },
        "id": "QEOp4Q9nwG7w",
        "outputId": "ca01e5d9-66ae-460d-cd1e-c82175f613d5"
      },
      "source": [
        "# 학습결과 시각화\n",
        "import matplotlib.pyplot as plt\n",
        "plt.plot(history.history['loss'], label = 'loss')\n",
        "plt.plot(history.history['val_loss'], label = 'val_loss')\n",
        "plt.xlabel('Epoch')\n",
        "plt.legend()\n",
        "plt.show()"
      ],
      "execution_count": 22,
      "outputs": [
        {
          "output_type": "display_data",
          "data": {
            "image/png": "[encoded data removed]",
            "text/plain": [
              "<Figure size 432x288 with 1 Axes>"
            ]
          },
          "metadata": {
            "needs_background": "light"
          }
        }
      ]
    },
    {
      "cell_type": "code",
      "metadata": {
        "colab": {
          "base_uri": "https://localhost:8080/"
        },
        "id": "yHanJun-wQPl",
        "outputId": "bc332a56-9c96-41a6-821b-1d6528fa99a3"
      },
      "source": [
        "# 오차가 0.04 이상이면 오답 처리\n",
        "model.evaluate(X[2560:], Y[2560:])\n",
        "prediction = model.predict(X[2560:2560+5]) # 5개 테스트 데이터에 대한 예측 표시\n",
        "\n",
        "for i in range(5):\n",
        "  print(Y[2560+i], '\\t', prediction[i][0], '\\t diff:', abs(prediction[i][0] - Y[2560+i]))\n",
        "\n",
        "prediction = model.predict(X[2560:])\n",
        "fail = 0\n",
        "for i in range(len(prediction)):\n",
        "  if abs(prediction[i][0] - Y[2560+i]) > 0.04:\n",
        "    fail += 1\n",
        "print('correctness: ', (440 - fail) / 440 * 100, '%')"
      ],
      "execution_count": 23,
      "outputs": [
        {
          "output_type": "stream",
          "name": "stdout",
          "text": [
            "14/14 [==============================] - 1s 15ms/step - loss: 4.7176e-04\n",
            "0.5217728384005604 \t 0.5472313 \t diff: 0.02545847816590685\n",
            "0.38323305875161234 \t 0.40728596 \t diff: 0.024052899776906334\n",
            "0.1826561327780516 \t 0.17271188 \t diff: 0.009944253763082722\n",
            "0.017277700070884777 \t 0.017364264 \t diff: 8.656346366112122e-05\n",
            "0.0772595543966384 \t 0.05864092 \t diff: 0.018618634770879272\n",
            "correctness:  92.04545454545455 %\n"
          ]
        }
      ]
    },
    {
      "cell_type": "markdown",
      "metadata": {
        "id": "cK5IICxtxalh"
      },
      "source": [
        "## 긍정, 부정 감성 분석"
      ]
    },
    {
      "cell_type": "code",
      "metadata": {
        "id": "yOLv8UddGpyq"
      },
      "source": [
        "import tensorflow as tf\n",
        "import matplotlib.pyplot as plt\n",
        "import pandas as pd\n",
        "import numpy as np"
      ],
      "execution_count": 24,
      "outputs": []
    },
    {
      "cell_type": "code",
      "metadata": {
        "id": "RvYyb2MfwaQF",
        "colab": {
          "base_uri": "https://localhost:8080/"
        },
        "outputId": "59c49e9e-c416-490a-a204-675457f5435d"
      },
      "source": [
        "#Naver Sentiment Movie Corpus v1.0 다운로드\n",
        "path_to_train_file = tf.keras.utils.get_file('train.txt', 'https://raw.githubusercontent.com/e9t/nsmc/master/ratings_train.txt')\n",
        "path_to_test_file = tf.keras.utils.get_file('test.txt', 'https://raw.githubusercontent.com/e9t/nsmc/master/ratings_test.txt')"
      ],
      "execution_count": 25,
      "outputs": [
        {
          "output_type": "stream",
          "name": "stdout",
          "text": [
            "Downloading data from https://raw.githubusercontent.com/e9t/nsmc/master/ratings_train.txt\n",
            "14630912/14628807 [==============================] - 0s 0us/step\n",
            "14639104/14628807 [==============================] - 0s 0us/step\n",
            "Downloading data from https://raw.githubusercontent.com/e9t/nsmc/master/ratings_test.txt\n",
            "4898816/4893335 [==============================] - 0s 0us/step\n",
            "4907008/4893335 [==============================] - 0s 0us/step\n"
          ]
        }
      ]
    },
    {
      "cell_type": "code",
      "metadata": {
        "id": "PLFfIvWDx0Y7"
      },
      "source": [
        "# 데이터 로드 및 확인\n",
        "train_text = open(path_to_train_file, 'rb').read().decode(encoding = 'utf-8')\n",
        "test_text = open(path_to_test_file, 'rb').read().decode(encoding = 'utf-8')"
      ],
      "execution_count": 26,
      "outputs": []
    },
    {
      "cell_type": "code",
      "metadata": {
        "colab": {
          "base_uri": "https://localhost:8080/"
        },
        "id": "J9qlb5t8zGjU",
        "outputId": "24fcf123-38e6-494e-e8e7-db1a7e716ced"
      },
      "source": [
        "print(len(train_text))\n",
        "print(len(test_text))"
      ],
      "execution_count": 27,
      "outputs": [
        {
          "output_type": "stream",
          "name": "stdout",
          "text": [
            "6937271\n",
            "2318260\n"
          ]
        }
      ]
    },
    {
      "cell_type": "code",
      "metadata": {
        "colab": {
          "base_uri": "https://localhost:8080/"
        },
        "id": "M7BVcdoBzIcE",
        "outputId": "95076c00-aa2f-40a8-c04c-0d2f4b6b5a9f"
      },
      "source": [
        "print(train_text[:500])"
      ],
      "execution_count": 28,
      "outputs": [
        {
          "output_type": "stream",
          "name": "stdout",
          "text": [
            "id\tdocument\tlabel\n",
            "9976970\t아 더빙.. 진짜 짜증나네요 목소리\t0\n",
            "3819312\t흠...포스터보고 초딩영화줄....오버연기조차 가볍지 않구나\t1\n",
            "10265843\t너무재밓었다그래서보는것을추천한다\t0\n",
            "9045019\t교도소 이야기구먼 ..솔직히 재미는 없다..평점 조정\t0\n",
            "6483659\t사이몬페그의 익살스런 연기가 돋보였던 영화!스파이더맨에서 늙어보이기만 했던 커스틴 던스트가 너무나도 이뻐보였다\t1\n",
            "5403919\t막 걸음마 뗀 3세부터 초등학교 1학년생인 8살용영화.ㅋㅋㅋ...별반개도 아까움.\t0\n",
            "7797314\t원작의 긴장감을 제대로 살려내지못했다.\t0\n",
            "9443947\t별 반개도 아깝다 욕나온다 이응경 길용우 연기생활이몇년인지..정말 발로해도 그것보단 낫겟다 납치.감금만반복반복..이드라마는 가족도없다 연기못하는사람만모엿네\t0\n",
            "7156791\t액션이 없는데도 재미 있는 몇안되는 영화\t1\n",
            "5912145\t왜케 평점이 낮은건데? 꽤 볼만한데.. 헐리우드식 화려함에만 너무 길들여져\n"
          ]
        }
      ]
    },
    {
      "cell_type": "code",
      "metadata": {
        "colab": {
          "base_uri": "https://localhost:8080/"
        },
        "id": "2FqQp106z3O0",
        "outputId": "bc7e1be4-1c7e-43aa-bab0-1afe9b0c60de"
      },
      "source": [
        "# 학습을 위한 정답 데이터 만들기\n",
        "train_Y = np.array([[int(row.split('\\t')[2])] for row in train_text.split('\\n')[1:] if row.count('\\t') > 0])\n",
        "# 첫째 행은 변수명이 있기 때문에 [1:] 처리\n",
        "test_Y = np.array([[int(row.split('\\t')[2])] for row in test_text.split('\\n')[1:] if row.count('\\t') > 0])\n",
        "\n",
        "print(train_Y.shape, test_Y.shape)\n",
        "print(train_Y[:5])"
      ],
      "execution_count": 29,
      "outputs": [
        {
          "output_type": "stream",
          "name": "stdout",
          "text": [
            "(150000, 1) (50000, 1)\n",
            "[[0]\n",
            " [1]\n",
            " [0]\n",
            " [0]\n",
            " [1]]\n"
          ]
        }
      ]
    },
    {
      "cell_type": "code",
      "metadata": {
        "id": "4zpEg5nD1AnJ"
      },
      "source": [
        "# 데이터 정제\n",
        "import re\n",
        "def clean_str(string):    \n",
        "    string = re.sub(r\"[^가-힣A-Za-z0-9(),!?\\'\\`]\", \" \", string)\n",
        "    string = re.sub(r\"\\'s\", \" \\'s\", string)\n",
        "    string = re.sub(r\"\\'ve\", \" \\'ve\", string)\n",
        "    string = re.sub(r\"n\\'t\", \" n\\'t\", string)\n",
        "    string = re.sub(r\"\\'re\", \" \\'re\", string)\n",
        "    string = re.sub(r\"\\'d\", \" \\'d\", string)\n",
        "    string = re.sub(r\"\\'ll\", \" \\'ll\", string)\n",
        "    string = re.sub(r\",\", \" , \", string)\n",
        "    string = re.sub(r\"!\", \" ! \", string)\n",
        "    string = re.sub(r\"\\(\", \" \\( \", string)\n",
        "    string = re.sub(r\"\\)\", \" \\) \", string)\n",
        "    string = re.sub(r\"\\?\", \" \\? \", string)\n",
        "    string = re.sub(r\"\\s{2,}\", \" \", string)\n",
        "    string = re.sub(r\"\\'{2,}\", \"\\'\", string)\n",
        "    string = re.sub(r\"\\'\", \"\", string)\n",
        "\n",
        "    return string.lower()\n",
        "\n",
        "train_text_X = [row.split('\\t')[1] for row in train_text.split('\\n')[1:] if row.count('\\t') > 0]\n",
        "train_text_X = [clean_str(sentence) for sentence in train_text_X]"
      ],
      "execution_count": 30,
      "outputs": []
    },
    {
      "cell_type": "code",
      "metadata": {
        "colab": {
          "base_uri": "https://localhost:8080/"
        },
        "id": "rjpGvrtE4FQ1",
        "outputId": "278e140b-f646-4b70-8b81-8847167f8af1"
      },
      "source": [
        "train_text_X[:10]"
      ],
      "execution_count": 31,
      "outputs": [
        {
          "output_type": "execute_result",
          "data": {
            "text/plain": [
              "['아 더빙 진짜 짜증나네요 목소리',\n",
              " '흠 포스터보고 초딩영화줄 오버연기조차 가볍지 않구나',\n",
              " '너무재밓었다그래서보는것을추천한다',\n",
              " '교도소 이야기구먼 솔직히 재미는 없다 평점 조정',\n",
              " '사이몬페그의 익살스런 연기가 돋보였던 영화 ! 스파이더맨에서 늙어보이기만 했던 커스틴 던스트가 너무나도 이뻐보였다',\n",
              " '막 걸음마 뗀 3세부터 초등학교 1학년생인 8살용영화 별반개도 아까움 ',\n",
              " '원작의 긴장감을 제대로 살려내지못했다 ',\n",
              " '별 반개도 아깝다 욕나온다 이응경 길용우 연기생활이몇년인지 정말 발로해도 그것보단 낫겟다 납치 감금만반복반복 이드라마는 가족도없다 연기못하는사람만모엿네',\n",
              " '액션이 없는데도 재미 있는 몇안되는 영화',\n",
              " '왜케 평점이 낮은건데 \\\\? 꽤 볼만한데 헐리우드식 화려함에만 너무 길들여져 있나 \\\\? ']"
            ]
          },
          "metadata": {},
          "execution_count": 31
        }
      ]
    },
    {
      "cell_type": "code",
      "metadata": {
        "colab": {
          "base_uri": "https://localhost:8080/"
        },
        "id": "0J_3yj0749UF",
        "outputId": "85be4543-6926-4999-a132-27f5cfacf1fb"
      },
      "source": [
        "sentences = [sentence.split(' ') for sentence in train_text_X]\n",
        "for i in range(5):\n",
        "    print(sentences[i])"
      ],
      "execution_count": 32,
      "outputs": [
        {
          "output_type": "stream",
          "name": "stdout",
          "text": [
            "['아', '더빙', '진짜', '짜증나네요', '목소리']\n",
            "['흠', '포스터보고', '초딩영화줄', '오버연기조차', '가볍지', '않구나']\n",
            "['너무재밓었다그래서보는것을추천한다']\n",
            "['교도소', '이야기구먼', '솔직히', '재미는', '없다', '평점', '조정']\n",
            "['사이몬페그의', '익살스런', '연기가', '돋보였던', '영화', '!', '스파이더맨에서', '늙어보이기만', '했던', '커스틴', '던스트가', '너무나도', '이뻐보였다']\n"
          ]
        }
      ]
    },
    {
      "cell_type": "code",
      "metadata": {
        "colab": {
          "base_uri": "https://localhost:8080/",
          "height": 281
        },
        "id": "gkDWyl2D3BA6",
        "outputId": "9ece9ee7-2606-4432-c70b-c51eee833067"
      },
      "source": [
        "# 각 문장의 단어 길이 확인\n",
        "sentence_len = [len(sentence) for sentence in sentences]\n",
        "sentence_len.sort()\n",
        "plt.plot(sentence_len)\n",
        "plt.show()\n",
        "\n",
        "print(sum([int(l<=25) for l in sentence_len]))"
      ],
      "execution_count": 33,
      "outputs": [
        {
          "output_type": "display_data",
          "data": {
            "image/png": "[encoded data removed]",
            "text/plain": [
              "<Figure size 432x288 with 1 Axes>"
            ]
          },
          "metadata": {
            "needs_background": "light"
          }
        },
        {
          "output_type": "stream",
          "name": "stdout",
          "text": [
            "142587\n"
          ]
        }
      ]
    },
    {
      "cell_type": "code",
      "metadata": {
        "colab": {
          "base_uri": "https://localhost:8080/"
        },
        "id": "3KgR15_43g-u",
        "outputId": "593b3a2e-1139-47e5-c68f-6ecb5286bfa4"
      },
      "source": [
        "# 단어의 최대 길이 조정\n",
        "sentences_new = []\n",
        "for sentence in sentences:\n",
        "  sentences_new.append([word[:5] for word in sentence][:25]) # 문장의 길이도 25자로 통일\n",
        "\n",
        "sentences = sentences_new\n",
        "\n",
        "for i in range(5):\n",
        "  print(sentences[i])"
      ],
      "execution_count": 34,
      "outputs": [
        {
          "output_type": "stream",
          "name": "stdout",
          "text": [
            "['아', '더빙', '진짜', '짜증나네요', '목소리']\n",
            "['흠', '포스터보고', '초딩영화줄', '오버연기조', '가볍지', '않구나']\n",
            "['너무재밓었']\n",
            "['교도소', '이야기구먼', '솔직히', '재미는', '없다', '평점', '조정']\n",
            "['사이몬페그', '익살스런', '연기가', '돋보였던', '영화', '!', '스파이더맨', '늙어보이기', '했던', '커스틴', '던스트가', '너무나도', '이뻐보였다']\n"
          ]
        }
      ]
    },
    {
      "cell_type": "code",
      "metadata": {
        "colab": {
          "base_uri": "https://localhost:8080/"
        },
        "id": "gW1TXKv99nZS",
        "outputId": "5a40de28-090a-4601-b930-5c97154073be"
      },
      "source": [
        "# tokenizer와 pad_sequences 사용한 전처리\n",
        "from tensorflow.keras.preprocessing.text import Tokenizer\n",
        "from tensorflow.keras.preprocessing.sequence import pad_sequences\n",
        "\n",
        "tokenizer = Tokenizer(num_words = 20000)\n",
        "# Tokenizer는 데이터에 출현하는 모든 단어의 개수를 세고 빈도 수로 정렬해 \n",
        "# num_words에 지정된 만큼만 숫자로 반환, 나머지는 0으로 반환! \n",
        "tokenizer.fit_on_texts(sentences)\n",
        "# Tokenizer에 데이터를 실제로 입력함\n",
        "\n",
        "train_X = tokenizer.texts_to_sequences(sentences)\n",
        "# 문장을 입력받아 숫자를 반환\n",
        "train_X = pad_sequences(train_X, padding = 'post')\n",
        "# 데이터에 패딩을 더함 \n",
        "\n",
        "print(train_X[:5])"
      ],
      "execution_count": 35,
      "outputs": [
        {
          "output_type": "stream",
          "name": "stdout",
          "text": [
            "[[   25   884     8  5795  1111     0     0     0     0     0     0     0\n",
            "      0     0     0     0     0     0     0     0     0     0     0     0\n",
            "      0]\n",
            " [  588  5796  6697     0     0     0     0     0     0     0     0     0\n",
            "      0     0     0     0     0     0     0     0     0     0     0     0\n",
            "      0]\n",
            " [    0     0     0     0     0     0     0     0     0     0     0     0\n",
            "      0     0     0     0     0     0     0     0     0     0     0     0\n",
            "      0]\n",
            " [   71   346    31    35 10468     0     0     0     0     0     0     0\n",
            "      0     0     0     0     0     0     0     0     0     0     0     0\n",
            "      0]\n",
            " [  106  5338     4     2  2169   869   573     0     0     0     0     0\n",
            "      0     0     0     0     0     0     0     0     0     0     0     0\n",
            "      0]]\n"
          ]
        }
      ]
    },
    {
      "cell_type": "code",
      "metadata": {
        "colab": {
          "base_uri": "https://localhost:8080/"
        },
        "id": "CB8xxZjo-bux",
        "outputId": "f9a5e243-1021-4e45-a0b6-eb34d3562180"
      },
      "source": [
        "for i in range(1, 10):\n",
        "  print(tokenizer.index_word[i])"
      ],
      "execution_count": 36,
      "outputs": [
        {
          "output_type": "stream",
          "name": "stdout",
          "text": [
            "\n",
            "!\n",
            ",\n",
            "영화\n",
            "\\?\n",
            "너무\n",
            "정말\n",
            "진짜\n",
            "이\n"
          ]
        }
      ]
    },
    {
      "cell_type": "code",
      "metadata": {
        "colab": {
          "base_uri": "https://localhost:8080/"
        },
        "id": "z0TQcRB3Axg3",
        "outputId": "34e3a49e-b369-4367-848d-386fa4c502b1"
      },
      "source": [
        "# 감성 분석을 위한 모델 정의\n",
        "model = tf.keras.models.Sequential([\n",
        "                  tf.keras.layers.Embedding(20000, 300, input_length = 25),\n",
        "                  tf.keras.layers.LSTM(units = 50),\n",
        "                  tf.keras.layers.Dense(2, activation = 'softmax')\n",
        "])\n",
        "\n",
        "model.compile(optimizer = 'adam', loss = 'sparse_categorical_crossentropy', metrics = ['accuracy'])\n",
        "# sparse는 y가 희소행렬일때 사용\n",
        "model.summary()"
      ],
      "execution_count": 37,
      "outputs": [
        {
          "output_type": "stream",
          "name": "stdout",
          "text": [
            "Model: \"sequential_4\"\n",
            "_________________________________________________________________\n",
            "Layer (type)                 Output Shape              Param #   \n",
            "=================================================================\n",
            "embedding (Embedding)        (None, 25, 300)           6000000   \n",
            "_________________________________________________________________\n",
            "lstm_2 (LSTM)                (None, 50)                70200     \n",
            "_________________________________________________________________\n",
            "dense_4 (Dense)              (None, 2)                 102       \n",
            "=================================================================\n",
            "Total params: 6,070,302\n",
            "Trainable params: 6,070,302\n",
            "Non-trainable params: 0\n",
            "_________________________________________________________________\n"
          ]
        }
      ]
    },
    {
      "cell_type": "code",
      "metadata": {
        "colab": {
          "base_uri": "https://localhost:8080/"
        },
        "id": "f24UxBUPC0Eb",
        "outputId": "b956d30b-6274-47ea-d14d-96ea0da5c7e2"
      },
      "source": [
        "# 모델 학습\n",
        "history = model.fit(train_X, train_Y, epochs = 5, validation_split = 0.2, batch_size = 128)"
      ],
      "execution_count": 38,
      "outputs": [
        {
          "output_type": "stream",
          "name": "stdout",
          "text": [
            "Epoch 1/5\n",
            "938/938 [==============================] - 16s 15ms/step - loss: 0.4337 - accuracy: 0.7857 - val_loss: 0.3792 - val_accuracy: 0.8206\n",
            "Epoch 2/5\n",
            "938/938 [==============================] - 13s 14ms/step - loss: 0.3259 - accuracy: 0.8468 - val_loss: 0.3868 - val_accuracy: 0.8203\n",
            "Epoch 3/5\n",
            "938/938 [==============================] - 13s 14ms/step - loss: 0.2738 - accuracy: 0.8677 - val_loss: 0.4153 - val_accuracy: 0.8172\n",
            "Epoch 4/5\n",
            "938/938 [==============================] - 13s 14ms/step - loss: 0.2306 - accuracy: 0.8879 - val_loss: 0.4951 - val_accuracy: 0.8076\n",
            "Epoch 5/5\n",
            "938/938 [==============================] - 13s 14ms/step - loss: 0.1965 - accuracy: 0.9034 - val_loss: 0.5227 - val_accuracy: 0.7995\n"
          ]
        }
      ]
    },
    {
      "cell_type": "code",
      "metadata": {
        "colab": {
          "base_uri": "https://localhost:8080/",
          "height": 270
        },
        "id": "XtrPHIN9DYyH",
        "outputId": "51a36091-037f-4d98-a3d5-4de1df227fbf"
      },
      "source": [
        "# 모델 학습 결과 시각화로 확인\n",
        "plt.figure(figsize = (12,4))\n",
        "\n",
        "plt.subplot(1,2,1)\n",
        "plt.plot(history.history['loss'], 'b-', label = 'loss')\n",
        "plt.plot(history.history['val_loss'], 'r--', label = 'val_loss')\n",
        "plt.xlabel('Epoch')\n",
        "plt.legend()\n",
        "\n",
        "plt.subplot(1,2,2)\n",
        "plt.plot(history.history['accuracy'], 'b-', label = 'accuracy')\n",
        "plt.plot(history.history['val_accuracy'], 'r--', label = 'val_accuracy')\n",
        "plt.xlabel('Epoch')\n",
        "plt.ylim(0.7,1)\n",
        "plt.legend()\n",
        "plt.show()"
      ],
      "execution_count": 39,
      "outputs": [
        {
          "output_type": "display_data",
          "data": {
            "image/png": "[encoded data removed]",
            "text/plain": [
              "<Figure size 864x288 with 2 Axes>"
            ]
          },
          "metadata": {
            "needs_background": "light"
          }
        }
      ]
    },
    {
      "cell_type": "code",
      "metadata": {
        "colab": {
          "base_uri": "https://localhost:8080/"
        },
        "id": "1g78v3GyEIZo",
        "outputId": "63af1efa-5d73-48e1-f61a-192995a0271a"
      },
      "source": [
        "# 테스트 데이터로 평가\n",
        "# Tokenizer는 훈련 데이터로만 학습 시켜야 함\n",
        "test_text_X = [row.split('\\t')[1] for row in test_text.split('\\n')[1:] if row.count('\\t') > 0]\n",
        "test_text_X = [clean_str(sentence) for sentence in test_text_X]\n",
        "sentences = [sentence.split(' ') for sentence in test_text_X]\n",
        "sentences_new = []\n",
        "for sentence in sentences:\n",
        "  sentences_new.append([word[:5] for word in sentence][:25])\n",
        "\n",
        "sentences = sentences_new\n",
        "\n",
        "test_X = tokenizer.texts_to_sequences(sentences)\n",
        "test_X = pad_sequences(test_X, padding = 'post')\n",
        "\n",
        "model.evaluate(test_X, test_Y, verbose = 0)"
      ],
      "execution_count": 40,
      "outputs": [
        {
          "output_type": "execute_result",
          "data": {
            "text/plain": [
              "[0.524860680103302, 0.7951599955558777]"
            ]
          },
          "metadata": {},
          "execution_count": 40
        }
      ]
    },
    {
      "cell_type": "code",
      "metadata": {
        "colab": {
          "base_uri": "https://localhost:8080/"
        },
        "id": "bVTc0lGcFf0s",
        "outputId": "5e9abb34-1942-444c-f687-d39090467e32"
      },
      "source": [
        "# 임의의 문장 감성 분석 결과 확인\n",
        "test_sentence = '재미있을 줄 알았는데 완전 실망했다. 너무 졸리고 돈이 아까웠다.'\n",
        "test_sentence = test_sentence.split(' ')\n",
        "test_sentences = []\n",
        "new_sentence = []\n",
        "\n",
        "for word in test_sentence:\n",
        "  new_sentence.append(word)\n",
        "  test_sentences.append(new_sentence[:])\n",
        "\n",
        "test_X_1 = tokenizer.texts_to_sequences(test_sentences)\n",
        "test_X_1 = pad_sequences(test_X_1, padding = 'post')\n",
        "prediction = model.predict(test_X_1)\n",
        "\n",
        "for idx, sentence in enumerate(test_sentences):\n",
        "  print(sentence)\n",
        "  print(prediction[idx])"
      ],
      "execution_count": 41,
      "outputs": [
        {
          "output_type": "stream",
          "name": "stdout",
          "text": [
            "WARNING:tensorflow:Model was constructed with shape (None, 25) for input KerasTensor(type_spec=TensorSpec(shape=(None, 25), dtype=tf.float32, name='embedding_input'), name='embedding_input', description=\"created by layer 'embedding_input'\"), but it was called on an input with incompatible shape (None, 7).\n",
            "['재미있을']\n",
            "[0.49957022 0.50042975]\n",
            "['재미있을', '줄']\n",
            "[0.6330991 0.3669009]\n",
            "['재미있을', '줄', '알았는데']\n",
            "[0.6433952  0.35660478]\n",
            "['재미있을', '줄', '알았는데', '완전']\n",
            "[0.6339159  0.36608413]\n",
            "['재미있을', '줄', '알았는데', '완전', '실망했다.']\n",
            "[0.6339159  0.36608413]\n",
            "['재미있을', '줄', '알았는데', '완전', '실망했다.', '너무']\n",
            "[0.6252859  0.37471405]\n",
            "['재미있을', '줄', '알았는데', '완전', '실망했다.', '너무', '졸리고']\n",
            "[0.5860498  0.41395023]\n",
            "['재미있을', '줄', '알았는데', '완전', '실망했다.', '너무', '졸리고', '돈이']\n",
            "[0.52236503 0.477635  ]\n",
            "['재미있을', '줄', '알았는데', '완전', '실망했다.', '너무', '졸리고', '돈이', '아까웠다.']\n",
            "[0.52236503 0.477635  ]\n"
          ]
        }
      ]
    }
  ]
}