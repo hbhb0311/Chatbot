{
  "nbformat": 4,
  "nbformat_minor": 0,
  "metadata": {
    "colab": {
      "name": "3.Tensorflow_binaryClassification.ipynb",
      "provenance": [],
      "collapsed_sections": [
        "-P74gpliQmLT",
        "QvFDlPvpRHKV",
        "nRsnNo1FRv6B",
        "9OWiXutOSDUG",
        "YA7qdLPrSFfM",
        "7QFDZJDU3iYp",
        "KmED1AFM3k8V",
        "75ylg4XY4UWF",
        "6VVvX5GG5D9a",
        "OvODFBC16K3C",
        "eKAJbbZn6OvF",
        "CsTaRoMZ6Sh_",
        "wE_kW12I7LYM",
        "AlHWDXqf8LNX",
        "XPc3z_cd87Yk",
        "YVq_X4lp991_",
        "4ofM6U53-Za8"
      ],
      "mount_file_id": "1mxU67IcJj-iwsUfeAyvUBwPeimIBalvu",
      "authorship_tag": "ABX9TyO7yQ4tfwzL0Wytvkl36kwZ",
      "include_colab_link": true
    },
    "kernelspec": {
      "name": "python3",
      "display_name": "Python 3"
    },
    "language_info": {
      "name": "python"
    },
    "accelerator": "GPU"
  },
  "cells": [
    {
      "cell_type": "markdown",
      "metadata": {
        "id": "view-in-github",
        "colab_type": "text"
      },
      "source": [
        "<a href=\"https://colab.research.google.com/github/hbhb0311/LikelionStudy/blob/main/1.DL_basic/3.Tensorflow_binaryClassification.ipynb\" target=\"_parent\"><img src=\"https://colab.research.google.com/assets/colab-badge.svg\" alt=\"Open In Colab\"/></a>"
      ]
    },
    {
      "cell_type": "markdown",
      "metadata": {
        "id": "m_UVsLfQ3QFx"
      },
      "source": [
        "# 이항 분류"
      ]
    },
    {
      "cell_type": "markdown",
      "metadata": {
        "id": "PWDSY15UN_hk"
      },
      "source": [
        "## 이항 분류에 활성화함수 도입 이유"
      ]
    },
    {
      "cell_type": "markdown",
      "metadata": {
        "id": "BwWJq_GUOIyC"
      },
      "source": [
        "Q1. 이진판단을 쉽게 해결하기 위한 방법이 뭐가 있을까? 값 2개를 출력해서 비교해보면 되지 않을까?\n",
        "\n",
        "A1. 앞서 우리가 배운 퍼셉트론의 선형 연산은 하나의 값만 출력해서 2개의 값 출력할 수가 없어\n",
        "\n",
        "<br>\n",
        "\n",
        "\n",
        "Q2. 그럼 임계치를 설정해서 선형 연산 결과가 이 값을 넘는지에 따라 하나의 값을 선택해 출력하면 되지 않을까?\n",
        "\n",
        "A2. 그 방법은 미분이 불가능해 → 그럼 역전파 과정을 수행할 수 없어 파라미터(가중치, 편향) 갱신이 안되겠지? \n",
        "\n",
        "<br>\n",
        "\n",
        "Q3. 그럼 신경망 연산 결과로 확률에 해당하는 값을 추정하고, \n",
        "\n",
        "이 값이 1에 가까우면 참, 0에 가까우면 거짓으로 선택하면 되지 않을까?\n",
        "\n",
        "A3. 선형 연산 결과값 자체는 (-inf, inf) 라서  0~1 사이의 값으로 제한할 수가 없어\n",
        "\n",
        "<br>\n",
        "\n",
        "⇒ 결국! \n",
        "\n",
        "선형 연산에서는 범위의 제한이 없는 실숫값 계산 + 이후 `비선형 활성화 함수` 이용\n",
        "\n",
        "비선형 활성화 함수로 실숫값을 0~1 사이의 값(확률값의 성질)을 갖도록 변환!\n",
        "\n",
        "<br>\n",
        "\n",
        "그렇다면 이진 판단에서는 비선형 활성화 함수 → 시그모이드 사용!\n",
        "\n",
        "그렇다면 파라미터를 갱신할 손실함수는? → 교차 엔트로피 사용!\n",
        "\n",
        "EX) 회귀분석에서는 MSE(평균제곱오차) 사용"
      ]
    },
    {
      "cell_type": "markdown",
      "metadata": {
        "id": "Vt0VVb42OehP"
      },
      "source": [
        "## 시그모이드 함수 :  $\\sigma(x)$\n",
        "\n",
        ": 이진 판단에서 사용하는 활성화함수"
      ]
    },
    {
      "cell_type": "markdown",
      "metadata": {
        "id": "OSN--IskOoLb"
      },
      "source": [
        "### logit = log + odds\n",
        "\n",
        "<br>\n",
        "\n",
        "## Odds\n",
        "\n",
        ": **성공확률이 실패확률에 비해 얼마나 더 큰지**를 설명\n",
        "\n",
        "즉, odds가 클수록 성공확률이 크다는 것을 의미"
      ]
    },
    {
      "cell_type": "code",
      "metadata": {
        "id": "sgSzhZ5jNyPF"
      },
      "source": [
        "from IPython.display import Image"
      ],
      "execution_count": 21,
      "outputs": []
    },
    {
      "cell_type": "code",
      "metadata": {
        "colab": {
          "base_uri": "https://localhost:8080/",
          "height": 236
        },
        "id": "DvzSH6CDPwvB",
        "outputId": "237e38b5-759f-4f41-b43a-e0ad0a8d1d2f"
      },
      "source": [
        "Image('/content/drive/MyDrive/멋쟁이사자처럼/dataset/binary/Untitled.png')"
      ],
      "execution_count": 22,
      "outputs": [
        {
          "output_type": "execute_result",
          "data": {
            "image/png": "[encoded data removed]",
            "text/plain": [
              "<IPython.core.display.Image object>"
            ]
          },
          "metadata": {},
          "execution_count": 22
        }
      ]
    },
    {
      "cell_type": "markdown",
      "metadata": {
        "id": "AEbULF5NOtKh"
      },
      "source": [
        "EX) 경마에서 특정 말이 이길 확률이 75%라고 한다면,\n",
        "\n",
        "$ odds = \\frac{0.75}{0.25} = 3$\n",
        "\n",
        "→ 정수 표현을 이용한다면 3:1과 같이 표현가능, 즉 4게임 중에 3게임은 이기고 1게임은 진다는 의미"
      ]
    },
    {
      "cell_type": "markdown",
      "metadata": {
        "id": "wRbLTVg3PUM2"
      },
      "source": [
        "## Logit\n",
        "\n",
        "logit의 장점 → 넓은 범위의 값을 간단하게 표현 가능, 변화량보다는 비율 관점에서 더 민감하게 포착 가능"
      ]
    },
    {
      "cell_type": "code",
      "metadata": {
        "colab": {
          "base_uri": "https://localhost:8080/",
          "height": 444
        },
        "id": "ksMhFAwfP9rs",
        "outputId": "ad7aa280-2b8a-454a-f306-30e62806a37a"
      },
      "source": [
        "Image('/content/drive/MyDrive/멋쟁이사자처럼/dataset/binary/Untitled1.png')"
      ],
      "execution_count": 23,
      "outputs": [
        {
          "output_type": "execute_result",
          "data": {
            "image/png": "[encoded data removed]",
            "text/plain": [
              "<IPython.core.display.Image object>"
            ]
          },
          "metadata": {},
          "execution_count": 23
        }
      ]
    },
    {
      "cell_type": "markdown",
      "metadata": {
        "id": "0RM3tEV2QBX9"
      },
      "source": [
        "→ 로짓함수와 시그모이드함수는 `역함수` 관계\n",
        "<br>\n",
        "[로짓과 시그모이드 개념에 대한 자세한 설명](https://chacha95.github.io/2019-04-04-logit/)"
      ]
    },
    {
      "cell_type": "markdown",
      "metadata": {
        "id": "jO2QEHXqQODT"
      },
      "source": [
        "## 교차 엔트로피\n",
        "\n",
        ": 이진 판단에서 사용하는 손실 함수"
      ]
    },
    {
      "cell_type": "markdown",
      "metadata": {
        "id": "tZJdCP42QRDT"
      },
      "source": [
        "### 엔트로피\n",
        "\n",
        "[[딥 러닝] 4강. 정보이론 기초, Entropy & Cross-entropy & KL-divergence](https://www.youtube.com/watch?v=z1k8HVU4Mxc)"
      ]
    },
    {
      "cell_type": "markdown",
      "metadata": {
        "id": "ppsClBiQQVXv"
      },
      "source": [
        "단위 정보 수 ^ 정보량 = 표현 범위\n",
        "\n",
        "즉, 전구 4개로 표현한다면 $2^4$ = 16 \n",
        "\n",
        "→ $4 = log_2 16$ ⇒ 정보량 = log_단위 정보수 (표현범위)\n",
        "\n",
        "<br>\n",
        "\n",
        "\n",
        "$H(x)= \\sum - p(x_i) log_2 p(x_i)$\n",
        "\n",
        "→ 로그의 밑이 2인 경우 단위를 섀년 또는 비트라고 함 \n",
        "\n",
        "<br>\n",
        "\n",
        "\n",
        "$H(x)= \\sum - p(x_i)logp(x_i)$\n",
        "\n",
        "→ 밑이 자연상수인 경우는 내트라고 함\n",
        "\n",
        "⇒ **정보 엔트로피**: 정보량의 평균(기댓값), 어떤 확률 분포로 일어나는 사건을 표현하는데 `필요한 정보량` \n",
        "\n",
        "따라서 값이 🔝 → 필요한 정보량 🔝 → 확률분포의 불확실성 🔝\n",
        "\n",
        "<br>\n",
        "\n",
        "\n",
        "$H(x)= \\sum - p(x_i)log p(x_i)$ : 정보량의 가중평균\n",
        "\n",
        "따라서,\n",
        "\n",
        "$p(x_i)$ ⇒ 가중평균 계산에 사용되는 확률분포(하나의 정보량이 나올 확률?)\n",
        "\n",
        "$− log p(x_i)$ ⇒ 정보량을 제공하는 확률분포( $p(x_i)$ 의 정보량)"
      ]
    },
    {
      "cell_type": "markdown",
      "metadata": {
        "id": "-P74gpliQmLT"
      },
      "source": [
        "## 교차 엔트로피\n",
        "\n",
        "$H(P, Q)=−∑p(x_i)logq(x_i)$\n",
        "\n",
        "<br>\n",
        "\n",
        "\n",
        "$logp(x_i)$  ➡️   $logq(x_i)$ 로 바꾸어줌\n",
        "\n",
        "\n",
        "$-logp(x_i)$ : 하나의 $p(x_i)$ 항에 대한 정보량\n",
        "\n",
        "<br>\n",
        "\n",
        "\n",
        "⇒  $-logq(x_i)$ [즉, **딥러닝이 예측한 정보량?**]으로 바꾸어주면, \n",
        "\n",
        "$-logq(xi)$ : 하나의 $q(x_i)$ 항에 대한 정보량 = 틀릴 수 있는 정보의 양\n",
        "\n",
        "<br>\n",
        "\n",
        "\n",
        "$H(x)=−∑p(x_i)logq(x_i)$ → **틀릴 수 있는 정보의 평균**\n",
        "\n",
        "<br>\n",
        "\n",
        "\n",
        "𝐶𝑟𝑜𝑠𝑠𝐸𝑛𝑡𝑟𝑜𝑝𝑦(𝑃,𝑄) ≥ 𝐸𝑛𝑡𝑟𝑜𝑝𝑦(𝑃,𝑃 )\n",
        "\n",
        "교차 엔트로피의 범위는 무한대까지 가능하지만, 학습이 진행되면서 `엔트로피 값에 수렴`하는 것을 목적"
      ]
    },
    {
      "cell_type": "markdown",
      "metadata": {
        "id": "3ERYGPHfRCRJ"
      },
      "source": [
        "교차 엔트로피에 대한 설명 + 예시 :  [https://gnoej671.tistory.com/26](https://gnoej671.tistory.com/26)\n",
        "\n",
        "엔트로피와 교차 엔트로피에 대한 자세한 설명 :  [http://melonicedlatte.com/machinelearning/2019/12/20/204900.html](http://melonicedlatte.com/machinelearning/2019/12/20/204900.html)\n",
        "\n",
        "추후에 참고할 사이트 (로짓, 시그모이드, 소프트맥스) :\n",
        "\n",
        "[https://opentutorials.org/module/3653/22995](https://opentutorials.org/module/3653/22995)"
      ]
    },
    {
      "cell_type": "markdown",
      "metadata": {
        "id": "QvFDlPvpRHKV"
      },
      "source": [
        "## 시그모이드 & 교차 엔트로피\n",
        "\n",
        "이진 판단 문제에 대한 정답으로 $z$가 주어졌을 때, ($z$는 0 또는 1 가능)\n",
        "\n",
        "데이터의 결과가 *참일 확률* :  $P_T =z$ \n",
        "\n",
        "데이터의 결과가 *거짓일 확률* : $P_F = 1-z$\n",
        "\n",
        "<br>\n",
        "\n",
        "\n",
        "---\n",
        "\n",
        "<br>\n",
        "\n",
        "**신경망 예측에 대한 확률값**은 (이진 판단 문제에서 활성화함수로 시그모이드 함수를 사용하니까?)\n",
        "\n",
        "$Q_T =\\sigma(x)$ ,  $Q_F = 1-\\sigma(x)$\n",
        "\n",
        "<br>\n",
        "\n",
        "---\n",
        "\n",
        "<br>\n",
        "\n",
        "⇒ 교차 엔트로피 값 : \n",
        "\n",
        "$H(P, Q)=−∑p(x_i)logq(x_i)$ $= -zlog\\sigma(x) -(1-z)log(1-\\sigma(x))$"
      ]
    },
    {
      "cell_type": "code",
      "metadata": {
        "colab": {
          "base_uri": "https://localhost:8080/",
          "height": 67
        },
        "id": "9AYe5124RTFs",
        "outputId": "2cd6fe37-8782-40bd-ae38-197be3e7c3be"
      },
      "source": [
        "Image('/content/drive/MyDrive/멋쟁이사자처럼/dataset/binary/Untitled2.png')"
      ],
      "execution_count": 24,
      "outputs": [
        {
          "output_type": "execute_result",
          "data": {
            "image/png": "[encoded data removed]",
            "text/plain": [
              "<IPython.core.display.Image object>"
            ]
          },
          "metadata": {},
          "execution_count": 24
        }
      ]
    },
    {
      "cell_type": "markdown",
      "metadata": {
        "id": "9Sj7pjVaRShj"
      },
      "source": [
        "위의 식을 대입하면"
      ]
    },
    {
      "cell_type": "code",
      "metadata": {
        "colab": {
          "base_uri": "https://localhost:8080/",
          "height": 261
        },
        "id": "mQFp0viuRZRW",
        "outputId": "c91b20a6-8380-47a2-9262-07058b92d092"
      },
      "source": [
        "Image('/content/drive/MyDrive/멋쟁이사자처럼/dataset/binary/Untitled3.png')"
      ],
      "execution_count": 25,
      "outputs": [
        {
          "output_type": "execute_result",
          "data": {
            "image/png": "[encoded data removed]",
            "text/plain": [
              "<IPython.core.display.Image object>"
            ]
          },
          "metadata": {},
          "execution_count": 25
        }
      ]
    },
    {
      "cell_type": "markdown",
      "metadata": {
        "id": "eRbelR1HRdbz"
      },
      "source": [
        "→ 이진 판단에서는 z = 0 or z = 1"
      ]
    },
    {
      "cell_type": "code",
      "metadata": {
        "colab": {
          "base_uri": "https://localhost:8080/",
          "height": 84
        },
        "id": "D0LVJh2BRgGd",
        "outputId": "2354c18d-6fec-44f5-b0ed-564fcc7c08d2"
      },
      "source": [
        "Image('/content/drive/MyDrive/멋쟁이사자처럼/dataset/binary/Untitled4.png')"
      ],
      "execution_count": 26,
      "outputs": [
        {
          "output_type": "execute_result",
          "data": {
            "image/png": "[encoded data removed]",
            "text/plain": [
              "<IPython.core.display.Image object>"
            ]
          },
          "metadata": {},
          "execution_count": 26
        }
      ]
    },
    {
      "cell_type": "markdown",
      "metadata": {
        "id": "6IpmE9HzRlOe"
      },
      "source": [
        "→ H의 편미분"
      ]
    },
    {
      "cell_type": "code",
      "metadata": {
        "colab": {
          "base_uri": "https://localhost:8080/",
          "height": 260
        },
        "id": "xS3QyWBQRkKD",
        "outputId": "a857f9ea-15aa-469f-bdd5-b64370e4a507"
      },
      "source": [
        "Image('/content/drive/MyDrive/멋쟁이사자처럼/dataset/binary/Untitled5.png')"
      ],
      "execution_count": 27,
      "outputs": [
        {
          "output_type": "execute_result",
          "data": {
            "image/png": "[encoded data removed]",
            "text/plain": [
              "<IPython.core.display.Image object>"
            ]
          },
          "metadata": {},
          "execution_count": 27
        }
      ]
    },
    {
      "cell_type": "markdown",
      "metadata": {
        "id": "7_jKEpUnRtXL"
      },
      "source": [
        "[+) 시그모이드 미분](https://en.m.wikipedia.org/wiki/Logistic_function#Derivative)"
      ]
    },
    {
      "cell_type": "markdown",
      "metadata": {
        "id": "nRsnNo1FRv6B"
      },
      "source": [
        "## 오버플로우 문제 해결"
      ]
    },
    {
      "cell_type": "markdown",
      "metadata": {
        "id": "9OWiXutOSDUG"
      },
      "source": [
        "#### 시그모이드"
      ]
    },
    {
      "cell_type": "code",
      "metadata": {
        "colab": {
          "base_uri": "https://localhost:8080/"
        },
        "id": "DbCKpRGVRxzW",
        "outputId": "f2bcb900-85d9-41db-cf2d-f785c12ef3c5"
      },
      "source": [
        "import numpy as np\n",
        "\n",
        "def sigmoid(x):\n",
        "  y = 1.0 / (1.0 + np.exp(-x))\n",
        "  return y\n",
        "\n",
        "print(sigmoid(-1000))\n",
        "# 음수값 들어갔을 때 overflow 경고문 발생"
      ],
      "execution_count": 28,
      "outputs": [
        {
          "output_type": "stream",
          "name": "stdout",
          "text": [
            "0.0\n"
          ]
        },
        {
          "output_type": "stream",
          "name": "stderr",
          "text": [
            "/usr/local/lib/python3.7/dist-packages/ipykernel_launcher.py:4: RuntimeWarning: overflow encountered in exp\n",
            "  after removing the cwd from sys.path.\n"
          ]
        }
      ]
    },
    {
      "cell_type": "markdown",
      "metadata": {
        "id": "r9eD3Ad8R3H9"
      },
      "source": [
        "→  식 변경"
      ]
    },
    {
      "cell_type": "code",
      "metadata": {
        "colab": {
          "base_uri": "https://localhost:8080/",
          "height": 0
        },
        "id": "6KWhMw5cR8sx",
        "outputId": "c1647f20-0ffa-421c-f2d4-dd6a08f84570"
      },
      "source": [
        "Image('/content/drive/MyDrive/멋쟁이사자처럼/dataset/binary/Untitled6.png')"
      ],
      "execution_count": 29,
      "outputs": [
        {
          "output_type": "execute_result",
          "data": {
            "image/png": "[encoded data removed]",
            "text/plain": [
              "<IPython.core.display.Image object>"
            ]
          },
          "metadata": {},
          "execution_count": 29
        }
      ]
    },
    {
      "cell_type": "code",
      "metadata": {
        "colab": {
          "base_uri": "https://localhost:8080/"
        },
        "id": "dWDZySfxSABD",
        "outputId": "3e7f5b6b-effc-4e96-b2c3-4138e3df2e6d"
      },
      "source": [
        "def sigmoid(x):\n",
        "  y = np.exp(x) / (1.0 + np.exp(x))\n",
        "  return y\n",
        "\n",
        "sigmoid(-1000)\n",
        "# 출력값 -> 0.0 (정상적으로 나옴)"
      ],
      "execution_count": 30,
      "outputs": [
        {
          "output_type": "execute_result",
          "data": {
            "text/plain": [
              "0.0"
            ]
          },
          "metadata": {},
          "execution_count": 30
        }
      ]
    },
    {
      "cell_type": "markdown",
      "metadata": {
        "id": "YA7qdLPrSFfM"
      },
      "source": [
        "#### 교차엔트로피"
      ]
    },
    {
      "cell_type": "code",
      "metadata": {
        "colab": {
          "base_uri": "https://localhost:8080/"
        },
        "id": "fIz2HygOSHHt",
        "outputId": "c6a5597e-821b-40ba-b97a-345b3a90ea9d"
      },
      "source": [
        "def crossentropy(x):\n",
        "  return np.log(1+np.exp(-x))\n",
        "\n",
        "crossentropy(-1000)\n",
        "# 출력값 -> inf(경고문 발생)"
      ],
      "execution_count": 31,
      "outputs": [
        {
          "output_type": "stream",
          "name": "stderr",
          "text": [
            "/usr/local/lib/python3.7/dist-packages/ipykernel_launcher.py:2: RuntimeWarning: overflow encountered in exp\n",
            "  \n"
          ]
        },
        {
          "output_type": "execute_result",
          "data": {
            "text/plain": [
              "inf"
            ]
          },
          "metadata": {},
          "execution_count": 31
        }
      ]
    },
    {
      "cell_type": "markdown",
      "metadata": {
        "id": "b8uY-SZ8SMC4"
      },
      "source": [
        "→ 식 변경"
      ]
    },
    {
      "cell_type": "code",
      "metadata": {
        "colab": {
          "base_uri": "https://localhost:8080/",
          "height": 243
        },
        "id": "LySYovc3SLgu",
        "outputId": "8fdad8b4-a627-45dd-c4c7-4b013088e609"
      },
      "source": [
        "Image('/content/drive/MyDrive/멋쟁이사자처럼/dataset/binary/Untitled7.png')"
      ],
      "execution_count": 32,
      "outputs": [
        {
          "output_type": "execute_result",
          "data": {
            "image/png": "[encoded data removed]",
            "text/plain": [
              "<IPython.core.display.Image object>"
            ]
          },
          "metadata": {},
          "execution_count": 32
        }
      ]
    },
    {
      "cell_type": "code",
      "metadata": {
        "colab": {
          "base_uri": "https://localhost:8080/"
        },
        "id": "tvZjvIenSRsw",
        "outputId": "bad33203-4dc5-4459-a713-730a8bdb9ed6"
      },
      "source": [
        "def crossentropy(x):\n",
        "  return -x + np.log(np.exp(x) + 1)\n",
        "\n",
        "crossentropy(-1000)\n",
        "# 출력값 : 1000.0(정상적으로 나옴)"
      ],
      "execution_count": 33,
      "outputs": [
        {
          "output_type": "execute_result",
          "data": {
            "text/plain": [
              "1000.0"
            ]
          },
          "metadata": {},
          "execution_count": 33
        }
      ]
    },
    {
      "cell_type": "markdown",
      "metadata": {
        "id": "TYEOPEg-SUsd"
      },
      "source": [
        "하지만, 이러한 식 변형은 x가 음수일때만 해줘야함. 양수일때는 본래의 식을 사용 "
      ]
    },
    {
      "cell_type": "code",
      "metadata": {
        "colab": {
          "base_uri": "https://localhost:8080/",
          "height": 314
        },
        "id": "vENRArOcSWnL",
        "outputId": "97a1ca58-27d0-4ad0-e14d-01f436508a1c"
      },
      "source": [
        "Image('/content/drive/MyDrive/멋쟁이사자처럼/dataset/binary/Untitled8.png')"
      ],
      "execution_count": 34,
      "outputs": [
        {
          "output_type": "execute_result",
          "data": {
            "image/png": "[encoded data removed]",
            "text/plain": [
              "<IPython.core.display.Image object>"
            ]
          },
          "metadata": {},
          "execution_count": 34
        }
      ]
    },
    {
      "cell_type": "markdown",
      "metadata": {
        "id": "nsMprF1sSca2"
      },
      "source": [
        "→ 처리 과정이 복잡해 아래의 식으로 변경해줌 \n",
        "\n",
        "⇒ max 함수와 절대값을 이용해 쉽게 적용할 수 있다."
      ]
    },
    {
      "cell_type": "code",
      "metadata": {
        "colab": {
          "base_uri": "https://localhost:8080/",
          "height": 180
        },
        "id": "CXyHzzn1SZLZ",
        "outputId": "dbb3007f-693d-415c-fb69-8ac9e4cc3c20"
      },
      "source": [
        "Image('/content/drive/MyDrive/멋쟁이사자처럼/dataset/binary/Untitled9.png')"
      ],
      "execution_count": 35,
      "outputs": [
        {
          "output_type": "execute_result",
          "data": {
            "image/png": "[encoded data removed]",
            "text/plain": [
              "<IPython.core.display.Image object>"
            ]
          },
          "metadata": {},
          "execution_count": 35
        }
      ]
    },
    {
      "cell_type": "markdown",
      "metadata": {
        "id": "7QFDZJDU3iYp"
      },
      "source": [
        "## 와인 데이터"
      ]
    },
    {
      "cell_type": "markdown",
      "metadata": {
        "id": "KmED1AFM3k8V"
      },
      "source": [
        "### 데이터 불러오기"
      ]
    },
    {
      "cell_type": "code",
      "metadata": {
        "id": "TrWJQ7-gqmVX"
      },
      "source": [
        "import pandas as pd\n",
        "import numpy as np\n",
        "import matplotlib.pyplot as plt\n",
        "import tensorflow as tf"
      ],
      "execution_count": 36,
      "outputs": []
    },
    {
      "cell_type": "code",
      "metadata": {
        "id": "7jCwjCks3MkJ"
      },
      "source": [
        "red = pd.read_csv('http://archive.ics.uci.edu/ml/machine-learning-databases/wine-quality/winequality-red.csv', sep=';')\n",
        "white = pd.read_csv('http://archive.ics.uci.edu/ml/machine-learning-databases/wine-quality/winequality-white.csv', sep=';')"
      ],
      "execution_count": 37,
      "outputs": []
    },
    {
      "cell_type": "code",
      "metadata": {
        "colab": {
          "base_uri": "https://localhost:8080/",
          "height": 163
        },
        "id": "e5fLQOt13xVr",
        "outputId": "8460502e-e1bf-4998-b78b-f5d583f1f6a0"
      },
      "source": [
        "red.head(2)"
      ],
      "execution_count": 38,
      "outputs": [
        {
          "output_type": "execute_result",
          "data": {
            "text/html": [
              "<div>\n",
              "<style scoped>\n",
              "    .dataframe tbody tr th:only-of-type {\n",
              "        vertical-align: middle;\n",
              "    }\n",
              "\n",
              "    .dataframe tbody tr th {\n",
              "        vertical-align: top;\n",
              "    }\n",
              "\n",
              "    .dataframe thead th {\n",
              "        text-align: right;\n",
              "    }\n",
              "</style>\n",
              "<table border=\"1\" class=\"dataframe\">\n",
              "  <thead>\n",
              "    <tr style=\"text-align: right;\">\n",
              "      <th></th>\n",
              "      <th>fixed acidity</th>\n",
              "      <th>volatile acidity</th>\n",
              "      <th>citric acid</th>\n",
              "      <th>residual sugar</th>\n",
              "      <th>chlorides</th>\n",
              "      <th>free sulfur dioxide</th>\n",
              "      <th>total sulfur dioxide</th>\n",
              "      <th>density</th>\n",
              "      <th>pH</th>\n",
              "      <th>sulphates</th>\n",
              "      <th>alcohol</th>\n",
              "      <th>quality</th>\n",
              "    </tr>\n",
              "  </thead>\n",
              "  <tbody>\n",
              "    <tr>\n",
              "      <th>0</th>\n",
              "      <td>7.4</td>\n",
              "      <td>0.70</td>\n",
              "      <td>0.0</td>\n",
              "      <td>1.9</td>\n",
              "      <td>0.076</td>\n",
              "      <td>11.0</td>\n",
              "      <td>34.0</td>\n",
              "      <td>0.9978</td>\n",
              "      <td>3.51</td>\n",
              "      <td>0.56</td>\n",
              "      <td>9.4</td>\n",
              "      <td>5</td>\n",
              "    </tr>\n",
              "    <tr>\n",
              "      <th>1</th>\n",
              "      <td>7.8</td>\n",
              "      <td>0.88</td>\n",
              "      <td>0.0</td>\n",
              "      <td>2.6</td>\n",
              "      <td>0.098</td>\n",
              "      <td>25.0</td>\n",
              "      <td>67.0</td>\n",
              "      <td>0.9968</td>\n",
              "      <td>3.20</td>\n",
              "      <td>0.68</td>\n",
              "      <td>9.8</td>\n",
              "      <td>5</td>\n",
              "    </tr>\n",
              "  </tbody>\n",
              "</table>\n",
              "</div>"
            ],
            "text/plain": [
              "   fixed acidity  volatile acidity  citric acid  ...  sulphates  alcohol  quality\n",
              "0            7.4              0.70          0.0  ...       0.56      9.4        5\n",
              "1            7.8              0.88          0.0  ...       0.68      9.8        5\n",
              "\n",
              "[2 rows x 12 columns]"
            ]
          },
          "metadata": {},
          "execution_count": 38
        }
      ]
    },
    {
      "cell_type": "code",
      "metadata": {
        "colab": {
          "base_uri": "https://localhost:8080/",
          "height": 163
        },
        "id": "6aruj0EH3y1p",
        "outputId": "6098841f-e94b-4ef1-81be-fcc33204b999"
      },
      "source": [
        "white.head(2)"
      ],
      "execution_count": 39,
      "outputs": [
        {
          "output_type": "execute_result",
          "data": {
            "text/html": [
              "<div>\n",
              "<style scoped>\n",
              "    .dataframe tbody tr th:only-of-type {\n",
              "        vertical-align: middle;\n",
              "    }\n",
              "\n",
              "    .dataframe tbody tr th {\n",
              "        vertical-align: top;\n",
              "    }\n",
              "\n",
              "    .dataframe thead th {\n",
              "        text-align: right;\n",
              "    }\n",
              "</style>\n",
              "<table border=\"1\" class=\"dataframe\">\n",
              "  <thead>\n",
              "    <tr style=\"text-align: right;\">\n",
              "      <th></th>\n",
              "      <th>fixed acidity</th>\n",
              "      <th>volatile acidity</th>\n",
              "      <th>citric acid</th>\n",
              "      <th>residual sugar</th>\n",
              "      <th>chlorides</th>\n",
              "      <th>free sulfur dioxide</th>\n",
              "      <th>total sulfur dioxide</th>\n",
              "      <th>density</th>\n",
              "      <th>pH</th>\n",
              "      <th>sulphates</th>\n",
              "      <th>alcohol</th>\n",
              "      <th>quality</th>\n",
              "    </tr>\n",
              "  </thead>\n",
              "  <tbody>\n",
              "    <tr>\n",
              "      <th>0</th>\n",
              "      <td>7.0</td>\n",
              "      <td>0.27</td>\n",
              "      <td>0.36</td>\n",
              "      <td>20.7</td>\n",
              "      <td>0.045</td>\n",
              "      <td>45.0</td>\n",
              "      <td>170.0</td>\n",
              "      <td>1.001</td>\n",
              "      <td>3.0</td>\n",
              "      <td>0.45</td>\n",
              "      <td>8.8</td>\n",
              "      <td>6</td>\n",
              "    </tr>\n",
              "    <tr>\n",
              "      <th>1</th>\n",
              "      <td>6.3</td>\n",
              "      <td>0.30</td>\n",
              "      <td>0.34</td>\n",
              "      <td>1.6</td>\n",
              "      <td>0.049</td>\n",
              "      <td>14.0</td>\n",
              "      <td>132.0</td>\n",
              "      <td>0.994</td>\n",
              "      <td>3.3</td>\n",
              "      <td>0.49</td>\n",
              "      <td>9.5</td>\n",
              "      <td>6</td>\n",
              "    </tr>\n",
              "  </tbody>\n",
              "</table>\n",
              "</div>"
            ],
            "text/plain": [
              "   fixed acidity  volatile acidity  citric acid  ...  sulphates  alcohol  quality\n",
              "0            7.0              0.27         0.36  ...       0.45      8.8        6\n",
              "1            6.3              0.30         0.34  ...       0.49      9.5        6\n",
              "\n",
              "[2 rows x 12 columns]"
            ]
          },
          "metadata": {},
          "execution_count": 39
        }
      ]
    },
    {
      "cell_type": "code",
      "metadata": {
        "id": "kKwLz8KN3z8Y"
      },
      "source": [
        "# 각자의 데이터에 type 변수를 설정해 추가하기\n",
        "red['type'] = 0\n",
        "white['type'] = 1"
      ],
      "execution_count": 40,
      "outputs": []
    },
    {
      "cell_type": "code",
      "metadata": {
        "colab": {
          "base_uri": "https://localhost:8080/",
          "height": 255
        },
        "id": "GUWZIsgx4IUd",
        "outputId": "492733c5-84e0-438c-e4a0-8f41065ef801"
      },
      "source": [
        "# 데이터 합쳐주기 \n",
        "wine = pd.concat([red, white])\n",
        "wine.head()"
      ],
      "execution_count": 41,
      "outputs": [
        {
          "output_type": "execute_result",
          "data": {
            "text/html": [
              "<div>\n",
              "<style scoped>\n",
              "    .dataframe tbody tr th:only-of-type {\n",
              "        vertical-align: middle;\n",
              "    }\n",
              "\n",
              "    .dataframe tbody tr th {\n",
              "        vertical-align: top;\n",
              "    }\n",
              "\n",
              "    .dataframe thead th {\n",
              "        text-align: right;\n",
              "    }\n",
              "</style>\n",
              "<table border=\"1\" class=\"dataframe\">\n",
              "  <thead>\n",
              "    <tr style=\"text-align: right;\">\n",
              "      <th></th>\n",
              "      <th>fixed acidity</th>\n",
              "      <th>volatile acidity</th>\n",
              "      <th>citric acid</th>\n",
              "      <th>residual sugar</th>\n",
              "      <th>chlorides</th>\n",
              "      <th>free sulfur dioxide</th>\n",
              "      <th>total sulfur dioxide</th>\n",
              "      <th>density</th>\n",
              "      <th>pH</th>\n",
              "      <th>sulphates</th>\n",
              "      <th>alcohol</th>\n",
              "      <th>quality</th>\n",
              "      <th>type</th>\n",
              "    </tr>\n",
              "  </thead>\n",
              "  <tbody>\n",
              "    <tr>\n",
              "      <th>0</th>\n",
              "      <td>7.4</td>\n",
              "      <td>0.70</td>\n",
              "      <td>0.00</td>\n",
              "      <td>1.9</td>\n",
              "      <td>0.076</td>\n",
              "      <td>11.0</td>\n",
              "      <td>34.0</td>\n",
              "      <td>0.9978</td>\n",
              "      <td>3.51</td>\n",
              "      <td>0.56</td>\n",
              "      <td>9.4</td>\n",
              "      <td>5</td>\n",
              "      <td>0</td>\n",
              "    </tr>\n",
              "    <tr>\n",
              "      <th>1</th>\n",
              "      <td>7.8</td>\n",
              "      <td>0.88</td>\n",
              "      <td>0.00</td>\n",
              "      <td>2.6</td>\n",
              "      <td>0.098</td>\n",
              "      <td>25.0</td>\n",
              "      <td>67.0</td>\n",
              "      <td>0.9968</td>\n",
              "      <td>3.20</td>\n",
              "      <td>0.68</td>\n",
              "      <td>9.8</td>\n",
              "      <td>5</td>\n",
              "      <td>0</td>\n",
              "    </tr>\n",
              "    <tr>\n",
              "      <th>2</th>\n",
              "      <td>7.8</td>\n",
              "      <td>0.76</td>\n",
              "      <td>0.04</td>\n",
              "      <td>2.3</td>\n",
              "      <td>0.092</td>\n",
              "      <td>15.0</td>\n",
              "      <td>54.0</td>\n",
              "      <td>0.9970</td>\n",
              "      <td>3.26</td>\n",
              "      <td>0.65</td>\n",
              "      <td>9.8</td>\n",
              "      <td>5</td>\n",
              "      <td>0</td>\n",
              "    </tr>\n",
              "    <tr>\n",
              "      <th>3</th>\n",
              "      <td>11.2</td>\n",
              "      <td>0.28</td>\n",
              "      <td>0.56</td>\n",
              "      <td>1.9</td>\n",
              "      <td>0.075</td>\n",
              "      <td>17.0</td>\n",
              "      <td>60.0</td>\n",
              "      <td>0.9980</td>\n",
              "      <td>3.16</td>\n",
              "      <td>0.58</td>\n",
              "      <td>9.8</td>\n",
              "      <td>6</td>\n",
              "      <td>0</td>\n",
              "    </tr>\n",
              "    <tr>\n",
              "      <th>4</th>\n",
              "      <td>7.4</td>\n",
              "      <td>0.70</td>\n",
              "      <td>0.00</td>\n",
              "      <td>1.9</td>\n",
              "      <td>0.076</td>\n",
              "      <td>11.0</td>\n",
              "      <td>34.0</td>\n",
              "      <td>0.9978</td>\n",
              "      <td>3.51</td>\n",
              "      <td>0.56</td>\n",
              "      <td>9.4</td>\n",
              "      <td>5</td>\n",
              "      <td>0</td>\n",
              "    </tr>\n",
              "  </tbody>\n",
              "</table>\n",
              "</div>"
            ],
            "text/plain": [
              "   fixed acidity  volatile acidity  citric acid  ...  alcohol  quality  type\n",
              "0            7.4              0.70         0.00  ...      9.4        5     0\n",
              "1            7.8              0.88         0.00  ...      9.8        5     0\n",
              "2            7.8              0.76         0.04  ...      9.8        5     0\n",
              "3           11.2              0.28         0.56  ...      9.8        6     0\n",
              "4            7.4              0.70         0.00  ...      9.4        5     0\n",
              "\n",
              "[5 rows x 13 columns]"
            ]
          },
          "metadata": {},
          "execution_count": 41
        }
      ]
    },
    {
      "cell_type": "markdown",
      "metadata": {
        "id": "75ylg4XY4UWF"
      },
      "source": [
        "### 시각화를 통해 데이터 확인"
      ]
    },
    {
      "cell_type": "code",
      "metadata": {
        "id": "i4KeC4p44OP5"
      },
      "source": [
        "import matplotlib.pyplot as plt"
      ],
      "execution_count": 42,
      "outputs": []
    },
    {
      "cell_type": "code",
      "metadata": {
        "colab": {
          "base_uri": "https://localhost:8080/",
          "height": 264
        },
        "id": "5RTkLekb4dUc",
        "outputId": "f41d44f7-02f0-48af-afbe-be6a2d2e18b9"
      },
      "source": [
        "plt.hist(wine['type'])\n",
        "plt.xticks([0,1])\n",
        "plt.show()"
      ],
      "execution_count": 43,
      "outputs": [
        {
          "output_type": "display_data",
          "data": {
            "image/png": "[encoded data removed]",
            "text/plain": [
              "<Figure size 432x288 with 1 Axes>"
            ]
          },
          "metadata": {
            "needs_background": "light"
          }
        }
      ]
    },
    {
      "cell_type": "code",
      "metadata": {
        "colab": {
          "base_uri": "https://localhost:8080/"
        },
        "id": "l9h058R44iRM",
        "outputId": "f50e6cd5-1ae9-47b3-a303-faa37d7f6008"
      },
      "source": [
        "wine['type'].value_counts()\n",
        "# white와 red의 비율이 3:1 정도인 것을 알 수 있음"
      ],
      "execution_count": 44,
      "outputs": [
        {
          "output_type": "execute_result",
          "data": {
            "text/plain": [
              "1    4898\n",
              "0    1599\n",
              "Name: type, dtype: int64"
            ]
          },
          "metadata": {},
          "execution_count": 44
        }
      ]
    },
    {
      "cell_type": "markdown",
      "metadata": {
        "id": "6VVvX5GG5D9a"
      },
      "source": [
        "### 데이터 정제"
      ]
    },
    {
      "cell_type": "markdown",
      "metadata": {
        "id": "OvODFBC16K3C"
      },
      "source": [
        "#### 데이터 정규화"
      ]
    },
    {
      "cell_type": "code",
      "metadata": {
        "colab": {
          "base_uri": "https://localhost:8080/"
        },
        "id": "AfWswPJQ48TE",
        "outputId": "a20bb79c-511f-4733-cfd5-80cd8fd7a6dd"
      },
      "source": [
        "wine_norm = (wine - wine.min()) / (wine.max() - wine.min())\n",
        "# 정규화는 모든 값을 0과 1사이로 만들어 주는 것을 의미\n",
        "\n",
        "wine_norm.head(2)\n",
        "type(wine_norm)"
      ],
      "execution_count": 45,
      "outputs": [
        {
          "output_type": "execute_result",
          "data": {
            "text/plain": [
              "pandas.core.frame.DataFrame"
            ]
          },
          "metadata": {},
          "execution_count": 45
        }
      ]
    },
    {
      "cell_type": "markdown",
      "metadata": {
        "id": "eKAJbbZn6OvF"
      },
      "source": [
        "#### 섞고 array로 만들기"
      ]
    },
    {
      "cell_type": "code",
      "metadata": {
        "colab": {
          "base_uri": "https://localhost:8080/"
        },
        "id": "5BQ7Q1DI47H2",
        "outputId": "2bb3a4d4-225b-4ada-dc19-25e186ed3b24"
      },
      "source": [
        "# 데이터를 섞어주고, array 로 만들어줌\n",
        "\n",
        "wine_shuffle = wine_norm.sample(frac = 1)\n",
        "# frac은 지정된 비율만큼 행을 랜덤하게 뽑아 새로운 데이터 프레임을 만들겠다는 뜻\n",
        "\n",
        "import numpy as np\n",
        "wine_np = np.array(wine_shuffle)\n",
        "wine_np[:5]"
      ],
      "execution_count": 46,
      "outputs": [
        {
          "output_type": "execute_result",
          "data": {
            "text/plain": [
              "array([[0.19834711, 0.11333333, 0.22891566, 0.11196319, 0.05980066,\n",
              "        0.18402778, 0.46543779, 0.1659919 , 0.34883721, 0.13483146,\n",
              "        0.15942029, 0.33333333, 1.        ],\n",
              "       [0.23140496, 0.16666667, 0.14457831, 0.23696319, 0.05980066,\n",
              "        0.10416667, 0.32488479, 0.21418932, 0.27906977, 0.16853933,\n",
              "        0.17391304, 0.33333333, 1.        ],\n",
              "       [0.21487603, 0.16666667, 0.18674699, 0.07515337, 0.06478405,\n",
              "        0.14236111, 0.38479263, 0.15403894, 0.36434109, 0.24719101,\n",
              "        0.1884058 , 0.5       , 1.        ],\n",
              "       [0.32231405, 0.15333333, 0.13855422, 0.02147239, 0.09966777,\n",
              "        0.09722222, 0.29493088, 0.12936187, 0.30232558, 0.2247191 ,\n",
              "        0.26086957, 0.33333333, 1.        ],\n",
              "       [0.25619835, 0.16      , 0.07831325, 0.11042945, 0.05481728,\n",
              "        0.03472222, 0.25576037, 0.17139001, 0.39534884, 0.08426966,\n",
              "        0.17391304, 0.33333333, 1.        ]])"
            ]
          },
          "metadata": {},
          "execution_count": 46
        }
      ]
    },
    {
      "cell_type": "markdown",
      "metadata": {
        "id": "CsTaRoMZ6Sh_"
      },
      "source": [
        "#### train vs test"
      ]
    },
    {
      "cell_type": "code",
      "metadata": {
        "id": "QnCLvSSA5z7Y"
      },
      "source": [
        "import tensorflow as tf\n",
        "\n",
        "train_idx = int(len(wine_np) * 0.8)\n",
        "\n",
        "train_X, train_Y = wine_np[:train_idx, :-1], wine_np[:train_idx, -1]\n",
        "test_X, test_Y = wine_np[train_idx: , :-1], wine_np[train_idx: , -1]"
      ],
      "execution_count": 47,
      "outputs": []
    },
    {
      "cell_type": "code",
      "metadata": {
        "id": "RXeZE0Vb6_wl",
        "colab": {
          "base_uri": "https://localhost:8080/"
        },
        "outputId": "a8a91b63-c806-45ee-c5b3-4866d78077f8"
      },
      "source": [
        "train_X[0]"
      ],
      "execution_count": 48,
      "outputs": [
        {
          "output_type": "execute_result",
          "data": {
            "text/plain": [
              "array([0.19834711, 0.11333333, 0.22891566, 0.11196319, 0.05980066,\n",
              "       0.18402778, 0.46543779, 0.1659919 , 0.34883721, 0.13483146,\n",
              "       0.15942029, 0.33333333])"
            ]
          },
          "metadata": {},
          "execution_count": 48
        }
      ]
    },
    {
      "cell_type": "code",
      "metadata": {
        "id": "hCjdmveZ7BXB",
        "colab": {
          "base_uri": "https://localhost:8080/"
        },
        "outputId": "f2785401-f082-451b-f46a-10efbf5b46b9"
      },
      "source": [
        "test_X[0]"
      ],
      "execution_count": 49,
      "outputs": [
        {
          "output_type": "execute_result",
          "data": {
            "text/plain": [
              "array([0.12396694, 0.23333333, 0.06626506, 0.00766871, 0.03322259,\n",
              "       0.01736111, 0.10368664, 0.07036823, 0.6124031 , 0.14606742,\n",
              "       0.46376812, 0.16666667])"
            ]
          },
          "metadata": {},
          "execution_count": 49
        }
      ]
    },
    {
      "cell_type": "code",
      "metadata": {
        "colab": {
          "base_uri": "https://localhost:8080/"
        },
        "id": "QSSYO77B7C4o",
        "outputId": "ef45c37b-6696-4f21-c258-18ab3aad434e"
      },
      "source": [
        "train_Y[0]"
      ],
      "execution_count": 50,
      "outputs": [
        {
          "output_type": "execute_result",
          "data": {
            "text/plain": [
              "1.0"
            ]
          },
          "metadata": {},
          "execution_count": 50
        }
      ]
    },
    {
      "cell_type": "code",
      "metadata": {
        "colab": {
          "base_uri": "https://localhost:8080/"
        },
        "id": "a9XziQnf7D9b",
        "outputId": "4f043d36-3aba-4e31-b98a-8acd3e0fe798"
      },
      "source": [
        "test_Y[0]"
      ],
      "execution_count": 51,
      "outputs": [
        {
          "output_type": "execute_result",
          "data": {
            "text/plain": [
              "1.0"
            ]
          },
          "metadata": {},
          "execution_count": 51
        }
      ]
    },
    {
      "cell_type": "markdown",
      "metadata": {
        "id": "wE_kW12I7LYM"
      },
      "source": [
        "#### one-hot encoding"
      ]
    },
    {
      "cell_type": "code",
      "metadata": {
        "colab": {
          "base_uri": "https://localhost:8080/"
        },
        "id": "TTv634C77FBU",
        "outputId": "996add39-55e1-4467-8b63-6d28a19e9d85"
      },
      "source": [
        "# red=0, white=1 로 하면 white가 더 중요한 정보라고 인지할 수 있음\n",
        "# 따라서 같은 형식으로 변경해줌\n",
        "# num_classes는 정답 클래스의 개수 ; white, red 2개라서 2로 입력\n",
        "train_Y = tf.keras.utils.to_categorical(train_Y, 2)\n",
        "test_Y = tf.keras.utils.to_categorical(test_Y, 2)\n",
        "train_Y[0] # 1을 뜻함 , white"
      ],
      "execution_count": 52,
      "outputs": [
        {
          "output_type": "execute_result",
          "data": {
            "text/plain": [
              "array([0., 1.], dtype=float32)"
            ]
          },
          "metadata": {},
          "execution_count": 52
        }
      ]
    },
    {
      "cell_type": "code",
      "metadata": {
        "colab": {
          "base_uri": "https://localhost:8080/"
        },
        "id": "z83tsMYU74R8",
        "outputId": "483ef64a-1a1b-4a98-c194-30fd2e183302"
      },
      "source": [
        "test_Y[0] # 0을 뜻함, red"
      ],
      "execution_count": 53,
      "outputs": [
        {
          "output_type": "execute_result",
          "data": {
            "text/plain": [
              "array([0., 1.], dtype=float32)"
            ]
          },
          "metadata": {},
          "execution_count": 53
        }
      ]
    },
    {
      "cell_type": "markdown",
      "metadata": {
        "id": "AlHWDXqf8LNX"
      },
      "source": [
        "### 분류 모델 설정"
      ]
    },
    {
      "cell_type": "code",
      "metadata": {
        "id": "CpSsoFUo75NE"
      },
      "source": [
        "model = tf.keras.Sequential([\n",
        "                             tf.keras.layers.Dense(48, 'relu'),\n",
        "                             tf.keras.layers.Dense(24, 'relu'),\n",
        "                             tf.keras.layers.Dense(12, 'relu'),\n",
        "                             tf.keras.layers.Dense(2, 'softmax')\n",
        "])\n",
        "# 마지막 층의 뉴런의 개수는 2, 출력 값의 차원이 2차원이라서 ? [1,0] 이런 식으로...\n",
        "# softmax : max함수의 좀 더 soft한 버전이라고 생각하면 됨, 두가지의 결과 값중 조금 더 확률 높은 값을 결정값으로 확정짓는 것"
      ],
      "execution_count": 54,
      "outputs": []
    },
    {
      "cell_type": "markdown",
      "metadata": {
        "id": "XPc3z_cd87Yk"
      },
      "source": [
        "### 모델 학습시킬 준비"
      ]
    },
    {
      "cell_type": "code",
      "metadata": {
        "id": "Inhf_eCi85Lg",
        "colab": {
          "base_uri": "https://localhost:8080/"
        },
        "outputId": "0478e3f8-5acf-438a-c1ab-09b209e734c4"
      },
      "source": [
        "model.compile(tf.keras.optimizers.Adam(lr = 0.07), loss = 'categorical_crossentropy', metrics=['accuracy'])\n",
        "# metrics 는 이 값도 같이 출력해달라는 의미 "
      ],
      "execution_count": 55,
      "outputs": [
        {
          "output_type": "stream",
          "name": "stderr",
          "text": [
            "/usr/local/lib/python3.7/dist-packages/keras/optimizer_v2/optimizer_v2.py:356: UserWarning: The `lr` argument is deprecated, use `learning_rate` instead.\n",
            "  \"The `lr` argument is deprecated, use `learning_rate` instead.\")\n"
          ]
        }
      ]
    },
    {
      "cell_type": "code",
      "metadata": {
        "colab": {
          "base_uri": "https://localhost:8080/"
        },
        "id": "WOV0-soX9SQw",
        "outputId": "88d63853-bd26-4fd7-ec89-e76d839947ed"
      },
      "source": [
        "history = model.fit(train_X, train_Y, epochs = 25, batch_size = 32, validation_split=0.25)"
      ],
      "execution_count": 56,
      "outputs": [
        {
          "output_type": "stream",
          "name": "stdout",
          "text": [
            "Epoch 1/25\n",
            "122/122 [==============================] - 4s 6ms/step - loss: 0.1372 - accuracy: 0.9441 - val_loss: 0.0413 - val_accuracy: 0.9869\n",
            "Epoch 2/25\n",
            "122/122 [==============================] - 0s 4ms/step - loss: 0.1026 - accuracy: 0.9651 - val_loss: 0.0392 - val_accuracy: 0.9885\n",
            "Epoch 3/25\n",
            "122/122 [==============================] - 1s 5ms/step - loss: 0.0504 - accuracy: 0.9864 - val_loss: 0.0426 - val_accuracy: 0.9885\n",
            "Epoch 4/25\n",
            "122/122 [==============================] - 0s 4ms/step - loss: 0.0452 - accuracy: 0.9887 - val_loss: 0.0396 - val_accuracy: 0.9885\n",
            "Epoch 5/25\n",
            "122/122 [==============================] - 0s 4ms/step - loss: 0.0541 - accuracy: 0.9874 - val_loss: 0.0655 - val_accuracy: 0.9777\n",
            "Epoch 6/25\n",
            "122/122 [==============================] - 0s 4ms/step - loss: 0.0440 - accuracy: 0.9900 - val_loss: 0.0361 - val_accuracy: 0.9938\n",
            "Epoch 7/25\n",
            "122/122 [==============================] - 0s 4ms/step - loss: 0.0351 - accuracy: 0.9900 - val_loss: 0.0307 - val_accuracy: 0.9938\n",
            "Epoch 8/25\n",
            "122/122 [==============================] - 1s 5ms/step - loss: 0.0451 - accuracy: 0.9890 - val_loss: 0.0376 - val_accuracy: 0.9931\n",
            "Epoch 9/25\n",
            "122/122 [==============================] - 0s 4ms/step - loss: 0.0386 - accuracy: 0.9882 - val_loss: 0.0533 - val_accuracy: 0.9769\n",
            "Epoch 10/25\n",
            "122/122 [==============================] - 1s 4ms/step - loss: 0.0354 - accuracy: 0.9892 - val_loss: 0.0283 - val_accuracy: 0.9931\n",
            "Epoch 11/25\n",
            "122/122 [==============================] - 1s 4ms/step - loss: 0.0425 - accuracy: 0.9879 - val_loss: 0.0371 - val_accuracy: 0.9908\n",
            "Epoch 12/25\n",
            "122/122 [==============================] - 1s 4ms/step - loss: 0.0410 - accuracy: 0.9902 - val_loss: 0.0462 - val_accuracy: 0.9908\n",
            "Epoch 13/25\n",
            "122/122 [==============================] - 1s 4ms/step - loss: 0.0429 - accuracy: 0.9887 - val_loss: 0.0477 - val_accuracy: 0.9915\n",
            "Epoch 14/25\n",
            "122/122 [==============================] - 0s 4ms/step - loss: 0.0409 - accuracy: 0.9890 - val_loss: 0.0443 - val_accuracy: 0.9923\n",
            "Epoch 15/25\n",
            "122/122 [==============================] - 0s 4ms/step - loss: 0.0381 - accuracy: 0.9913 - val_loss: 0.2904 - val_accuracy: 0.9908\n",
            "Epoch 16/25\n",
            "122/122 [==============================] - 0s 4ms/step - loss: 0.0600 - accuracy: 0.9869 - val_loss: 0.0396 - val_accuracy: 0.9923\n",
            "Epoch 17/25\n",
            "122/122 [==============================] - 0s 4ms/step - loss: 0.0402 - accuracy: 0.9890 - val_loss: 0.0900 - val_accuracy: 0.9900\n",
            "Epoch 18/25\n",
            "122/122 [==============================] - 1s 5ms/step - loss: 0.0317 - accuracy: 0.9910 - val_loss: 0.0536 - val_accuracy: 0.9938\n",
            "Epoch 19/25\n",
            "122/122 [==============================] - 1s 4ms/step - loss: 0.0307 - accuracy: 0.9926 - val_loss: 0.0518 - val_accuracy: 0.9915\n",
            "Epoch 20/25\n",
            "122/122 [==============================] - 0s 4ms/step - loss: 0.0287 - accuracy: 0.9928 - val_loss: 0.0429 - val_accuracy: 0.9931\n",
            "Epoch 21/25\n",
            "122/122 [==============================] - 0s 4ms/step - loss: 0.0313 - accuracy: 0.9928 - val_loss: 0.0536 - val_accuracy: 0.9962\n",
            "Epoch 22/25\n",
            "122/122 [==============================] - 1s 4ms/step - loss: 0.0320 - accuracy: 0.9931 - val_loss: 0.0565 - val_accuracy: 0.9962\n",
            "Epoch 23/25\n",
            "122/122 [==============================] - 1s 4ms/step - loss: 0.0350 - accuracy: 0.9905 - val_loss: 0.0508 - val_accuracy: 0.9931\n",
            "Epoch 24/25\n",
            "122/122 [==============================] - 1s 4ms/step - loss: 0.0309 - accuracy: 0.9920 - val_loss: 0.0628 - val_accuracy: 0.9931\n",
            "Epoch 25/25\n",
            "122/122 [==============================] - 0s 4ms/step - loss: 0.0391 - accuracy: 0.9900 - val_loss: 0.0512 - val_accuracy: 0.9938\n"
          ]
        }
      ]
    },
    {
      "cell_type": "code",
      "metadata": {
        "colab": {
          "base_uri": "https://localhost:8080/"
        },
        "id": "OTPtwHqT9UQo",
        "outputId": "0bc80897-7043-4b30-a2d3-9e0d03eca2e0"
      },
      "source": [
        "model.summary()\n",
        "# 이걸 쓰려면 fit을 하고 쓰든지, 처음 층을 설계할때 input_shape을 설정해줘야함"
      ],
      "execution_count": 57,
      "outputs": [
        {
          "output_type": "stream",
          "name": "stdout",
          "text": [
            "Model: \"sequential\"\n",
            "_________________________________________________________________\n",
            "Layer (type)                 Output Shape              Param #   \n",
            "=================================================================\n",
            "dense (Dense)                (None, 48)                624       \n",
            "_________________________________________________________________\n",
            "dense_1 (Dense)              (None, 24)                1176      \n",
            "_________________________________________________________________\n",
            "dense_2 (Dense)              (None, 12)                300       \n",
            "_________________________________________________________________\n",
            "dense_3 (Dense)              (None, 2)                 26        \n",
            "=================================================================\n",
            "Total params: 2,126\n",
            "Trainable params: 2,126\n",
            "Non-trainable params: 0\n",
            "_________________________________________________________________\n"
          ]
        }
      ]
    },
    {
      "cell_type": "markdown",
      "metadata": {
        "id": "YVq_X4lp991_"
      },
      "source": [
        "### loss, accuracy 시각화"
      ]
    },
    {
      "cell_type": "code",
      "metadata": {
        "colab": {
          "base_uri": "https://localhost:8080/",
          "height": 0
        },
        "id": "hbGz-Y8t9oD6",
        "outputId": "55924ab5-b0d2-4c4c-b202-b0a4163bd373"
      },
      "source": [
        "plt.plot(history.history['loss'], 'g-', label = 'loss')\n",
        "plt.plot(history.history['val_loss'], 'r--', label='val_loss')\n",
        "plt.xlabel('Epoch')\n",
        "plt.legend()\n",
        "plt.show()"
      ],
      "execution_count": 58,
      "outputs": [
        {
          "output_type": "display_data",
          "data": {
            "image/png": "[encoded data removed]",
            "text/plain": [
              "<Figure size 432x288 with 1 Axes>"
            ]
          },
          "metadata": {
            "needs_background": "light"
          }
        }
      ]
    },
    {
      "cell_type": "code",
      "metadata": {
        "colab": {
          "base_uri": "https://localhost:8080/",
          "height": 0
        },
        "id": "XhiVFhNC-LP4",
        "outputId": "3176fbe8-6393-44ab-8b76-117b07173423"
      },
      "source": [
        "plt.plot(history.history['accuracy'], 'g-', label = 'accuracy')\n",
        "plt.plot(history.history['val_accuracy'], 'r--', label = 'val_accuracy')\n",
        "plt.legend()\n",
        "plt.show()"
      ],
      "execution_count": 59,
      "outputs": [
        {
          "output_type": "display_data",
          "data": {
            "image/png": "[encoded data removed]",
            "text/plain": [
              "<Figure size 432x288 with 1 Axes>"
            ]
          },
          "metadata": {
            "needs_background": "light"
          }
        }
      ]
    },
    {
      "cell_type": "markdown",
      "metadata": {
        "id": "4ofM6U53-Za8"
      },
      "source": [
        "### 분류모델 평가"
      ]
    },
    {
      "cell_type": "code",
      "metadata": {
        "colab": {
          "base_uri": "https://localhost:8080/"
        },
        "id": "faIGVrAk-USx",
        "outputId": "00cdbed8-73e0-4653-ba5d-597c20749c80"
      },
      "source": [
        "model.evaluate(test_X, test_Y)"
      ],
      "execution_count": 60,
      "outputs": [
        {
          "output_type": "stream",
          "name": "stdout",
          "text": [
            "41/41 [==============================] - 0s 2ms/step - loss: 0.0445 - accuracy: 0.9892\n"
          ]
        },
        {
          "output_type": "execute_result",
          "data": {
            "text/plain": [
              "[0.04453446343541145, 0.989230751991272]"
            ]
          },
          "metadata": {},
          "execution_count": 60
        }
      ]
    }
  ]
}