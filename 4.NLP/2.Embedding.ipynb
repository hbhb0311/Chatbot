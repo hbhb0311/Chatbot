{
  "nbformat": 4,
  "nbformat_minor": 0,
  "metadata": {
    "colab": {
      "name": "2.Embedding.ipynb",
      "provenance": [],
      "mount_file_id": "1tQx12A-jTlazIJp7gNh0wZQ6IORLJ-wE",
      "authorship_tag": "ABX9TyMlWPOgxfBH73pIE07eWRXo",
      "include_colab_link": true
    },
    "kernelspec": {
      "name": "python3",
      "display_name": "Python 3"
    },
    "language_info": {
      "name": "python"
    },
    "accelerator": "GPU"
  },
  "cells": [
    {
      "cell_type": "markdown",
      "metadata": {
        "id": "view-in-github",
        "colab_type": "text"
      },
      "source": [
        "<a href=\"https://colab.research.google.com/github/hbhb0311/LikelionStudy/blob/main/4.NLP/2.Embedding.ipynb\" target=\"_parent\"><img src=\"https://colab.research.google.com/assets/colab-badge.svg\" alt=\"Open In Colab\"/></a>"
      ]
    },
    {
      "cell_type": "markdown",
      "metadata": {
        "id": "_RWann3l2EYf"
      },
      "source": [
        "### 원-핫인코딩"
      ]
    },
    {
      "cell_type": "code",
      "metadata": {
        "id": "bKDfr9KpheEm"
      },
      "source": [
        "!pip install konlpy"
      ],
      "execution_count": null,
      "outputs": []
    },
    {
      "cell_type": "code",
      "metadata": {
        "id": "PLILJVGwwJ3U"
      },
      "source": [
        "import numpy as np\n",
        "import time\n",
        "from konlpy.tag import Komoran\n",
        "komoran = Komoran()"
      ],
      "execution_count": 15,
      "outputs": []
    },
    {
      "cell_type": "code",
      "metadata": {
        "id": "aHRq-Z0O2ITV"
      },
      "source": [
        "# 명사만 추출\n",
        "text = '지금은 자연어 처리 공부 중입니다. 얼마나 빠를까?'\n",
        "nouns = komoran.nouns(text)"
      ],
      "execution_count": 16,
      "outputs": []
    },
    {
      "cell_type": "code",
      "metadata": {
        "colab": {
          "base_uri": "https://localhost:8080/"
        },
        "id": "toSZXBbI2N1s",
        "outputId": "80b7a8fe-361b-480f-a8ee-0a01b52077d8"
      },
      "source": [
        "# 단어 사전 구축 & 단어별 인덱스 부여\n",
        "dics = {}\n",
        "for word in nouns:\n",
        "  if word not in dics:\n",
        "    dics[word] = len(dics)\n",
        "print(dics)"
      ],
      "execution_count": 17,
      "outputs": [
        {
          "output_type": "stream",
          "name": "stdout",
          "text": [
            "{'지금': 0, '자연어': 1, '처리': 2, '공부': 3, '중': 4}\n"
          ]
        }
      ]
    },
    {
      "cell_type": "code",
      "metadata": {
        "colab": {
          "base_uri": "https://localhost:8080/"
        },
        "id": "6n1uKF9n2gSX",
        "outputId": "d98b3fce-3166-460e-8479-e88fb37524e1"
      },
      "source": [
        "# 원-핫 인코딩\n",
        "nb_classes = len(dics)\n",
        "targets = list(dics.values())\n",
        "one_hot_targets = np.eye(nb_classes)[targets]\n",
        "# eye 함수 : 단위행렬 만들어줌, targets의 순서대로 단위 행렬 만들어줌\n",
        "print(one_hot_targets)"
      ],
      "execution_count": 18,
      "outputs": [
        {
          "output_type": "stream",
          "name": "stdout",
          "text": [
            "[[1. 0. 0. 0. 0.]\n",
            " [0. 1. 0. 0. 0.]\n",
            " [0. 0. 1. 0. 0.]\n",
            " [0. 0. 0. 1. 0.]\n",
            " [0. 0. 0. 0. 1.]]\n"
          ]
        }
      ]
    },
    {
      "cell_type": "code",
      "metadata": {
        "colab": {
          "base_uri": "https://localhost:8080/"
        },
        "id": "YefuIwao2yds",
        "outputId": "4921cb56-ce2e-4c1f-816f-8797d9bee43d"
      },
      "source": [
        "# 원-핫 인코딩 예제 2\n",
        "nb_classes = len(dics)\n",
        "targets = list(dics.values())\n",
        "one_hot_targets = np.eye(nb_classes)[[1,2,0]]\n",
        "# eye 함수 : 단위행렬 만들어줌\n",
        "print(one_hot_targets)"
      ],
      "execution_count": 19,
      "outputs": [
        {
          "output_type": "stream",
          "name": "stdout",
          "text": [
            "[[0. 1. 0. 0. 0.]\n",
            " [0. 0. 1. 0. 0.]\n",
            " [1. 0. 0. 0. 0.]]\n"
          ]
        }
      ]
    },
    {
      "cell_type": "markdown",
      "metadata": {
        "id": "l52Sxmfb9Pvn"
      },
      "source": [
        "### Word2Vec"
      ]
    },
    {
      "cell_type": "code",
      "metadata": {
        "id": "9oqiJJUp8_EP"
      },
      "source": [
        "from gensim.models import Word2Vec"
      ],
      "execution_count": 20,
      "outputs": []
    },
    {
      "cell_type": "code",
      "metadata": {
        "id": "8Lot_4Od4HOC"
      },
      "source": [
        "# 네이버 영화 리뷰 데이터 읽어옴\n",
        "def read_review_data(filename):\n",
        "  with open(filename, 'r') as f:\n",
        "    data = [line.split('\\t') for line in f.read().splitlines()]\n",
        "    # splitlines : \\n, \\r 등을 기준으로 나누는 것 -> 한 줄씩 분리\n",
        "    # split : sep = \\t 기준으로 나누는 것 -> 각 열별로 분리됨\n",
        "    data = data[1:]\n",
        "  return data"
      ],
      "execution_count": 21,
      "outputs": []
    },
    {
      "cell_type": "code",
      "metadata": {
        "colab": {
          "base_uri": "https://localhost:8080/"
        },
        "id": "ZFTcNSnSAein",
        "outputId": "80569532-e60a-4ac2-f42b-f6683ea7bf43"
      },
      "source": [
        "# 리뷰 파일 읽어오기\n",
        "start = time.time()\n",
        "\n",
        "print('1) 말뭉치 데이터 읽기 시작')\n",
        "review_data = read_review_data('/content/drive/MyDrive/멋쟁이사자처럼/dataset/ratings.txt')\n",
        "print(len(review_data)) # 데이터의 개수 확인\n",
        "print('1) 말뭉치 데이터 읽기 완료: ', time.time() - start)\n",
        "\n",
        "\n",
        "# 문장 단위로 명사만 추출해 학습 입력 데이터로 만듦\n",
        "print('2) 형태소에서 명사만 추출 시작')\n",
        "komoran = Komoran()\n",
        "docs = [komoran.nouns(sentence[1]) for sentence in review_data]\n",
        "# 리뷰 데이터에서 1번째 열에만 후기가 있음(id, doc, label 순으로 데이터에 존재)\n",
        "print('2) 형태소에서 명사만 추출 완료: ', time.time() - start)\n",
        "\n",
        "\n",
        "# word2vec 모델 학습\n",
        "print('3) word2vec 모델 학습 시작')\n",
        "model = Word2Vec(sentences = docs, size = 200, window = 4, min_count = 2, sg = 1)\n",
        "print('3) word2vec 모델 학습 완료: ', time.time() - start)\n",
        "\n",
        "# sentences : 모델 학습에 필요한 문장 데이터\n",
        "# size : 단어 임베딩 벡터의 차원\n",
        "# hs : 0 (0이 아닌 경우 음수 샘플링 사용), 1(모델 학습에 softmax 사용)\n",
        "# min_count : 단어 최소 빈도 수 제한(설정된 빈도 수 미만의 단어들은 학습 X)\n",
        "# -> 즉, 1번 나타난 단어는 학습에 사용되지 않음\n",
        "# sg : 0(CBOW 모델), 1(skip-gram 모델)\n",
        "\n",
        "\n",
        "# 모델 저장\n",
        "print('4) 학습된 모델 저장 시작')\n",
        "model.save('nvmc.model')\n",
        "print('4) 학습된 모델 저장 완료: ', time.time() - start)\n",
        "\n",
        "\n",
        "# 학습된 말뭉치 개수, 코퍼스 내 전체 단어 개수\n",
        "print('corpus_count: ', model.corpus_count)\n",
        "print('corpus_total_words: ', model.corpus_total_words)"
      ],
      "execution_count": 22,
      "outputs": [
        {
          "output_type": "stream",
          "name": "stdout",
          "text": [
            "1) 말뭉치 데이터 읽기 시작\n",
            "200000\n",
            "1) 말뭉치 데이터 읽기 완료:  2.280844211578369\n",
            "2) 형태소에서 명사만 추출 시작\n",
            "2) 형태소에서 명사만 추출 완료:  134.75902485847473\n",
            "3) word2vec 모델 학습 시작\n",
            "3) word2vec 모델 학습 완료:  161.29787135124207\n",
            "4) 학습된 모델 저장 시작\n",
            "4) 학습된 모델 저장 완료:  161.67508578300476\n",
            "corpus_count:  200000\n",
            "corpus_total_words:  1076896\n"
          ]
        }
      ]
    },
    {
      "cell_type": "markdown",
      "metadata": {
        "id": "1W4A2P1rErLj"
      },
      "source": [
        "#### 모델 불러와 임베딩 된 값 확인"
      ]
    },
    {
      "cell_type": "code",
      "metadata": {
        "colab": {
          "base_uri": "https://localhost:8080/"
        },
        "id": "W-_bhdcxEJ0i",
        "outputId": "11cc849b-e0fb-45c6-a482-7d2bcc6be629"
      },
      "source": [
        "# 모델 로딩\n",
        "model = Word2Vec.load('nvmc.model')\n",
        "print('사랑: ', model.wv['사랑'])\n",
        "# 사랑이라는 단어로 생성한 단어 임베딩 벡터 -> 모델 학습시킬 때 사용한 사이즈로 벡터 차원이 결정됨"
      ],
      "execution_count": 23,
      "outputs": [
        {
          "output_type": "stream",
          "name": "stdout",
          "text": [
            "사랑:  [ 0.27141044  0.2153113   0.12079716 -0.15842655  0.06376249 -0.12702957\n",
            " -0.5127922  -0.32647645  0.3990108  -0.06863586  0.22982189  0.3128365\n",
            " -0.08811162 -0.15919013  0.14953505  0.39979106  0.263857    0.0041444\n",
            " -0.09068102  0.12556933 -0.272624   -0.19388725 -0.07759219 -0.01275868\n",
            "  0.4883124   0.09408101 -0.03755792  0.03231707  0.27580473  0.00789384\n",
            "  0.15037827 -0.03262882  0.09153937  0.43037686  0.26774812 -0.07836156\n",
            "  0.23580582 -0.02477748  0.3745084  -0.146414    0.09628444  0.34085208\n",
            "  0.3012133   0.4806978  -0.07595445  0.362257    0.18745215 -0.43127957\n",
            " -0.2939989  -0.17659777  0.00618889  0.6341174  -0.10249962 -0.3930558\n",
            "  0.4546832   0.09840408  0.33111194 -0.0099607  -0.18999062  0.18079963\n",
            " -0.22904779 -0.08637014 -0.2661426   0.02426932  0.35550523 -0.5178979\n",
            " -0.04535771  0.26948908 -0.07015716 -0.23566675  0.05173555  0.09181086\n",
            " -0.4745562   0.2225199   0.04452609  0.4168042  -0.05302289  0.15629572\n",
            "  0.01139535 -0.00863414  0.5770927  -0.43317083 -0.21297787 -0.15544885\n",
            "  0.2546656  -0.0703667   0.09122313  0.30161557 -0.19822638  0.219052\n",
            "  0.00275417  0.03074975  0.12956321 -0.25424835  0.12743254 -0.38731453\n",
            "  0.39574695 -0.10764447  0.20220949 -0.14629732 -0.00357669  0.08621652\n",
            "  0.05150906  0.05260827 -0.20027421 -0.0915593  -0.08244073  0.63560003\n",
            "  0.13278638 -0.03831286  0.0637823  -0.016286   -0.22782558 -0.17287475\n",
            "  0.24254523  0.46338958  0.08745895  0.05295611  0.31710148  0.05672302\n",
            " -0.09913991  0.10442704  0.3221008   0.0862999  -0.25899205 -0.3826256\n",
            "  0.03475017  0.02290322  0.28302807 -0.00738635  0.17086488 -0.01500055\n",
            " -0.02295181  0.3750906  -0.38262358 -0.47768497  0.02537469  0.0197425\n",
            "  0.34842947 -0.64839697 -0.10716176  0.055186    0.07928685  0.02668258\n",
            " -0.02505117  0.2174643   0.21391208  0.1995898   0.04301018 -0.52491874\n",
            "  0.15694973 -0.21486926  0.4094001   0.3362501   0.09515928 -0.09562976\n",
            " -0.10540179  0.07652169  0.25719607 -0.09067229 -0.19051932  0.00156866\n",
            "  0.04056111  0.08056463 -0.1423991   0.28860164  0.01830117  0.17977493\n",
            " -0.40212932 -0.13587876  0.07315097 -0.15960892  0.17535308  0.11664826\n",
            " -0.13129382 -0.377675   -0.16754787  0.04184256 -0.05710502  0.12140885\n",
            " -0.39838576 -0.4045154  -0.00482737  0.0723042   0.07339925 -0.02806335\n",
            " -0.01767403  0.23382689 -0.1792027   0.3521994   0.0951781   0.33285663\n",
            " -0.04167141 -0.32944587 -0.25464287  0.03383558  0.28898314 -0.07941274\n",
            "  0.11541288 -0.1860895 ]\n"
          ]
        }
      ]
    },
    {
      "cell_type": "code",
      "metadata": {
        "colab": {
          "base_uri": "https://localhost:8080/"
        },
        "id": "DljS0VbZFAs6",
        "outputId": "9f876859-cdc9-4837-bdbc-6775d39e24b0"
      },
      "source": [
        "# 단어 유사도 계산\n",
        "model.wv.similarity('해리', '시리즈')"
      ],
      "execution_count": 24,
      "outputs": [
        {
          "output_type": "execute_result",
          "data": {
            "text/plain": [
              "0.79732734"
            ]
          },
          "metadata": {},
          "execution_count": 24
        }
      ]
    },
    {
      "cell_type": "code",
      "metadata": {
        "colab": {
          "base_uri": "https://localhost:8080/"
        },
        "id": "arqKaZlkFV5p",
        "outputId": "1c6833f5-9edf-4419-a478-c69c11df4c87"
      },
      "source": [
        "# 가장 유사한 단어 추출(벡터 공간에서 가장 가까운 거리에 있는 단어 반환)\n",
        "model.wv.most_similar('시리즈', topn = 5)"
      ],
      "execution_count": 25,
      "outputs": [
        {
          "output_type": "execute_result",
          "data": {
            "text/plain": [
              "[('엑스맨', 0.8446062803268433),\n",
              " ('포터', 0.8389245271682739),\n",
              " ('스타워즈', 0.8081360459327698),\n",
              " ('반지의 제왕', 0.8041760325431824),\n",
              " ('다이하드', 0.7987931966781616)]"
            ]
          },
          "metadata": {},
          "execution_count": 25
        }
      ]
    }
  ]
}