{
  "nbformat": 4,
  "nbformat_minor": 0,
  "metadata": {
    "colab": {
      "name": "1.HardCoding_regression.ipynb",
      "provenance": [],
      "collapsed_sections": [],
      "mount_file_id": "13N2B_01mlqFACyaBKGxXmjX7Zjg5HBpJ",
      "authorship_tag": "ABX9TyPVUGOxknq3JcWytUOnrCdu",
      "include_colab_link": true
    },
    "kernelspec": {
      "name": "python3",
      "display_name": "Python 3"
    },
    "language_info": {
      "name": "python"
    },
    "accelerator": "GPU"
  },
  "cells": [
    {
      "cell_type": "markdown",
      "metadata": {
        "id": "view-in-github",
        "colab_type": "text"
      },
      "source": [
        "<a href=\"https://colab.research.google.com/github/hbhb0311/LikelionStudy/blob/main/3.HardCoding/1.HardCoding_regression.ipynb\" target=\"_parent\"><img src=\"https://colab.research.google.com/assets/colab-badge.svg\" alt=\"Open In Colab\"/></a>"
      ]
    },
    {
      "cell_type": "markdown",
      "metadata": {
        "id": "kVugMhbvnV4O"
      },
      "source": [
        "# abalone - 신경망 구현"
      ]
    },
    {
      "cell_type": "markdown",
      "metadata": {
        "id": "klCya2omnbOZ"
      },
      "source": [
        "## 파이썬 모듈 불러오기"
      ]
    },
    {
      "cell_type": "code",
      "metadata": {
        "id": "H5U11v-iULCO"
      },
      "source": [
        "import numpy as np\n",
        "import csv\n",
        "\n",
        "np.random.seed(106)\n",
        "# 실험 결과를 재현하기 위함 \n",
        "# 설정하지 않으면 매번 다른 결과가 출력됨"
      ],
      "execution_count": 1,
      "outputs": []
    },
    {
      "cell_type": "markdown",
      "metadata": {
        "id": "dSHiEAq6npEh"
      },
      "source": [
        "## 하이퍼파라미터값 정의"
      ]
    },
    {
      "cell_type": "code",
      "metadata": {
        "id": "QIa4-m31nnKY"
      },
      "source": [
        "RND_MEAN = 0\n",
        "RND_STD = 0.003\n",
        "\n",
        "LEARNIG_RATE = 0.001\n",
        "# 정규분포의 평균, 표준편차, 학습률 정의"
      ],
      "execution_count": 2,
      "outputs": []
    },
    {
      "cell_type": "markdown",
      "metadata": {
        "id": "kdIC2J9un_eU"
      },
      "source": [
        "## 메인함수 정의(main_exec)"
      ]
    },
    {
      "cell_type": "code",
      "metadata": {
        "id": "Lqx5gKE9n4h4"
      },
      "source": [
        "def main_exec(epoch_count = 10, mb_size = 10, report = 1, train_rate = 0.8):\n",
        "  load_dataset() # 데이터를 불러옴\n",
        "  init_model() # 모델(가중치, 편향) 초기화\n",
        "  train_and_test(epoch_count, mb_size, report, train_rate) # 학습 및 신경망 성능 테스트"
      ],
      "execution_count": 3,
      "outputs": []
    },
    {
      "cell_type": "markdown",
      "metadata": {
        "id": "n7W-NE02taLv"
      },
      "source": [
        "### 데이터 불러오는 함수 정의(load_dataset)"
      ]
    },
    {
      "cell_type": "code",
      "metadata": {
        "id": "PHAor1h-pOZF"
      },
      "source": [
        "def load_dataset():\n",
        "  with open('./dataset/abalone.csv') as csvfile:\n",
        "    csvreader = csv.reader(csvfile)\n",
        "    next(csvreader) # next 함수 : 첫 행을 읽지않고 건너뜀\n",
        "    rows = []\n",
        "\n",
        "    for row in csvreader:\n",
        "      rows.append(row)\n",
        "\n",
        "  global data, input_cnt, output_cnt\n",
        "  input_cnt, output_cnt = 10, 1 #input_cnt = 기존의 8개에 원핫인코딩을 위한 2개를 합친 10개\n",
        "  data = np.zeros([len(rows), (input_cnt + output_cnt)])\n",
        "  #np.zeros : 지정해준 크기만큼 0값의 행렬 생성\n",
        "\n",
        "  for n, row in enumerate(rows):\n",
        "    if row[0] == 'I': data[n,0] = 1\n",
        "    if row[0] == 'M': data[n,1] = 1\n",
        "    if row[0] == 'F': data[n,2] = 1\n",
        "    data[n, 3:] = row[1:]\n",
        "    "
      ],
      "execution_count": 4,
      "outputs": []
    },
    {
      "cell_type": "markdown",
      "metadata": {
        "id": "dtHX0mt1t7HY"
      },
      "source": [
        "### 파라미터 초기화 함수 정의(init_model)"
      ]
    },
    {
      "cell_type": "code",
      "metadata": {
        "id": "QFPrE4Far1GO"
      },
      "source": [
        "def init_model():\n",
        "  global weight, bias, input_cnt, output_cnt\n",
        "  # 함수 밖에서 전역 변수 선언해줬다면, 전역변수 다시 선언해주어야 함\n",
        "  \n",
        "  weight = np.random.normal(RND_MEAN, RND_STD, [input_cnt, output_cnt])\n",
        "  bias = np.zeros([output_cnt])\n",
        "\n",
        "  # 편향은 초기에 너무 큰 영향을 주어 학습에 역효과를 불러오지 않도록 0으로 초기화"
      ],
      "execution_count": 5,
      "outputs": []
    },
    {
      "cell_type": "markdown",
      "metadata": {
        "id": "iZEOdk0iEjMM"
      },
      "source": [
        "## 학습과 테스트 진행 함수 정의(train_and_test)"
      ]
    },
    {
      "cell_type": "code",
      "metadata": {
        "id": "cL-YFedDCVV8"
      },
      "source": [
        "def train_and_test(epoch_count, mb_size, report, train_rate):\n",
        "  step_count = arrange_data(mb_size, train_rate)\n",
        "  test_x, test_y = get_test_data()\n",
        "\n",
        "  for epoch in range(epoch_count):\n",
        "    losses, accs = [], []\n",
        "    for n in range(step_count):\n",
        "      train_x, train_y = get_train_data(mb_size, n)\n",
        "      loss, acc = run_train(train_x, train_y)\n",
        "      losses.append(loss)\n",
        "      accs.append(acc)\n",
        "\n",
        "    if report > 0 and (epoch + 1) % report == 0:\n",
        "      acc = run_test(test_x, test_y)\n",
        "      print('Epoch{}: Train - loss = {:5.3f}, accuracy = {:5.3f}, Test - {:5.3f}'\\\n",
        "            .format(epoch + 1, np.mean(losses), np.mean(accs), acc))\n",
        "  \n",
        "  final_acc = run_test(test_x, test_y)\n",
        "  print('\\n 최종 테스트 : final accuracy - {:5.3f}'.format(final_acc))\n"
      ],
      "execution_count": 6,
      "outputs": []
    },
    {
      "cell_type": "markdown",
      "metadata": {
        "id": "ZmsstzBXCFWz"
      },
      "source": [
        "### 데이터 섞고 훈련, 테스트 데이터 비율 나누기(arrange_data)"
      ]
    },
    {
      "cell_type": "code",
      "metadata": {
        "id": "MORL7GzPE6z1"
      },
      "source": [
        "def arrange_data(mb_size, train_rate):\n",
        "  global data, shuffle_map, test_begin_index\n",
        "  shuffle_map = np.arange(data.shape[0])\n",
        "  np.random.shuffle(shuffle_map)\n",
        "  \n",
        "  step_count = int(data.shape[0] * train_rate) // mb_size\n",
        "  # 몫만 가져오고 싶을 때는 // 사용!\n",
        "\n",
        "  test_begin_index = step_count * mb_size\n",
        "\n",
        "  return step_count"
      ],
      "execution_count": 7,
      "outputs": []
    },
    {
      "cell_type": "markdown",
      "metadata": {
        "id": "_RBcFzoOGDfd"
      },
      "source": [
        "### 테스트 데이터 가져오기(get_test_data)"
      ]
    },
    {
      "cell_type": "code",
      "metadata": {
        "id": "r0KCMLLqE_OE"
      },
      "source": [
        "def get_test_data():\n",
        "  global shuffle_map, test_begin_index, output_cnt, data\n",
        "  test_data = data[shuffle_map[test_begin_index:]]\n",
        "\n",
        "  return test_data[:,:-output_cnt], test_data[:,-output_cnt:]"
      ],
      "execution_count": 8,
      "outputs": []
    },
    {
      "cell_type": "markdown",
      "metadata": {
        "id": "XFc3WtY9HHJX"
      },
      "source": [
        "### 훈련 데이터 가져오기 (get_train_data)"
      ]
    },
    {
      "cell_type": "code",
      "metadata": {
        "id": "vEUrTbrXE_we"
      },
      "source": [
        "def get_train_data(mb_size, n):\n",
        "  global shuffle_map, test_begin_index, data, output_cnt\n",
        "  if n == 0:\n",
        "    np.random.shuffle(shuffle_map[:test_begin_index])\n",
        "  \n",
        "  train_data = data[shuffle_map[mb_size * n : mb_size * (n + 1)]]\n",
        "\n",
        "  return train_data[:, :-output_cnt], train_data[:, -output_cnt:]"
      ],
      "execution_count": 9,
      "outputs": []
    },
    {
      "cell_type": "markdown",
      "metadata": {
        "id": "5qCDh1hAIAve"
      },
      "source": [
        "### 학습 진행하기(run_train)"
      ]
    },
    {
      "cell_type": "code",
      "metadata": {
        "id": "YkLmoy6jFADi"
      },
      "source": [
        "def run_train(x, y):\n",
        "  output, aux_nn = forward_neuralnet(x)\n",
        "  loss, aux_pp = forward_postproc(output, y)\n",
        "  # aux_pp = diff (output - y)\n",
        "  accuracy = eval_accuracy(output, y)\n",
        "\n",
        "  G_output = backprop_postproc(aux_pp)\n",
        "  backprop_neuralnet(G_output, aux_nn)\n",
        "\n",
        "  return loss, accuracy"
      ],
      "execution_count": 10,
      "outputs": []
    },
    {
      "cell_type": "markdown",
      "metadata": {
        "id": "E2YW7lJNe2ps"
      },
      "source": [
        "#### mse에 대한 역전파(backprop_postproc)"
      ]
    },
    {
      "cell_type": "code",
      "metadata": {
        "id": "XdFP8O6me26-"
      },
      "source": [
        "# mse에 대한 역전파\n",
        "def backprop_postproc(diff):\n",
        "  G_loss = 1\n",
        "  shape = diff.shape\n",
        "\n",
        "  g_loss_square = np.ones(shape) / np.prod(shape)\n",
        "  g_square_diff = 2 * diff\n",
        "  g_diff_output = 1\n",
        "\n",
        "  G_output = G_loss * g_loss_square * g_square_diff * g_diff_output\n",
        "\n",
        "  return G_output"
      ],
      "execution_count": 11,
      "outputs": []
    },
    {
      "cell_type": "markdown",
      "metadata": {
        "id": "Rc2E8gSqgiAC"
      },
      "source": [
        "#### 파라미터 갱신(backprop_neuralnet)"
      ]
    },
    {
      "cell_type": "code",
      "metadata": {
        "id": "XYuz6zs0gqHm"
      },
      "source": [
        "# 파라미터 갱신\n",
        "def backprop_neuralnet(G_output, x):\n",
        "  global weight, bias\n",
        "  G_w = np.matmul(x.transpose(), G_output)\n",
        "  G_b = np.sum(G_output, axis = 0)\n",
        "\n",
        "  weight -= LEARNIG_RATE * G_w\n",
        "  bias -= LEARNIG_RATE * G_b"
      ],
      "execution_count": 12,
      "outputs": []
    },
    {
      "cell_type": "markdown",
      "metadata": {
        "id": "Bhsf0gqSdrQf"
      },
      "source": [
        "#### 신경망 연산 수행(forward_neuralnet)"
      ]
    },
    {
      "cell_type": "code",
      "metadata": {
        "id": "Dut9yJoFdyGr"
      },
      "source": [
        "# 신경망 연산 수행\n",
        "def forward_neuralnet(x):\n",
        "  global weight, bias\n",
        "  output = np.matmul(x, weight) + bias\n",
        "   \n",
        "  return output, x"
      ],
      "execution_count": 13,
      "outputs": []
    },
    {
      "cell_type": "markdown",
      "metadata": {
        "id": "WciK-VILI1pV"
      },
      "source": [
        "#### 손실 구하기(forward_postproc)"
      ]
    },
    {
      "cell_type": "code",
      "metadata": {
        "id": "6tRXzD-RI1Em"
      },
      "source": [
        "# 손실 구하기\n",
        "def forward_postproc(output, y):\n",
        "  diff = output - y\n",
        "  square = np.square(diff)\n",
        "  loss = np.mean(square)\n",
        "\n",
        "  return loss, diff"
      ],
      "execution_count": 14,
      "outputs": []
    },
    {
      "cell_type": "markdown",
      "metadata": {
        "id": "23sphOXeeRHS"
      },
      "source": [
        "#### 정확도 측정(eval_accuracy)"
      ]
    },
    {
      "cell_type": "code",
      "metadata": {
        "id": "upJ-cVAweQsd"
      },
      "source": [
        "def eval_accuracy(output, y):\n",
        "  mdiff = np.mean(np.abs((output - y) / y))\n",
        "\n",
        "  return 1 - mdiff"
      ],
      "execution_count": 15,
      "outputs": []
    },
    {
      "cell_type": "markdown",
      "metadata": {
        "id": "NHvtmZyoI0oy"
      },
      "source": [
        "### 테스트 진행하기(run_test)"
      ]
    },
    {
      "cell_type": "code",
      "metadata": {
        "id": "FKPh4qF6h_no"
      },
      "source": [
        "def run_test(x, y):\n",
        "  output, _ = forward_neuralnet(x)\n",
        "  # 인자 받을 필요 없으면 _ 으로 처리해줌\n",
        "  accuracy = eval_accuracy(output, y)\n",
        "\n",
        "  return accuracy"
      ],
      "execution_count": 16,
      "outputs": []
    },
    {
      "cell_type": "markdown",
      "metadata": {
        "id": "4-QDN_ujiIMz"
      },
      "source": [
        "## 메인함수 실행 -> 학습"
      ]
    },
    {
      "cell_type": "code",
      "metadata": {
        "colab": {
          "base_uri": "https://localhost:8080/"
        },
        "id": "G00VB6NFYnz_",
        "outputId": "dade8fb6-f87b-4d80-fa5e-bf5e56d5c026"
      },
      "source": [
        "main_exec()"
      ],
      "execution_count": 17,
      "outputs": [
        {
          "output_type": "stream",
          "name": "stdout",
          "text": [
            "Epoch1: Train - loss = 33.431, accuracy = 0.558, Test - 0.805\n",
            "Epoch2: Train - loss = 8.177, accuracy = 0.820, Test - 0.816\n",
            "Epoch3: Train - loss = 7.548, accuracy = 0.812, Test - 0.814\n",
            "Epoch4: Train - loss = 7.436, accuracy = 0.811, Test - 0.812\n",
            "Epoch5: Train - loss = 7.352, accuracy = 0.810, Test - 0.812\n",
            "Epoch6: Train - loss = 7.280, accuracy = 0.810, Test - 0.812\n",
            "Epoch7: Train - loss = 7.220, accuracy = 0.810, Test - 0.813\n",
            "Epoch8: Train - loss = 7.165, accuracy = 0.812, Test - 0.809\n",
            "Epoch9: Train - loss = 7.123, accuracy = 0.809, Test - 0.811\n",
            "Epoch10: Train - loss = 7.082, accuracy = 0.810, Test - 0.812\n",
            "\n",
            " 최종 테스트 : final accuracy - 0.812\n"
          ]
        }
      ]
    },
    {
      "cell_type": "code",
      "metadata": {
        "colab": {
          "base_uri": "https://localhost:8080/"
        },
        "id": "Zkdp7kafh-CL",
        "outputId": "07bbd7be-ef74-465a-e489-1453a7e2ddc7"
      },
      "source": [
        "print(weight)\n",
        "print(bias)"
      ],
      "execution_count": 18,
      "outputs": [
        {
          "output_type": "stream",
          "name": "stdout",
          "text": [
            "[[1.02660021]\n",
            " [1.48595404]\n",
            " [1.65734692]\n",
            " [2.03045336]\n",
            " [1.6027778 ]\n",
            " [0.59024699]\n",
            " [2.33957642]\n",
            " [0.5342599 ]\n",
            " [0.46536287]\n",
            " [1.0033168 ]]\n",
            "[4.16502456]\n"
          ]
        }
      ]
    },
    {
      "cell_type": "markdown",
      "metadata": {
        "id": "fagGZ68sitXf"
      },
      "source": [
        "## 하이퍼파라미터 수정"
      ]
    },
    {
      "cell_type": "code",
      "metadata": {
        "colab": {
          "base_uri": "https://localhost:8080/"
        },
        "id": "hkLuBu2jixub",
        "outputId": "58f38390-6ae8-462c-af02-af5a5ec809e9"
      },
      "source": [
        "LEARNIG_RATE = 0.01\n",
        "main_exec(20, 20, 2, 0.85)"
      ],
      "execution_count": 19,
      "outputs": [
        {
          "output_type": "stream",
          "name": "stdout",
          "text": [
            "Epoch2: Train - loss = 7.147, accuracy = 0.809, Test - 0.809\n",
            "Epoch4: Train - loss = 6.836, accuracy = 0.812, Test - 0.802\n",
            "Epoch6: Train - loss = 6.680, accuracy = 0.812, Test - 0.798\n",
            "Epoch8: Train - loss = 6.578, accuracy = 0.812, Test - 0.809\n",
            "Epoch10: Train - loss = 6.490, accuracy = 0.814, Test - 0.807\n",
            "Epoch12: Train - loss = 6.408, accuracy = 0.814, Test - 0.811\n",
            "Epoch14: Train - loss = 6.331, accuracy = 0.816, Test - 0.809\n",
            "Epoch16: Train - loss = 6.253, accuracy = 0.816, Test - 0.815\n",
            "Epoch18: Train - loss = 6.176, accuracy = 0.819, Test - 0.804\n",
            "Epoch20: Train - loss = 6.113, accuracy = 0.820, Test - 0.811\n",
            "\n",
            " 최종 테스트 : final accuracy - 0.811\n"
          ]
        }
      ]
    },
    {
      "cell_type": "markdown",
      "metadata": {
        "id": "hPVLFv_0ikFt"
      },
      "source": [
        "## 새로운 x로 전복 나이 구해보기"
      ]
    },
    {
      "cell_type": "code",
      "metadata": {
        "colab": {
          "base_uri": "https://localhost:8080/"
        },
        "id": "e0st_bJ2iCEc",
        "outputId": "f980435c-b39e-49b3-d2dc-33236e2111ca"
      },
      "source": [
        "new_x = [0, 1, 0, 0.685,0.545, 0.18,1.42,0.674,0.392,0.5]\n",
        "output = forward_neuralnet(new_x)\n",
        "\n",
        "print(output[0] + 1.5)"
      ],
      "execution_count": 20,
      "outputs": [
        {
          "output_type": "stream",
          "name": "stdout",
          "text": [
            "[13.86191416]\n"
          ]
        }
      ]
    }
  ]
}