{
  "nbformat": 4,
  "nbformat_minor": 0,
  "metadata": {
    "colab": {
      "name": "1.Tokenization.ipynb",
      "provenance": [],
      "mount_file_id": "1c31m3-KK_3mNq3ySfNR008Ux_yW_BB7q",
      "authorship_tag": "ABX9TyMKqMZQQeMgcKRuyld9xFen",
      "include_colab_link": true
    },
    "kernelspec": {
      "name": "python3",
      "display_name": "Python 3"
    },
    "language_info": {
      "name": "python"
    },
    "accelerator": "GPU"
  },
  "cells": [
    {
      "cell_type": "markdown",
      "metadata": {
        "id": "view-in-github",
        "colab_type": "text"
      },
      "source": [
        "<a href=\"https://colab.research.google.com/github/hbhb0311/LikelionStudy/blob/main/4.NLP/1.Tokenization.ipynb\" target=\"_parent\"><img src=\"https://colab.research.google.com/assets/colab-badge.svg\" alt=\"Open In Colab\"/></a>"
      ]
    },
    {
      "cell_type": "markdown",
      "metadata": {
        "id": "AxeKJFh-fN9B"
      },
      "source": [
        "## Kkma"
      ]
    },
    {
      "cell_type": "code",
      "metadata": {
        "id": "N70Zay3qijD5"
      },
      "source": [
        "!pip install konlpy\n",
        "# konlpy 사용하기 위해서는 라이브러리 설치가 필요"
      ],
      "execution_count": null,
      "outputs": []
    },
    {
      "cell_type": "code",
      "metadata": {
        "id": "rqTJMgMRfUq2"
      },
      "source": [
        "from konlpy.tag import Kkma\n",
        "import time"
      ],
      "execution_count": 5,
      "outputs": []
    },
    {
      "cell_type": "code",
      "metadata": {
        "id": "uDYlGxzifp0v"
      },
      "source": [
        "# Kkma 객체 생성\n",
        "kkma = Kkma()\n",
        "\n",
        "# text 지정\n",
        "text = '지금은 자연어 처리 공부 중입니다. 얼마나 빠를까?'"
      ],
      "execution_count": 6,
      "outputs": []
    },
    {
      "cell_type": "code",
      "metadata": {
        "colab": {
          "base_uri": "https://localhost:8080/"
        },
        "id": "gXVmLMuBfhfg",
        "outputId": "13b1a781-b0e9-4183-f45c-b511f2af5ce3"
      },
      "source": [
        "# morphs : 형태소들을 '리스트' 형태로 반환\n",
        "start = time.time()\n",
        "print(kkma.morphs(text))\n",
        "print('총 걸린 시간 : ', time.time() - start)"
      ],
      "execution_count": 7,
      "outputs": [
        {
          "output_type": "stream",
          "name": "stdout",
          "text": [
            "['지금', '은', '자연어', '처리', '공부', '중', '이', 'ㅂ니다', '.', '얼마나', '빠르', 'ㄹ까', '?']\n",
            "총 걸린 시간 :  11.21799373626709\n"
          ]
        }
      ]
    },
    {
      "cell_type": "code",
      "metadata": {
        "colab": {
          "base_uri": "https://localhost:8080/"
        },
        "id": "-CuwES4DgBPz",
        "outputId": "183bcd8f-374a-46fc-e022-8e979baa1f5f"
      },
      "source": [
        "# nouns : 품사가 명사인 토큰만 추출\n",
        "start = time.time()\n",
        "print(kkma.nouns(text))\n",
        "print('총 걸린 시간 : ', time.time() - start)"
      ],
      "execution_count": 8,
      "outputs": [
        {
          "output_type": "stream",
          "name": "stdout",
          "text": [
            "['지금', '자연어', '처리', '공부', '중']\n",
            "총 걸린 시간 :  0.08986282348632812\n"
          ]
        }
      ]
    },
    {
      "cell_type": "code",
      "metadata": {
        "colab": {
          "base_uri": "https://localhost:8080/"
        },
        "id": "SbCw7km8gvdh",
        "outputId": "2458bf5d-4d4d-45f1-d700-6f835a959719"
      },
      "source": [
        "# pos : 형태소와 품사를 '튜플' 형태로 묶어 리스트로 반환\n",
        "start = time.time()\n",
        "print(kkma.pos(text))\n",
        "print('총 걸린 시간 : ', time.time() - start)"
      ],
      "execution_count": 9,
      "outputs": [
        {
          "output_type": "stream",
          "name": "stdout",
          "text": [
            "[('지금', 'NNG'), ('은', 'JX'), ('자연어', 'NNG'), ('처리', 'NNG'), ('공부', 'NNG'), ('중', 'NNB'), ('이', 'VCP'), ('ㅂ니다', 'EFN'), ('.', 'SF'), ('얼마나', 'MAG'), ('빠르', 'VA'), ('ㄹ까', 'EFQ'), ('?', 'SF')]\n",
            "총 걸린 시간 :  0.04920816421508789\n"
          ]
        }
      ]
    },
    {
      "cell_type": "code",
      "metadata": {
        "colab": {
          "base_uri": "https://localhost:8080/"
        },
        "id": "uAyhc9_yg9Be",
        "outputId": "eecd9bc5-9289-4b31-e775-e4d96534b86e"
      },
      "source": [
        "# sentences : 여러 문장을 분리해주는 역할, '리스트'로 반환\n",
        "start = time.time()\n",
        "print(kkma.sentences(text))\n",
        "print('총 걸린 시간 : ', time.time() - start)"
      ],
      "execution_count": 10,
      "outputs": [
        {
          "output_type": "stream",
          "name": "stdout",
          "text": [
            "['지금은 자연어 처리 공부 중입니다.', '얼마나 빠를까?']\n",
            "총 걸린 시간 :  0.04161429405212402\n"
          ]
        }
      ]
    },
    {
      "cell_type": "markdown",
      "metadata": {
        "id": "izxe8ETxhNj5"
      },
      "source": [
        "## Komoran"
      ]
    },
    {
      "cell_type": "code",
      "metadata": {
        "id": "pGO1hYSdhHJX"
      },
      "source": [
        "from konlpy.tag import Komoran"
      ],
      "execution_count": 11,
      "outputs": []
    },
    {
      "cell_type": "code",
      "metadata": {
        "id": "3Seo54OzhRTA"
      },
      "source": [
        "komoran = Komoran()"
      ],
      "execution_count": 12,
      "outputs": []
    },
    {
      "cell_type": "code",
      "metadata": {
        "colab": {
          "base_uri": "https://localhost:8080/"
        },
        "id": "bTHH5C7ahX9q",
        "outputId": "7629bf42-bd40-43d5-cc01-ada43f8ee3d6"
      },
      "source": [
        "# morphs : 형태소들을 '리스트' 형태로 반환\n",
        "start = time.time()\n",
        "print(komoran.morphs(text))\n",
        "print('총 걸린 시간 : ', time.time() - start)"
      ],
      "execution_count": 13,
      "outputs": [
        {
          "output_type": "stream",
          "name": "stdout",
          "text": [
            "['지금', '은', '자연어', '처리', '공부', '중', '이', 'ㅂ니다', '.', '얼마나', '빠르', 'ㄹ까', '?']\n",
            "총 걸린 시간 :  0.03198099136352539\n"
          ]
        }
      ]
    },
    {
      "cell_type": "code",
      "metadata": {
        "colab": {
          "base_uri": "https://localhost:8080/"
        },
        "id": "R2OJXy8VheWC",
        "outputId": "b66198b9-489a-4929-94a3-debd9630a551"
      },
      "source": [
        "# nouns : 품사가 명사인 토큰만 추출\n",
        "start = time.time()\n",
        "print(komoran.nouns(text))\n",
        "print('총 걸린 시간 : ', time.time() - start)"
      ],
      "execution_count": 14,
      "outputs": [
        {
          "output_type": "stream",
          "name": "stdout",
          "text": [
            "['지금', '자연어', '처리', '공부', '중']\n",
            "총 걸린 시간 :  0.013247966766357422\n"
          ]
        }
      ]
    },
    {
      "cell_type": "code",
      "metadata": {
        "colab": {
          "base_uri": "https://localhost:8080/"
        },
        "id": "UQqeARBahiA3",
        "outputId": "b139e018-ed03-4103-b0cc-3459337da91a"
      },
      "source": [
        "# pos : 형태소와 품사를 '튜플' 형태로 묶어 리스트로 반환\n",
        "start = time.time()\n",
        "print(komoran.pos(text))\n",
        "print('총 걸린 시간 : ', time.time() - start)"
      ],
      "execution_count": 15,
      "outputs": [
        {
          "output_type": "stream",
          "name": "stdout",
          "text": [
            "[('지금', 'NNG'), ('은', 'JX'), ('자연어', 'NNP'), ('처리', 'NNG'), ('공부', 'NNG'), ('중', 'NNB'), ('이', 'VCP'), ('ㅂ니다', 'EF'), ('.', 'SF'), ('얼마나', 'MAG'), ('빠르', 'VA'), ('ㄹ까', 'EF'), ('?', 'SF')]\n",
            "총 걸린 시간 :  0.015166044235229492\n"
          ]
        }
      ]
    },
    {
      "cell_type": "markdown",
      "metadata": {
        "id": "grBlkPU4h04U"
      },
      "source": [
        "## Okt"
      ]
    },
    {
      "cell_type": "code",
      "metadata": {
        "id": "wW4qd8H1hlrw"
      },
      "source": [
        "from konlpy.tag import Okt"
      ],
      "execution_count": 16,
      "outputs": []
    },
    {
      "cell_type": "code",
      "metadata": {
        "id": "1mETzL7Jh4rc"
      },
      "source": [
        "okt = Okt()"
      ],
      "execution_count": 17,
      "outputs": []
    },
    {
      "cell_type": "code",
      "metadata": {
        "colab": {
          "base_uri": "https://localhost:8080/"
        },
        "id": "uwxiDJcrh6Lb",
        "outputId": "190cd515-5309-46f7-c56c-6ace5dedecba"
      },
      "source": [
        "# morphs : 형태소들을 '리스트' 형태로 반환\n",
        "start = time.time()\n",
        "print(okt.morphs(text))\n",
        "print('총 걸린 시간 : ', time.time() - start)"
      ],
      "execution_count": 18,
      "outputs": [
        {
          "output_type": "stream",
          "name": "stdout",
          "text": [
            "['지금', '은', '자연어', '처리', '공부', '중', '입니다', '.', '얼마나', '빠를까', '?']\n",
            "총 걸린 시간 :  9.510177373886108\n"
          ]
        }
      ]
    },
    {
      "cell_type": "code",
      "metadata": {
        "colab": {
          "base_uri": "https://localhost:8080/"
        },
        "id": "TWanKnhyh86q",
        "outputId": "dbd227e5-3bd6-4c7b-bf7f-0786fe1a7ba4"
      },
      "source": [
        "# nouns : 품사가 명사인 토큰만 추출\n",
        "start = time.time()\n",
        "print(okt.nouns(text))\n",
        "print('총 걸린 시간 : ', time.time() - start)"
      ],
      "execution_count": 19,
      "outputs": [
        {
          "output_type": "stream",
          "name": "stdout",
          "text": [
            "['지금', '자연어', '처리', '공부', '중', '얼마나']\n",
            "총 걸린 시간 :  0.08281064033508301\n"
          ]
        }
      ]
    },
    {
      "cell_type": "code",
      "metadata": {
        "colab": {
          "base_uri": "https://localhost:8080/"
        },
        "id": "1eJyOmq8iAZj",
        "outputId": "8456c4a3-9652-4f85-f64f-010b82443df8"
      },
      "source": [
        "# pos : 형태소와 품사를 '튜플' 형태로 묶어 리스트로 반환\n",
        "start = time.time()\n",
        "print(okt.pos(text))\n",
        "print('총 걸린 시간 : ', time.time() - start)"
      ],
      "execution_count": 20,
      "outputs": [
        {
          "output_type": "stream",
          "name": "stdout",
          "text": [
            "[('지금', 'Noun'), ('은', 'Josa'), ('자연어', 'Noun'), ('처리', 'Noun'), ('공부', 'Noun'), ('중', 'Noun'), ('입니다', 'Adjective'), ('.', 'Punctuation'), ('얼마나', 'Noun'), ('빠를까', 'Adjective'), ('?', 'Punctuation')]\n",
            "총 걸린 시간 :  0.07086396217346191\n"
          ]
        }
      ]
    },
    {
      "cell_type": "code",
      "metadata": {
        "colab": {
          "base_uri": "https://localhost:8080/"
        },
        "id": "dvdQVQxeiDOs",
        "outputId": "98289067-faca-415e-d4f1-77b6f6ac421b"
      },
      "source": [
        "# normalize : 입력한 문장을 정규화\n",
        "text = '이것도 변경이되낰ㅋㅋㅋㅋ'\n",
        "start = time.time()\n",
        "print(okt.normalize(text))\n",
        "print('총 걸린 시간 : ', time.time() - start)"
      ],
      "execution_count": 21,
      "outputs": [
        {
          "output_type": "stream",
          "name": "stdout",
          "text": [
            "이것도 변경이되나ㅋㅋㅋ\n",
            "총 걸린 시간 :  0.08420300483703613\n"
          ]
        }
      ]
    },
    {
      "cell_type": "code",
      "metadata": {
        "colab": {
          "base_uri": "https://localhost:8080/"
        },
        "id": "no06M3MGiSbS",
        "outputId": "557e92ae-68fe-4b64-b47c-e5010b1aafa3"
      },
      "source": [
        "# phrases : 입력한 문장에서 어구를 추출\n",
        "text = '오늘 날씨가 좋아요.'\n",
        "start = time.time()\n",
        "print(okt.phrases(text))\n",
        "print('총 걸린 시간 : ', time.time() - start)"
      ],
      "execution_count": 22,
      "outputs": [
        {
          "output_type": "stream",
          "name": "stdout",
          "text": [
            "['오늘', '오늘 날씨', '날씨']\n",
            "총 걸린 시간 :  0.07033538818359375\n"
          ]
        }
      ]
    },
    {
      "cell_type": "markdown",
      "metadata": {
        "id": "SOGqTjnGvA6o"
      },
      "source": [
        "## 사전 구축"
      ]
    },
    {
      "cell_type": "code",
      "metadata": {
        "colab": {
          "base_uri": "https://localhost:8080/"
        },
        "id": "phqa0Sraid53",
        "outputId": "85e60c0f-ae8a-4c85-9a37-a2a5cc9ad270"
      },
      "source": [
        "komoran = Komoran()\n",
        "text = '놀면뭐하니 봤어? 유느님이 하는 거 잖아.'\n",
        "komoran.pos(text)\n",
        "\n",
        "# 놀면뭐하니와 유느님을 한 단어로 인식하지 못함"
      ],
      "execution_count": 23,
      "outputs": [
        {
          "output_type": "execute_result",
          "data": {
            "text/plain": [
              "[('놀', 'VV'),\n",
              " ('면', 'EC'),\n",
              " ('뭐', 'NP'),\n",
              " ('하', 'VV'),\n",
              " ('니', 'EC'),\n",
              " ('보', 'VV'),\n",
              " ('았', 'EP'),\n",
              " ('어', 'EF'),\n",
              " ('?', 'SF'),\n",
              " ('유', 'NNP'),\n",
              " ('느', 'NNG'),\n",
              " ('님', 'XSN'),\n",
              " ('이', 'JKS'),\n",
              " ('하', 'VV'),\n",
              " ('는', 'ETM'),\n",
              " ('거', 'NNB'),\n",
              " ('잖아', 'EF'),\n",
              " ('.', 'SF')]"
            ]
          },
          "metadata": {},
          "execution_count": 23
        }
      ]
    },
    {
      "cell_type": "code",
      "metadata": {
        "colab": {
          "base_uri": "https://localhost:8080/"
        },
        "id": "uQariBT7vW2c",
        "outputId": "fe0399a4-36a2-44bb-c9c9-61cf1572f4b4"
      },
      "source": [
        "# 사전 불러오기 위해 userdic 이용\n",
        "komoran = Komoran(userdic = 'user_dic.tsv')\n",
        "komoran.pos(text)"
      ],
      "execution_count": 24,
      "outputs": [
        {
          "output_type": "execute_result",
          "data": {
            "text/plain": [
              "[('놀', 'VV'),\n",
              " ('면', 'EC'),\n",
              " ('뭐', 'NP'),\n",
              " ('하', 'VV'),\n",
              " ('니', 'EC'),\n",
              " ('보', 'VV'),\n",
              " ('았', 'EP'),\n",
              " ('어', 'EF'),\n",
              " ('?', 'SF'),\n",
              " ('유', 'NNP'),\n",
              " ('느', 'NNG'),\n",
              " ('님', 'XSN'),\n",
              " ('이', 'JKS'),\n",
              " ('하', 'VV'),\n",
              " ('는', 'ETM'),\n",
              " ('거', 'NNB'),\n",
              " ('잖아', 'EF'),\n",
              " ('.', 'SF')]"
            ]
          },
          "metadata": {},
          "execution_count": 24
        }
      ]
    }
  ]
}