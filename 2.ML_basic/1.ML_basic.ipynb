{
  "nbformat": 4,
  "nbformat_minor": 0,
  "metadata": {
    "colab": {
      "name": "4.ML_basic.ipynb",
      "provenance": [],
      "collapsed_sections": [],
      "authorship_tag": "ABX9TyPO7uH4AWa0PWf4BUw3u/Fp",
      "include_colab_link": true
    },
    "kernelspec": {
      "name": "python3",
      "display_name": "Python 3"
    },
    "language_info": {
      "name": "python"
    },
    "accelerator": "GPU"
  },
  "cells": [
    {
      "cell_type": "markdown",
      "metadata": {
        "id": "view-in-github",
        "colab_type": "text"
      },
      "source": [
        "<a href=\"https://colab.research.google.com/github/hbhb0311/LikelionStudy/blob/main/2.ML_basic/1.ML_basic.ipynb\" target=\"_parent\"><img src=\"https://colab.research.google.com/assets/colab-badge.svg\" alt=\"Open In Colab\"/></a>"
      ]
    },
    {
      "cell_type": "markdown",
      "metadata": {
        "id": "pxhsFRJdpm_u"
      },
      "source": [
        "# 머신러닝 시작하기"
      ]
    },
    {
      "cell_type": "markdown",
      "metadata": {
        "id": "svc1LhgXGXxm"
      },
      "source": [
        "## Decision Tree"
      ]
    },
    {
      "cell_type": "markdown",
      "metadata": {
        "id": "B2UtqafjGf-r"
      },
      "source": [
        "### 데이터 불러오기"
      ]
    },
    {
      "cell_type": "code",
      "metadata": {
        "id": "jPVHR6CyqKvY"
      },
      "source": [
        "from sklearn import datasets\n",
        "import numpy as np"
      ],
      "execution_count": 1,
      "outputs": []
    },
    {
      "cell_type": "code",
      "metadata": {
        "colab": {
          "base_uri": "https://localhost:8080/"
        },
        "id": "BLV3ZiIlGkdw",
        "outputId": "0dc03a05-50f0-43a5-fd0c-20c615ca38d9"
      },
      "source": [
        "iris = datasets.load_iris()\n",
        "iris"
      ],
      "execution_count": 2,
      "outputs": [
        {
          "output_type": "execute_result",
          "data": {
            "text/plain": [
              "{'DESCR': '.. _iris_dataset:\\n\\nIris plants dataset\\n--------------------\\n\\n**Data Set Characteristics:**\\n\\n    :Number of Instances: 150 (50 in each of three classes)\\n    :Number of Attributes: 4 numeric, predictive attributes and the class\\n    :Attribute Information:\\n        - sepal length in cm\\n        - sepal width in cm\\n        - petal length in cm\\n        - petal width in cm\\n        - class:\\n                - Iris-Setosa\\n                - Iris-Versicolour\\n                - Iris-Virginica\\n                \\n    :Summary Statistics:\\n\\n    ============== ==== ==== ======= ===== ====================\\n                    Min  Max   Mean    SD   Class Correlation\\n    ============== ==== ==== ======= ===== ====================\\n    sepal length:   4.3  7.9   5.84   0.83    0.7826\\n    sepal width:    2.0  4.4   3.05   0.43   -0.4194\\n    petal length:   1.0  6.9   3.76   1.76    0.9490  (high!)\\n    petal width:    0.1  2.5   1.20   0.76    0.9565  (high!)\\n    ============== ==== ==== ======= ===== ====================\\n\\n    :Missing Attribute Values: None\\n    :Class Distribution: 33.3% for each of 3 classes.\\n    :Creator: R.A. Fisher\\n    :Donor: Michael Marshall (MARSHALL%PLU@io.arc.nasa.gov)\\n    :Date: July, 1988\\n\\nThe famous Iris database, first used by Sir R.A. Fisher. The dataset is taken\\nfrom Fisher\\'s paper. Note that it\\'s the same as in R, but not as in the UCI\\nMachine Learning Repository, which has two wrong data points.\\n\\nThis is perhaps the best known database to be found in the\\npattern recognition literature.  Fisher\\'s paper is a classic in the field and\\nis referenced frequently to this day.  (See Duda & Hart, for example.)  The\\ndata set contains 3 classes of 50 instances each, where each class refers to a\\ntype of iris plant.  One class is linearly separable from the other 2; the\\nlatter are NOT linearly separable from each other.\\n\\n.. topic:: References\\n\\n   - Fisher, R.A. \"The use of multiple measurements in taxonomic problems\"\\n     Annual Eugenics, 7, Part II, 179-188 (1936); also in \"Contributions to\\n     Mathematical Statistics\" (John Wiley, NY, 1950).\\n   - Duda, R.O., & Hart, P.E. (1973) Pattern Classification and Scene Analysis.\\n     (Q327.D83) John Wiley & Sons.  ISBN 0-471-22361-1.  See page 218.\\n   - Dasarathy, B.V. (1980) \"Nosing Around the Neighborhood: A New System\\n     Structure and Classification Rule for Recognition in Partially Exposed\\n     Environments\".  IEEE Transactions on Pattern Analysis and Machine\\n     Intelligence, Vol. PAMI-2, No. 1, 67-71.\\n   - Gates, G.W. (1972) \"The Reduced Nearest Neighbor Rule\".  IEEE Transactions\\n     on Information Theory, May 1972, 431-433.\\n   - See also: 1988 MLC Proceedings, 54-64.  Cheeseman et al\"s AUTOCLASS II\\n     conceptual clustering system finds 3 classes in the data.\\n   - Many, many more ...',\n",
              " 'data': array([[5.1, 3.5, 1.4, 0.2],\n",
              "        [4.9, 3. , 1.4, 0.2],\n",
              "        [4.7, 3.2, 1.3, 0.2],\n",
              "        [4.6, 3.1, 1.5, 0.2],\n",
              "        [5. , 3.6, 1.4, 0.2],\n",
              "        [5.4, 3.9, 1.7, 0.4],\n",
              "        [4.6, 3.4, 1.4, 0.3],\n",
              "        [5. , 3.4, 1.5, 0.2],\n",
              "        [4.4, 2.9, 1.4, 0.2],\n",
              "        [4.9, 3.1, 1.5, 0.1],\n",
              "        [5.4, 3.7, 1.5, 0.2],\n",
              "        [4.8, 3.4, 1.6, 0.2],\n",
              "        [4.8, 3. , 1.4, 0.1],\n",
              "        [4.3, 3. , 1.1, 0.1],\n",
              "        [5.8, 4. , 1.2, 0.2],\n",
              "        [5.7, 4.4, 1.5, 0.4],\n",
              "        [5.4, 3.9, 1.3, 0.4],\n",
              "        [5.1, 3.5, 1.4, 0.3],\n",
              "        [5.7, 3.8, 1.7, 0.3],\n",
              "        [5.1, 3.8, 1.5, 0.3],\n",
              "        [5.4, 3.4, 1.7, 0.2],\n",
              "        [5.1, 3.7, 1.5, 0.4],\n",
              "        [4.6, 3.6, 1. , 0.2],\n",
              "        [5.1, 3.3, 1.7, 0.5],\n",
              "        [4.8, 3.4, 1.9, 0.2],\n",
              "        [5. , 3. , 1.6, 0.2],\n",
              "        [5. , 3.4, 1.6, 0.4],\n",
              "        [5.2, 3.5, 1.5, 0.2],\n",
              "        [5.2, 3.4, 1.4, 0.2],\n",
              "        [4.7, 3.2, 1.6, 0.2],\n",
              "        [4.8, 3.1, 1.6, 0.2],\n",
              "        [5.4, 3.4, 1.5, 0.4],\n",
              "        [5.2, 4.1, 1.5, 0.1],\n",
              "        [5.5, 4.2, 1.4, 0.2],\n",
              "        [4.9, 3.1, 1.5, 0.2],\n",
              "        [5. , 3.2, 1.2, 0.2],\n",
              "        [5.5, 3.5, 1.3, 0.2],\n",
              "        [4.9, 3.6, 1.4, 0.1],\n",
              "        [4.4, 3. , 1.3, 0.2],\n",
              "        [5.1, 3.4, 1.5, 0.2],\n",
              "        [5. , 3.5, 1.3, 0.3],\n",
              "        [4.5, 2.3, 1.3, 0.3],\n",
              "        [4.4, 3.2, 1.3, 0.2],\n",
              "        [5. , 3.5, 1.6, 0.6],\n",
              "        [5.1, 3.8, 1.9, 0.4],\n",
              "        [4.8, 3. , 1.4, 0.3],\n",
              "        [5.1, 3.8, 1.6, 0.2],\n",
              "        [4.6, 3.2, 1.4, 0.2],\n",
              "        [5.3, 3.7, 1.5, 0.2],\n",
              "        [5. , 3.3, 1.4, 0.2],\n",
              "        [7. , 3.2, 4.7, 1.4],\n",
              "        [6.4, 3.2, 4.5, 1.5],\n",
              "        [6.9, 3.1, 4.9, 1.5],\n",
              "        [5.5, 2.3, 4. , 1.3],\n",
              "        [6.5, 2.8, 4.6, 1.5],\n",
              "        [5.7, 2.8, 4.5, 1.3],\n",
              "        [6.3, 3.3, 4.7, 1.6],\n",
              "        [4.9, 2.4, 3.3, 1. ],\n",
              "        [6.6, 2.9, 4.6, 1.3],\n",
              "        [5.2, 2.7, 3.9, 1.4],\n",
              "        [5. , 2. , 3.5, 1. ],\n",
              "        [5.9, 3. , 4.2, 1.5],\n",
              "        [6. , 2.2, 4. , 1. ],\n",
              "        [6.1, 2.9, 4.7, 1.4],\n",
              "        [5.6, 2.9, 3.6, 1.3],\n",
              "        [6.7, 3.1, 4.4, 1.4],\n",
              "        [5.6, 3. , 4.5, 1.5],\n",
              "        [5.8, 2.7, 4.1, 1. ],\n",
              "        [6.2, 2.2, 4.5, 1.5],\n",
              "        [5.6, 2.5, 3.9, 1.1],\n",
              "        [5.9, 3.2, 4.8, 1.8],\n",
              "        [6.1, 2.8, 4. , 1.3],\n",
              "        [6.3, 2.5, 4.9, 1.5],\n",
              "        [6.1, 2.8, 4.7, 1.2],\n",
              "        [6.4, 2.9, 4.3, 1.3],\n",
              "        [6.6, 3. , 4.4, 1.4],\n",
              "        [6.8, 2.8, 4.8, 1.4],\n",
              "        [6.7, 3. , 5. , 1.7],\n",
              "        [6. , 2.9, 4.5, 1.5],\n",
              "        [5.7, 2.6, 3.5, 1. ],\n",
              "        [5.5, 2.4, 3.8, 1.1],\n",
              "        [5.5, 2.4, 3.7, 1. ],\n",
              "        [5.8, 2.7, 3.9, 1.2],\n",
              "        [6. , 2.7, 5.1, 1.6],\n",
              "        [5.4, 3. , 4.5, 1.5],\n",
              "        [6. , 3.4, 4.5, 1.6],\n",
              "        [6.7, 3.1, 4.7, 1.5],\n",
              "        [6.3, 2.3, 4.4, 1.3],\n",
              "        [5.6, 3. , 4.1, 1.3],\n",
              "        [5.5, 2.5, 4. , 1.3],\n",
              "        [5.5, 2.6, 4.4, 1.2],\n",
              "        [6.1, 3. , 4.6, 1.4],\n",
              "        [5.8, 2.6, 4. , 1.2],\n",
              "        [5. , 2.3, 3.3, 1. ],\n",
              "        [5.6, 2.7, 4.2, 1.3],\n",
              "        [5.7, 3. , 4.2, 1.2],\n",
              "        [5.7, 2.9, 4.2, 1.3],\n",
              "        [6.2, 2.9, 4.3, 1.3],\n",
              "        [5.1, 2.5, 3. , 1.1],\n",
              "        [5.7, 2.8, 4.1, 1.3],\n",
              "        [6.3, 3.3, 6. , 2.5],\n",
              "        [5.8, 2.7, 5.1, 1.9],\n",
              "        [7.1, 3. , 5.9, 2.1],\n",
              "        [6.3, 2.9, 5.6, 1.8],\n",
              "        [6.5, 3. , 5.8, 2.2],\n",
              "        [7.6, 3. , 6.6, 2.1],\n",
              "        [4.9, 2.5, 4.5, 1.7],\n",
              "        [7.3, 2.9, 6.3, 1.8],\n",
              "        [6.7, 2.5, 5.8, 1.8],\n",
              "        [7.2, 3.6, 6.1, 2.5],\n",
              "        [6.5, 3.2, 5.1, 2. ],\n",
              "        [6.4, 2.7, 5.3, 1.9],\n",
              "        [6.8, 3. , 5.5, 2.1],\n",
              "        [5.7, 2.5, 5. , 2. ],\n",
              "        [5.8, 2.8, 5.1, 2.4],\n",
              "        [6.4, 3.2, 5.3, 2.3],\n",
              "        [6.5, 3. , 5.5, 1.8],\n",
              "        [7.7, 3.8, 6.7, 2.2],\n",
              "        [7.7, 2.6, 6.9, 2.3],\n",
              "        [6. , 2.2, 5. , 1.5],\n",
              "        [6.9, 3.2, 5.7, 2.3],\n",
              "        [5.6, 2.8, 4.9, 2. ],\n",
              "        [7.7, 2.8, 6.7, 2. ],\n",
              "        [6.3, 2.7, 4.9, 1.8],\n",
              "        [6.7, 3.3, 5.7, 2.1],\n",
              "        [7.2, 3.2, 6. , 1.8],\n",
              "        [6.2, 2.8, 4.8, 1.8],\n",
              "        [6.1, 3. , 4.9, 1.8],\n",
              "        [6.4, 2.8, 5.6, 2.1],\n",
              "        [7.2, 3. , 5.8, 1.6],\n",
              "        [7.4, 2.8, 6.1, 1.9],\n",
              "        [7.9, 3.8, 6.4, 2. ],\n",
              "        [6.4, 2.8, 5.6, 2.2],\n",
              "        [6.3, 2.8, 5.1, 1.5],\n",
              "        [6.1, 2.6, 5.6, 1.4],\n",
              "        [7.7, 3. , 6.1, 2.3],\n",
              "        [6.3, 3.4, 5.6, 2.4],\n",
              "        [6.4, 3.1, 5.5, 1.8],\n",
              "        [6. , 3. , 4.8, 1.8],\n",
              "        [6.9, 3.1, 5.4, 2.1],\n",
              "        [6.7, 3.1, 5.6, 2.4],\n",
              "        [6.9, 3.1, 5.1, 2.3],\n",
              "        [5.8, 2.7, 5.1, 1.9],\n",
              "        [6.8, 3.2, 5.9, 2.3],\n",
              "        [6.7, 3.3, 5.7, 2.5],\n",
              "        [6.7, 3. , 5.2, 2.3],\n",
              "        [6.3, 2.5, 5. , 1.9],\n",
              "        [6.5, 3. , 5.2, 2. ],\n",
              "        [6.2, 3.4, 5.4, 2.3],\n",
              "        [5.9, 3. , 5.1, 1.8]]),\n",
              " 'feature_names': ['sepal length (cm)',\n",
              "  'sepal width (cm)',\n",
              "  'petal length (cm)',\n",
              "  'petal width (cm)'],\n",
              " 'filename': '/usr/local/lib/python3.7/dist-packages/sklearn/datasets/data/iris.csv',\n",
              " 'target': array([0, 0, 0, 0, 0, 0, 0, 0, 0, 0, 0, 0, 0, 0, 0, 0, 0, 0, 0, 0, 0, 0,\n",
              "        0, 0, 0, 0, 0, 0, 0, 0, 0, 0, 0, 0, 0, 0, 0, 0, 0, 0, 0, 0, 0, 0,\n",
              "        0, 0, 0, 0, 0, 0, 1, 1, 1, 1, 1, 1, 1, 1, 1, 1, 1, 1, 1, 1, 1, 1,\n",
              "        1, 1, 1, 1, 1, 1, 1, 1, 1, 1, 1, 1, 1, 1, 1, 1, 1, 1, 1, 1, 1, 1,\n",
              "        1, 1, 1, 1, 1, 1, 1, 1, 1, 1, 1, 1, 2, 2, 2, 2, 2, 2, 2, 2, 2, 2,\n",
              "        2, 2, 2, 2, 2, 2, 2, 2, 2, 2, 2, 2, 2, 2, 2, 2, 2, 2, 2, 2, 2, 2,\n",
              "        2, 2, 2, 2, 2, 2, 2, 2, 2, 2, 2, 2, 2, 2, 2, 2, 2, 2]),\n",
              " 'target_names': array(['setosa', 'versicolor', 'virginica'], dtype='<U10')}"
            ]
          },
          "metadata": {},
          "execution_count": 2
        }
      ]
    },
    {
      "cell_type": "code",
      "metadata": {
        "id": "cdkIm9maG06B"
      },
      "source": [
        "X = iris.data[:,[2,3]]\n",
        "y = iris.target"
      ],
      "execution_count": 3,
      "outputs": []
    },
    {
      "cell_type": "code",
      "metadata": {
        "id": "_iKY3AhKHFdO"
      },
      "source": [
        "from sklearn.model_selection import train_test_split\n",
        "\n",
        "train_X, test_X, train_Y, test_Y = train_test_split(X, y, test_size = 0.3, random_state = 1, stratify = y)\n",
        "#stratify : input dataset의 클래스의 비율과 같은 비율을 갖게 만듦"
      ],
      "execution_count": 4,
      "outputs": []
    },
    {
      "cell_type": "markdown",
      "metadata": {
        "id": "_b4ULKspH92i"
      },
      "source": [
        "### Decision Tree 만들기"
      ]
    },
    {
      "cell_type": "code",
      "metadata": {
        "id": "tKL5Vn71HZte"
      },
      "source": [
        "from pydotplus import graph_from_dot_data\n",
        "from sklearn.tree import export_graphviz\n",
        "from sklearn.tree import DecisionTreeClassifier"
      ],
      "execution_count": 5,
      "outputs": []
    },
    {
      "cell_type": "code",
      "metadata": {
        "id": "C065_rgPITV7"
      },
      "source": [
        "tree = DecisionTreeClassifier(criterion = 'gini',\n",
        "                              max_depth = 4,\n",
        "                              random_state = 1, )\n",
        "# criterion : 불순도 계수 어떤 것을 사용할 것인지 (gini, entropy)\n",
        "# max_depth : 최대 깊이"
      ],
      "execution_count": 6,
      "outputs": []
    },
    {
      "cell_type": "code",
      "metadata": {
        "colab": {
          "base_uri": "https://localhost:8080/"
        },
        "id": "gmwkrrjdIb0A",
        "outputId": "77912de4-7faf-48c1-e005-efebdc217928"
      },
      "source": [
        "# 모델에 fit하기\n",
        "tree.fit(train_X, train_Y)"
      ],
      "execution_count": 7,
      "outputs": [
        {
          "output_type": "execute_result",
          "data": {
            "text/plain": [
              "DecisionTreeClassifier(ccp_alpha=0.0, class_weight=None, criterion='gini',\n",
              "                       max_depth=4, max_features=None, max_leaf_nodes=None,\n",
              "                       min_impurity_decrease=0.0, min_impurity_split=None,\n",
              "                       min_samples_leaf=1, min_samples_split=2,\n",
              "                       min_weight_fraction_leaf=0.0, presort='deprecated',\n",
              "                       random_state=1, splitter='best')"
            ]
          },
          "metadata": {},
          "execution_count": 7
        }
      ]
    },
    {
      "cell_type": "markdown",
      "metadata": {
        "id": "njHLzjvUI6dz"
      },
      "source": [
        "### 결정나무 시각화"
      ]
    },
    {
      "cell_type": "code",
      "metadata": {
        "id": "6FoXXOQFIIZb"
      },
      "source": [
        "# 결정나무 시각화\n",
        "dot_data = export_graphviz(tree,\n",
        "                           filled = True,\n",
        "                           rounded = True,\n",
        "                           class_names = ['setosa', \n",
        "                                         'versicolor', \n",
        "                                         'virginica'],\n",
        "                           feature_names = ['petal length (cm)',\n",
        "                                            'petal width (cm)'],\n",
        "                           out_file = None)\n",
        "\n",
        "# out_file = None : tree.dot 중간 파일을 디스크에 만들지 않고 바로 dot_data 변수에 할당"
      ],
      "execution_count": 8,
      "outputs": []
    },
    {
      "cell_type": "code",
      "metadata": {
        "colab": {
          "base_uri": "https://localhost:8080/"
        },
        "id": "Orwmg88yJ2f0",
        "outputId": "cfc5e6e1-5bb9-4a9c-af59-28c57d670203"
      },
      "source": [
        "graph = graph_from_dot_data(dot_data)\n",
        "graph.write_png('tree.png')"
      ],
      "execution_count": 9,
      "outputs": [
        {
          "output_type": "execute_result",
          "data": {
            "text/plain": [
              "True"
            ]
          },
          "metadata": {},
          "execution_count": 9
        }
      ]
    },
    {
      "cell_type": "markdown",
      "metadata": {
        "id": "eUF2K9UVLHdV"
      },
      "source": [
        "### 그래프로 시각화"
      ]
    },
    {
      "cell_type": "code",
      "metadata": {
        "id": "f6NI1kdrJ8kJ"
      },
      "source": [
        "from matplotlib.colors import ListedColormap\n",
        "import matplotlib.pyplot as plt"
      ],
      "execution_count": 10,
      "outputs": []
    },
    {
      "cell_type": "code",
      "metadata": {
        "id": "TU5rPh2zLWLP"
      },
      "source": [
        "# 그래프 함수 만들기\n",
        "def plot_decision_regions(X, y, classifier, test_idx = None, resolution = 0.02):\n",
        "  \n",
        "  # 마커와 컬러맵 설정하기\n",
        "  markers = ['s', 'x', 'o', '^', 'v']\n",
        "  colors = ['red', 'blue', 'lightgreen', 'gray', 'cyan']\n",
        "  cmap = ListedColormap(colors[:len(np.unique(y))])\n",
        "\n",
        "  # 결정 경계를 그리기\n",
        "  x1min, x1max = X[:,0].min()-1, X[:,0].max()+1\n",
        "  x2min, x2max = X[:,1].min()-1, X[:,1].max()+1\n",
        "\n",
        "  xx1, xx2 = np.meshgrid(np.arange(x1min, x1max, resolution),\n",
        "                         np.arange(x2min, x2max, resolution))\n",
        "  # meshgrid : 정방행렬로 만들어줌 (n * n 행렬으로 만듦)\n",
        "\n",
        "  Z = classifier.predict(np.array([xx1.ravel(), xx2.ravel()]).T)\n",
        "  # ravel : 다차원 배열을 1차원 배열으로 평평하게 펴줌\n",
        "  Z = Z.reshape(xx1.shape)\n",
        "\n",
        "  plt.contourf(xx1, xx2, Z, alpha = 0.3, cmap = cmap)\n",
        "  # 경계선에 따라 격자로 나누어줌\n",
        "  plt.xlim(xx1.min(), xx1.max())\n",
        "  plt.ylim(xx2.min(), xx2.max())\n",
        "  \n",
        "  # 그래프를 그려줌\n",
        "  for idx, c1 in enumerate(np.unique(y)):\n",
        "    plt.scatter(x = X[y == c1, 0],\n",
        "                y = X[y == c1, 1],\n",
        "                alpha = 0.8,\n",
        "                c = colors[idx],\n",
        "                marker = markers[idx],\n",
        "                label = c1,\n",
        "                edgecolor = 'black')\n",
        "  \n",
        "  # 테스트 샘플을 부각하여 그림 \n",
        "  if test_idx:\n",
        "    X_test, y_test = X[test_idx, :], y[test_idx]\n",
        "\n",
        "    plt.scatter(X_test[:,0],\n",
        "                X_test[:,1],\n",
        "                facecolors = 'none',\n",
        "                edgecolor = 'black',\n",
        "                alpha = 1,\n",
        "                linewidth = 1,\n",
        "                marker = 'o',\n",
        "                s = 100,\n",
        "                label = 'test set')"
      ],
      "execution_count": 11,
      "outputs": []
    },
    {
      "cell_type": "code",
      "metadata": {
        "colab": {
          "base_uri": "https://localhost:8080/"
        },
        "id": "7nPnxtSONPjB",
        "outputId": "07fdf05f-50cd-404e-bd59-91aba9d9e5ab"
      },
      "source": [
        "# meshgrid : 정방행렬로 만들어줌 (n * n 행렬으로 만듦)\n",
        "\n",
        "x1min, x1max = X[:,0].min()-1, X[:,0].max()+1\n",
        "x2min, x2max = X[:,1].min()-1, X[:,1].max()+1\n",
        "\n",
        "xx1, xx2 = np.meshgrid(np.arange(x1min, x1max, 0.02),\n",
        "                         np.arange(x2min, x2max, 0.02))\n",
        "print(len(xx1[0]))\n",
        "print(len(xx1))\n",
        "print(xx1)\n",
        "print(xx2)"
      ],
      "execution_count": 13,
      "outputs": [
        {
          "output_type": "stream",
          "name": "stdout",
          "text": [
            "395\n",
            "220\n",
            "[[0.   0.02 0.04 ... 7.84 7.86 7.88]\n",
            " [0.   0.02 0.04 ... 7.84 7.86 7.88]\n",
            " [0.   0.02 0.04 ... 7.84 7.86 7.88]\n",
            " ...\n",
            " [0.   0.02 0.04 ... 7.84 7.86 7.88]\n",
            " [0.   0.02 0.04 ... 7.84 7.86 7.88]\n",
            " [0.   0.02 0.04 ... 7.84 7.86 7.88]]\n",
            "[[-0.9  -0.9  -0.9  ... -0.9  -0.9  -0.9 ]\n",
            " [-0.88 -0.88 -0.88 ... -0.88 -0.88 -0.88]\n",
            " [-0.86 -0.86 -0.86 ... -0.86 -0.86 -0.86]\n",
            " ...\n",
            " [ 3.44  3.44  3.44 ...  3.44  3.44  3.44]\n",
            " [ 3.46  3.46  3.46 ...  3.46  3.46  3.46]\n",
            " [ 3.48  3.48  3.48 ...  3.48  3.48  3.48]]\n"
          ]
        }
      ]
    },
    {
      "cell_type": "code",
      "metadata": {
        "colab": {
          "base_uri": "https://localhost:8080/",
          "height": 296
        },
        "id": "nHs5oGyGPm2i",
        "outputId": "2d651440-af67-4dda-9ab2-0eec713663b4"
      },
      "source": [
        "Xcombined = np.vstack((train_X, test_X))\n",
        "ycombined = np.hstack((train_Y, test_Y))\n",
        "\n",
        "plot_decision_regions(Xcombined, ycombined,\n",
        "                      tree, test_idx = range(105, 150))\n",
        "\n",
        "plt.xlabel('petal length [cm]')\n",
        "plt.ylabel('petal width [cm]')\n",
        "plt.legend()\n",
        "plt.tight_layout()\n",
        "plt.show()"
      ],
      "execution_count": 14,
      "outputs": [
        {
          "output_type": "display_data",
          "data": {
            "image/png": "[encoded data removed]",
            "text/plain": [
              "<Figure size 432x288 with 1 Axes>"
            ]
          },
          "metadata": {
            "needs_background": "light"
          }
        }
      ]
    },
    {
      "cell_type": "code",
      "metadata": {
        "colab": {
          "base_uri": "https://localhost:8080/"
        },
        "id": "zI2pKm7ZRsXg",
        "outputId": "1e51e37b-fbb2-47b5-8a6b-18e2fa401891"
      },
      "source": [
        "np.vstack((train_X, test_X))\n",
        "# 세로로 붙여주기"
      ],
      "execution_count": 15,
      "outputs": [
        {
          "output_type": "execute_result",
          "data": {
            "text/plain": [
              "array([[1.4, 0.2],\n",
              "       [1.7, 0.2],\n",
              "       [5.3, 2.3],\n",
              "       [5.7, 2.1],\n",
              "       [1.2, 0.2],\n",
              "       [5.6, 2.4],\n",
              "       [6.6, 2.1],\n",
              "       [1.2, 0.2],\n",
              "       [5.8, 1.6],\n",
              "       [4.6, 1.3],\n",
              "       [3.3, 1. ],\n",
              "       [3.9, 1.4],\n",
              "       [1.3, 0.2],\n",
              "       [4.7, 1.2],\n",
              "       [4. , 1.3],\n",
              "       [5.1, 1.9],\n",
              "       [1.9, 0.2],\n",
              "       [3.5, 1. ],\n",
              "       [3.9, 1.2],\n",
              "       [1.6, 0.2],\n",
              "       [4.8, 1.8],\n",
              "       [6.9, 2.3],\n",
              "       [4.5, 1.5],\n",
              "       [4.5, 1.3],\n",
              "       [3.8, 1.1],\n",
              "       [5.6, 2.4],\n",
              "       [4.7, 1.4],\n",
              "       [5.6, 1.4],\n",
              "       [5.8, 2.2],\n",
              "       [5.1, 2.4],\n",
              "       [4.1, 1.3],\n",
              "       [1.5, 0.4],\n",
              "       [6.7, 2.2],\n",
              "       [5. , 1.9],\n",
              "       [4.8, 1.8],\n",
              "       [5.6, 2.1],\n",
              "       [4.2, 1.5],\n",
              "       [6.7, 2. ],\n",
              "       [5.5, 1.8],\n",
              "       [1.6, 0.2],\n",
              "       [4.9, 1.8],\n",
              "       [1.4, 0.2],\n",
              "       [5.1, 1.5],\n",
              "       [1.9, 0.4],\n",
              "       [1. , 0.2],\n",
              "       [4.9, 1.5],\n",
              "       [1.5, 0.2],\n",
              "       [1.1, 0.1],\n",
              "       [5.5, 1.8],\n",
              "       [4.7, 1.5],\n",
              "       [1.7, 0.3],\n",
              "       [3.5, 1. ],\n",
              "       [4.1, 1. ],\n",
              "       [1.5, 0.2],\n",
              "       [1.5, 0.2],\n",
              "       [1.5, 0.2],\n",
              "       [3.7, 1. ],\n",
              "       [6.1, 2.5],\n",
              "       [1.3, 0.3],\n",
              "       [4.9, 1.5],\n",
              "       [1.3, 0.2],\n",
              "       [4.5, 1.6],\n",
              "       [6. , 1.8],\n",
              "       [1.6, 0.2],\n",
              "       [1.4, 0.2],\n",
              "       [4.4, 1.2],\n",
              "       [5.1, 1.9],\n",
              "       [3.6, 1.3],\n",
              "       [4.1, 1.3],\n",
              "       [4.8, 1.8],\n",
              "       [6.1, 2.3],\n",
              "       [4.5, 1.5],\n",
              "       [4.5, 1.5],\n",
              "       [5.4, 2.1],\n",
              "       [5.6, 2.2],\n",
              "       [4.6, 1.4],\n",
              "       [1.5, 0.4],\n",
              "       [1.7, 0.5],\n",
              "       [6.1, 1.9],\n",
              "       [5.1, 1.6],\n",
              "       [6.4, 2. ],\n",
              "       [5. , 1.5],\n",
              "       [1.5, 0.2],\n",
              "       [4.2, 1.3],\n",
              "       [5.1, 2. ],\n",
              "       [6. , 2.5],\n",
              "       [1.5, 0.3],\n",
              "       [1.4, 0.2],\n",
              "       [5.6, 1.8],\n",
              "       [1.4, 0.3],\n",
              "       [5.9, 2.3],\n",
              "       [3.9, 1.1],\n",
              "       [4.2, 1.2],\n",
              "       [4.3, 1.3],\n",
              "       [1.5, 0.1],\n",
              "       [5.2, 2.3],\n",
              "       [4.4, 1.3],\n",
              "       [1.3, 0.2],\n",
              "       [1.4, 0.3],\n",
              "       [5. , 1.7],\n",
              "       [1.3, 0.3],\n",
              "       [4. , 1.2],\n",
              "       [1.6, 0.4],\n",
              "       [1.5, 0.2],\n",
              "       [1.3, 0.2],\n",
              "       [5.4, 2.3],\n",
              "       [1.7, 0.4],\n",
              "       [1.4, 0.3],\n",
              "       [4.5, 1.7],\n",
              "       [4.4, 1.4],\n",
              "       [4. , 1.3],\n",
              "       [5.8, 1.8],\n",
              "       [4.5, 1.5],\n",
              "       [5.3, 1.9],\n",
              "       [1.3, 0.4],\n",
              "       [1.5, 0.4],\n",
              "       [4.9, 1.8],\n",
              "       [1.4, 0.2],\n",
              "       [3.3, 1. ],\n",
              "       [1.4, 0.2],\n",
              "       [4.8, 1.4],\n",
              "       [5.1, 2.3],\n",
              "       [4.5, 1.5],\n",
              "       [4.3, 1.3],\n",
              "       [5.2, 2. ],\n",
              "       [5.9, 2.1],\n",
              "       [1.4, 0.1],\n",
              "       [4.4, 1.4],\n",
              "       [4.9, 2. ],\n",
              "       [4.2, 1.3],\n",
              "       [4.7, 1.6],\n",
              "       [3. , 1.1],\n",
              "       [5.7, 2.5],\n",
              "       [1.6, 0.6],\n",
              "       [5. , 2. ],\n",
              "       [1.6, 0.2],\n",
              "       [1.4, 0.2],\n",
              "       [4. , 1. ],\n",
              "       [4. , 1.3],\n",
              "       [6.3, 1.8],\n",
              "       [5.5, 2.1],\n",
              "       [1.4, 0.1],\n",
              "       [1.6, 0.2],\n",
              "       [1.4, 0.2],\n",
              "       [4.7, 1.4],\n",
              "       [5.7, 2.3],\n",
              "       [5.1, 1.8],\n",
              "       [4.6, 1.5],\n",
              "       [1.5, 0.2],\n",
              "       [1.5, 0.1]])"
            ]
          },
          "metadata": {},
          "execution_count": 15
        }
      ]
    },
    {
      "cell_type": "code",
      "metadata": {
        "colab": {
          "base_uri": "https://localhost:8080/"
        },
        "id": "PkQ3UUcuR0Y1",
        "outputId": "ec7bff67-c2f9-4c43-8e88-46a219abd9b1"
      },
      "source": [
        "np.hstack((train_Y, test_Y))\n",
        "# hstack : 가로로 붙여주기"
      ],
      "execution_count": 16,
      "outputs": [
        {
          "output_type": "execute_result",
          "data": {
            "text/plain": [
              "array([0, 0, 2, 2, 0, 2, 2, 0, 2, 1, 1, 1, 0, 1, 1, 2, 0, 1, 1, 0, 2, 2,\n",
              "       1, 1, 1, 2, 1, 2, 2, 2, 1, 0, 2, 2, 2, 2, 1, 2, 2, 0, 2, 0, 2, 0,\n",
              "       0, 1, 0, 0, 2, 1, 0, 1, 1, 0, 0, 0, 1, 2, 0, 1, 0, 1, 2, 0, 0, 1,\n",
              "       2, 1, 1, 1, 2, 1, 1, 2, 2, 1, 0, 0, 2, 1, 2, 2, 0, 1, 2, 2, 0, 0,\n",
              "       2, 0, 2, 1, 1, 1, 0, 2, 1, 0, 0, 1, 0, 1, 0, 0, 0, 2, 0, 0, 2, 1,\n",
              "       1, 2, 1, 2, 0, 0, 2, 0, 1, 0, 1, 2, 1, 1, 2, 2, 0, 1, 2, 1, 1, 1,\n",
              "       2, 0, 2, 0, 0, 1, 1, 2, 2, 0, 0, 0, 1, 2, 2, 1, 0, 0])"
            ]
          },
          "metadata": {},
          "execution_count": 16
        }
      ]
    },
    {
      "cell_type": "markdown",
      "metadata": {
        "id": "f1HBbGs3Sh8C"
      },
      "source": [
        "## KNN 알고리즘"
      ]
    },
    {
      "cell_type": "markdown",
      "metadata": {
        "id": "GTt91i5YSwhf"
      },
      "source": [
        "### 데이터 표준화"
      ]
    },
    {
      "cell_type": "code",
      "metadata": {
        "id": "qnWUUIqtR4fS"
      },
      "source": [
        "from sklearn.preprocessing import StandardScaler\n",
        "\n",
        "sc = StandardScaler() # 데이터 표준화 준비과정\n",
        "sc.fit(train_X) # 학습 과정\n",
        "\n",
        "# 데이터 표준화\n",
        "train_X_std = sc.transform(train_X)\n",
        "test_X_std = sc.transform(test_X)"
      ],
      "execution_count": 17,
      "outputs": []
    },
    {
      "cell_type": "code",
      "metadata": {
        "colab": {
          "base_uri": "https://localhost:8080/"
        },
        "id": "EVPBAO-RSu7r",
        "outputId": "ed24beac-5a8a-4268-d1d9-bf10e34270c3"
      },
      "source": [
        "from sklearn.neighbors import KNeighborsClassifier\n",
        "\n",
        "# 모델 만들기\n",
        "knn = KNeighborsClassifier(n_neighbors = 5,\n",
        "                           metric = 'minkowski')\n",
        "\n",
        "# 학습시키기\n",
        "knn.fit(train_X_std, train_Y)"
      ],
      "execution_count": 18,
      "outputs": [
        {
          "output_type": "execute_result",
          "data": {
            "text/plain": [
              "KNeighborsClassifier(algorithm='auto', leaf_size=30, metric='minkowski',\n",
              "                     metric_params=None, n_jobs=None, n_neighbors=5, p=2,\n",
              "                     weights='uniform')"
            ]
          },
          "metadata": {},
          "execution_count": 18
        }
      ]
    },
    {
      "cell_type": "markdown",
      "metadata": {
        "id": "2t_9HDXTTqf3"
      },
      "source": [
        "### 시각화"
      ]
    },
    {
      "cell_type": "code",
      "metadata": {
        "colab": {
          "base_uri": "https://localhost:8080/",
          "height": 296
        },
        "id": "1qWLaf1oTRl5",
        "outputId": "d8029e0c-58d0-4c95-ebef-b61ae0d2e946"
      },
      "source": [
        "Xcombined_std = np.vstack((train_X_std, test_X_std))\n",
        "ycombined = np.hstack((train_Y, test_Y))\n",
        "\n",
        "plot_decision_regions(Xcombined_std, ycombined,\n",
        "                      knn, test_idx = range(105, 150))\n",
        "\n",
        "plt.xlabel('petal length [standardized]')\n",
        "plt.ylabel('petal width [standardized]')\n",
        "plt.legend()\n",
        "plt.tight_layout()\n",
        "plt.show()"
      ],
      "execution_count": 19,
      "outputs": [
        {
          "output_type": "display_data",
          "data": {
            "image/png": "[encoded data removed]",
            "text/plain": [
              "<Figure size 432x288 with 1 Axes>"
            ]
          },
          "metadata": {
            "needs_background": "light"
          }
        }
      ]
    }
  ]
}